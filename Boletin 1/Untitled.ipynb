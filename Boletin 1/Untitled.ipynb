{
 "cells": [
  {
   "cell_type": "code",
   "execution_count": 14,
   "metadata": {},
   "outputs": [],
   "source": [
    "import pandas as pd\n",
    "import numpy as np\n",
    "import altair as alt\n",
    "import seaborn as sns\n",
    "from sklearn.linear_model import LinearRegression\n",
    "from sklearn.pipeline import Pipeline\n",
    "from sklearn.preprocessing import PolynomialFeatures\n",
    "from sklearn.metrics import mean_squared_error"
   ]
  },
  {
   "cell_type": "code",
   "execution_count": 5,
   "metadata": {},
   "outputs": [],
   "source": [
    "pd.options.display.float_format='{:,.2f}'.format\n",
    "import warnings\n",
    "warnings.simplefilter(\"ignore\")"
   ]
  },
  {
   "cell_type": "code",
   "execution_count": 75,
   "metadata": {},
   "outputs": [
    {
     "data": {
      "text/html": [
       "<div>\n",
       "<style scoped>\n",
       "    .dataframe tbody tr th:only-of-type {\n",
       "        vertical-align: middle;\n",
       "    }\n",
       "\n",
       "    .dataframe tbody tr th {\n",
       "        vertical-align: top;\n",
       "    }\n",
       "\n",
       "    .dataframe thead th {\n",
       "        text-align: right;\n",
       "    }\n",
       "</style>\n",
       "<table border=\"1\" class=\"dataframe\">\n",
       "  <thead>\n",
       "    <tr style=\"text-align: right;\">\n",
       "      <th></th>\n",
       "      <th>Country Name</th>\n",
       "      <th>Country Code</th>\n",
       "      <th>Indicator Name</th>\n",
       "      <th>Indicator Code</th>\n",
       "      <th>1960</th>\n",
       "      <th>1961</th>\n",
       "      <th>1962</th>\n",
       "      <th>1963</th>\n",
       "      <th>1964</th>\n",
       "      <th>1965</th>\n",
       "      <th>...</th>\n",
       "      <th>2011</th>\n",
       "      <th>2012</th>\n",
       "      <th>2013</th>\n",
       "      <th>2014</th>\n",
       "      <th>2015</th>\n",
       "      <th>2016</th>\n",
       "      <th>2017</th>\n",
       "      <th>2018</th>\n",
       "      <th>2019</th>\n",
       "      <th>2020</th>\n",
       "    </tr>\n",
       "  </thead>\n",
       "  <tbody>\n",
       "    <tr>\n",
       "      <th>0</th>\n",
       "      <td>Aruba</td>\n",
       "      <td>ABW</td>\n",
       "      <td>PIB per cápita (UMN actual)</td>\n",
       "      <td>NY.GDP.PCAP.CN</td>\n",
       "      <td>nan</td>\n",
       "      <td>nan</td>\n",
       "      <td>nan</td>\n",
       "      <td>nan</td>\n",
       "      <td>nan</td>\n",
       "      <td>nan</td>\n",
       "      <td>...</td>\n",
       "      <td>44,724.93</td>\n",
       "      <td>44,237.52</td>\n",
       "      <td>46,879.09</td>\n",
       "      <td>47,699.81</td>\n",
       "      <td>50,085.78</td>\n",
       "      <td>50,623.62</td>\n",
       "      <td>51,923.77</td>\n",
       "      <td>nan</td>\n",
       "      <td>nan</td>\n",
       "      <td>nan</td>\n",
       "    </tr>\n",
       "    <tr>\n",
       "      <th>1</th>\n",
       "      <td>Afganistán</td>\n",
       "      <td>AFG</td>\n",
       "      <td>PIB per cápita (UMN actual)</td>\n",
       "      <td>NY.GDP.PCAP.CN</td>\n",
       "      <td>2,689.79</td>\n",
       "      <td>2,693.74</td>\n",
       "      <td>2,630.61</td>\n",
       "      <td>3,541.79</td>\n",
       "      <td>3,694.29</td>\n",
       "      <td>4,549.87</td>\n",
       "      <td>...</td>\n",
       "      <td>28,234.41</td>\n",
       "      <td>33,015.04</td>\n",
       "      <td>35,290.50</td>\n",
       "      <td>35,254.46</td>\n",
       "      <td>35,531.20</td>\n",
       "      <td>34,562.15</td>\n",
       "      <td>35,415.64</td>\n",
       "      <td>35,717.12</td>\n",
       "      <td>38,631.14</td>\n",
       "      <td>nan</td>\n",
       "    </tr>\n",
       "    <tr>\n",
       "      <th>2</th>\n",
       "      <td>Angola</td>\n",
       "      <td>AGO</td>\n",
       "      <td>PIB per cápita (UMN actual)</td>\n",
       "      <td>NY.GDP.PCAP.CN</td>\n",
       "      <td>nan</td>\n",
       "      <td>nan</td>\n",
       "      <td>nan</td>\n",
       "      <td>nan</td>\n",
       "      <td>nan</td>\n",
       "      <td>nan</td>\n",
       "      <td>...</td>\n",
       "      <td>433,553.07</td>\n",
       "      <td>486,895.95</td>\n",
       "      <td>507,192.31</td>\n",
       "      <td>531,659.73</td>\n",
       "      <td>500,290.50</td>\n",
       "      <td>573,791.27</td>\n",
       "      <td>679,560.90</td>\n",
       "      <td>831,805.91</td>\n",
       "      <td>1,018,129.07</td>\n",
       "      <td>nan</td>\n",
       "    </tr>\n",
       "    <tr>\n",
       "      <th>3</th>\n",
       "      <td>Albania</td>\n",
       "      <td>ALB</td>\n",
       "      <td>PIB per cápita (UMN actual)</td>\n",
       "      <td>NY.GDP.PCAP.CN</td>\n",
       "      <td>nan</td>\n",
       "      <td>nan</td>\n",
       "      <td>nan</td>\n",
       "      <td>nan</td>\n",
       "      <td>nan</td>\n",
       "      <td>nan</td>\n",
       "      <td>...</td>\n",
       "      <td>447,689.08</td>\n",
       "      <td>459,526.45</td>\n",
       "      <td>466,324.61</td>\n",
       "      <td>482,954.10</td>\n",
       "      <td>497,901.56</td>\n",
       "      <td>511,970.59</td>\n",
       "      <td>539,644.58</td>\n",
       "      <td>570,655.99</td>\n",
       "      <td>588,058.23</td>\n",
       "      <td>nan</td>\n",
       "    </tr>\n",
       "    <tr>\n",
       "      <th>4</th>\n",
       "      <td>Andorra</td>\n",
       "      <td>AND</td>\n",
       "      <td>PIB per cápita (UMN actual)</td>\n",
       "      <td>NY.GDP.PCAP.CN</td>\n",
       "      <td>nan</td>\n",
       "      <td>nan</td>\n",
       "      <td>nan</td>\n",
       "      <td>nan</td>\n",
       "      <td>nan</td>\n",
       "      <td>nan</td>\n",
       "      <td>...</td>\n",
       "      <td>31,132.10</td>\n",
       "      <td>30,109.67</td>\n",
       "      <td>29,768.74</td>\n",
       "      <td>31,089.47</td>\n",
       "      <td>32,232.76</td>\n",
       "      <td>33,854.61</td>\n",
       "      <td>34,489.94</td>\n",
       "      <td>35,390.36</td>\n",
       "      <td>36,523.81</td>\n",
       "      <td>nan</td>\n",
       "    </tr>\n",
       "  </tbody>\n",
       "</table>\n",
       "<p>5 rows × 65 columns</p>\n",
       "</div>"
      ],
      "text/plain": [
       "  Country Name Country Code               Indicator Name  Indicator Code  \\\n",
       "0        Aruba          ABW  PIB per cápita (UMN actual)  NY.GDP.PCAP.CN   \n",
       "1   Afganistán          AFG  PIB per cápita (UMN actual)  NY.GDP.PCAP.CN   \n",
       "2       Angola          AGO  PIB per cápita (UMN actual)  NY.GDP.PCAP.CN   \n",
       "3      Albania          ALB  PIB per cápita (UMN actual)  NY.GDP.PCAP.CN   \n",
       "4      Andorra          AND  PIB per cápita (UMN actual)  NY.GDP.PCAP.CN   \n",
       "\n",
       "      1960     1961     1962     1963     1964     1965  ...       2011  \\\n",
       "0      nan      nan      nan      nan      nan      nan  ...  44,724.93   \n",
       "1 2,689.79 2,693.74 2,630.61 3,541.79 3,694.29 4,549.87  ...  28,234.41   \n",
       "2      nan      nan      nan      nan      nan      nan  ... 433,553.07   \n",
       "3      nan      nan      nan      nan      nan      nan  ... 447,689.08   \n",
       "4      nan      nan      nan      nan      nan      nan  ...  31,132.10   \n",
       "\n",
       "        2012       2013       2014       2015       2016       2017  \\\n",
       "0  44,237.52  46,879.09  47,699.81  50,085.78  50,623.62  51,923.77   \n",
       "1  33,015.04  35,290.50  35,254.46  35,531.20  34,562.15  35,415.64   \n",
       "2 486,895.95 507,192.31 531,659.73 500,290.50 573,791.27 679,560.90   \n",
       "3 459,526.45 466,324.61 482,954.10 497,901.56 511,970.59 539,644.58   \n",
       "4  30,109.67  29,768.74  31,089.47  32,232.76  33,854.61  34,489.94   \n",
       "\n",
       "        2018         2019  2020  \n",
       "0        nan          nan   nan  \n",
       "1  35,717.12    38,631.14   nan  \n",
       "2 831,805.91 1,018,129.07   nan  \n",
       "3 570,655.99   588,058.23   nan  \n",
       "4  35,390.36    36,523.81   nan  \n",
       "\n",
       "[5 rows x 65 columns]"
      ]
     },
     "execution_count": 75,
     "metadata": {},
     "output_type": "execute_result"
    }
   ],
   "source": [
    "df= pd.read_csv('PIB_Ecuador.csv',sep=',')\n",
    "df.head()"
   ]
  },
  {
   "cell_type": "code",
   "execution_count": 77,
   "metadata": {},
   "outputs": [],
   "source": [
    "\n",
    "df = df[df['Country Name']=='Ecuador']\n"
   ]
  },
  {
   "cell_type": "code",
   "execution_count": 78,
   "metadata": {},
   "outputs": [
    {
     "data": {
      "text/html": [
       "<div>\n",
       "<style scoped>\n",
       "    .dataframe tbody tr th:only-of-type {\n",
       "        vertical-align: middle;\n",
       "    }\n",
       "\n",
       "    .dataframe tbody tr th {\n",
       "        vertical-align: top;\n",
       "    }\n",
       "\n",
       "    .dataframe thead th {\n",
       "        text-align: right;\n",
       "    }\n",
       "</style>\n",
       "<table border=\"1\" class=\"dataframe\">\n",
       "  <thead>\n",
       "    <tr style=\"text-align: right;\">\n",
       "      <th></th>\n",
       "      <th>Country Name</th>\n",
       "      <th>Country Code</th>\n",
       "      <th>Indicator Name</th>\n",
       "      <th>Indicator Code</th>\n",
       "      <th>1960</th>\n",
       "      <th>1961</th>\n",
       "      <th>1962</th>\n",
       "      <th>1963</th>\n",
       "      <th>1964</th>\n",
       "      <th>1965</th>\n",
       "      <th>...</th>\n",
       "      <th>2011</th>\n",
       "      <th>2012</th>\n",
       "      <th>2013</th>\n",
       "      <th>2014</th>\n",
       "      <th>2015</th>\n",
       "      <th>2016</th>\n",
       "      <th>2017</th>\n",
       "      <th>2018</th>\n",
       "      <th>2019</th>\n",
       "      <th>2020</th>\n",
       "    </tr>\n",
       "  </thead>\n",
       "  <tbody>\n",
       "    <tr>\n",
       "      <th>64</th>\n",
       "      <td>Ecuador</td>\n",
       "      <td>ECU</td>\n",
       "      <td>PIB per cápita (UMN actual)</td>\n",
       "      <td>NY.GDP.PCAP.CN</td>\n",
       "      <td>379.37</td>\n",
       "      <td>343.79</td>\n",
       "      <td>315.54</td>\n",
       "      <td>368.45</td>\n",
       "      <td>440.35</td>\n",
       "      <td>454.98</td>\n",
       "      <td>...</td>\n",
       "      <td>5,200.56</td>\n",
       "      <td>5,682.05</td>\n",
       "      <td>6,056.33</td>\n",
       "      <td>6,377.09</td>\n",
       "      <td>6,124.49</td>\n",
       "      <td>6,060.09</td>\n",
       "      <td>6,213.50</td>\n",
       "      <td>6,295.94</td>\n",
       "      <td>6,183.82</td>\n",
       "      <td>nan</td>\n",
       "    </tr>\n",
       "  </tbody>\n",
       "</table>\n",
       "<p>1 rows × 65 columns</p>\n",
       "</div>"
      ],
      "text/plain": [
       "   Country Name Country Code               Indicator Name  Indicator Code  \\\n",
       "64      Ecuador          ECU  PIB per cápita (UMN actual)  NY.GDP.PCAP.CN   \n",
       "\n",
       "     1960   1961   1962   1963   1964   1965  ...     2011     2012     2013  \\\n",
       "64 379.37 343.79 315.54 368.45 440.35 454.98  ... 5,200.56 5,682.05 6,056.33   \n",
       "\n",
       "       2014     2015     2016     2017     2018     2019  2020  \n",
       "64 6,377.09 6,124.49 6,060.09 6,213.50 6,295.94 6,183.82   nan  \n",
       "\n",
       "[1 rows x 65 columns]"
      ]
     },
     "execution_count": 78,
     "metadata": {},
     "output_type": "execute_result"
    }
   ],
   "source": [
    "df.head()\n"
   ]
  },
  {
   "cell_type": "code",
   "execution_count": 79,
   "metadata": {},
   "outputs": [],
   "source": [
    "df = df[df['Country Name']=='Ecuador']\n",
    "df = pd.DataFrame(df.iloc[0].loc['1960':])"
   ]
  },
  {
   "cell_type": "code",
   "execution_count": 80,
   "metadata": {},
   "outputs": [
    {
     "data": {
      "text/html": [
       "<div>\n",
       "<style scoped>\n",
       "    .dataframe tbody tr th:only-of-type {\n",
       "        vertical-align: middle;\n",
       "    }\n",
       "\n",
       "    .dataframe tbody tr th {\n",
       "        vertical-align: top;\n",
       "    }\n",
       "\n",
       "    .dataframe thead th {\n",
       "        text-align: right;\n",
       "    }\n",
       "</style>\n",
       "<table border=\"1\" class=\"dataframe\">\n",
       "  <thead>\n",
       "    <tr style=\"text-align: right;\">\n",
       "      <th></th>\n",
       "      <th>64</th>\n",
       "    </tr>\n",
       "  </thead>\n",
       "  <tbody>\n",
       "    <tr>\n",
       "      <th>1960</th>\n",
       "      <td>379.37</td>\n",
       "    </tr>\n",
       "    <tr>\n",
       "      <th>1961</th>\n",
       "      <td>343.79</td>\n",
       "    </tr>\n",
       "    <tr>\n",
       "      <th>1962</th>\n",
       "      <td>315.54</td>\n",
       "    </tr>\n",
       "    <tr>\n",
       "      <th>1963</th>\n",
       "      <td>368.45</td>\n",
       "    </tr>\n",
       "    <tr>\n",
       "      <th>1964</th>\n",
       "      <td>440.35</td>\n",
       "    </tr>\n",
       "  </tbody>\n",
       "</table>\n",
       "</div>"
      ],
      "text/plain": [
       "         64\n",
       "1960 379.37\n",
       "1961 343.79\n",
       "1962 315.54\n",
       "1963 368.45\n",
       "1964 440.35"
      ]
     },
     "execution_count": 80,
     "metadata": {},
     "output_type": "execute_result"
    }
   ],
   "source": [
    "df.head()"
   ]
  },
  {
   "cell_type": "code",
   "execution_count": 81,
   "metadata": {},
   "outputs": [],
   "source": [
    "df.reset_index(inplace=True)\n",
    "df.columns = ['year','pib_value']"
   ]
  },
  {
   "cell_type": "code",
   "execution_count": 82,
   "metadata": {},
   "outputs": [
    {
     "data": {
      "text/html": [
       "<div>\n",
       "<style scoped>\n",
       "    .dataframe tbody tr th:only-of-type {\n",
       "        vertical-align: middle;\n",
       "    }\n",
       "\n",
       "    .dataframe tbody tr th {\n",
       "        vertical-align: top;\n",
       "    }\n",
       "\n",
       "    .dataframe thead th {\n",
       "        text-align: right;\n",
       "    }\n",
       "</style>\n",
       "<table border=\"1\" class=\"dataframe\">\n",
       "  <thead>\n",
       "    <tr style=\"text-align: right;\">\n",
       "      <th></th>\n",
       "      <th>year</th>\n",
       "      <th>pib_value</th>\n",
       "    </tr>\n",
       "  </thead>\n",
       "  <tbody>\n",
       "    <tr>\n",
       "      <th>0</th>\n",
       "      <td>1960</td>\n",
       "      <td>379.37</td>\n",
       "    </tr>\n",
       "    <tr>\n",
       "      <th>1</th>\n",
       "      <td>1961</td>\n",
       "      <td>343.79</td>\n",
       "    </tr>\n",
       "    <tr>\n",
       "      <th>2</th>\n",
       "      <td>1962</td>\n",
       "      <td>315.54</td>\n",
       "    </tr>\n",
       "    <tr>\n",
       "      <th>3</th>\n",
       "      <td>1963</td>\n",
       "      <td>368.45</td>\n",
       "    </tr>\n",
       "    <tr>\n",
       "      <th>4</th>\n",
       "      <td>1964</td>\n",
       "      <td>440.35</td>\n",
       "    </tr>\n",
       "  </tbody>\n",
       "</table>\n",
       "</div>"
      ],
      "text/plain": [
       "   year pib_value\n",
       "0  1960    379.37\n",
       "1  1961    343.79\n",
       "2  1962    315.54\n",
       "3  1963    368.45\n",
       "4  1964    440.35"
      ]
     },
     "execution_count": 82,
     "metadata": {},
     "output_type": "execute_result"
    }
   ],
   "source": [
    "df.head()"
   ]
  },
  {
   "cell_type": "code",
   "execution_count": 83,
   "metadata": {},
   "outputs": [
    {
     "data": {
      "text/html": [
       "\n",
       "<div id=\"altair-viz-d608391213fd4f3f95b0269b2ca0dfd5\"></div>\n",
       "<script type=\"text/javascript\">\n",
       "  (function(spec, embedOpt){\n",
       "    let outputDiv = document.currentScript.previousElementSibling;\n",
       "    if (outputDiv.id !== \"altair-viz-d608391213fd4f3f95b0269b2ca0dfd5\") {\n",
       "      outputDiv = document.getElementById(\"altair-viz-d608391213fd4f3f95b0269b2ca0dfd5\");\n",
       "    }\n",
       "    const paths = {\n",
       "      \"vega\": \"https://cdn.jsdelivr.net/npm//vega@5?noext\",\n",
       "      \"vega-lib\": \"https://cdn.jsdelivr.net/npm//vega-lib?noext\",\n",
       "      \"vega-lite\": \"https://cdn.jsdelivr.net/npm//vega-lite@4.8.1?noext\",\n",
       "      \"vega-embed\": \"https://cdn.jsdelivr.net/npm//vega-embed@6?noext\",\n",
       "    };\n",
       "\n",
       "    function loadScript(lib) {\n",
       "      return new Promise(function(resolve, reject) {\n",
       "        var s = document.createElement('script');\n",
       "        s.src = paths[lib];\n",
       "        s.async = true;\n",
       "        s.onload = () => resolve(paths[lib]);\n",
       "        s.onerror = () => reject(`Error loading script: ${paths[lib]}`);\n",
       "        document.getElementsByTagName(\"head\")[0].appendChild(s);\n",
       "      });\n",
       "    }\n",
       "\n",
       "    function showError(err) {\n",
       "      outputDiv.innerHTML = `<div class=\"error\" style=\"color:red;\">${err}</div>`;\n",
       "      throw err;\n",
       "    }\n",
       "\n",
       "    function displayChart(vegaEmbed) {\n",
       "      vegaEmbed(outputDiv, spec, embedOpt)\n",
       "        .catch(err => showError(`Javascript Error: ${err.message}<br>This usually means there's a typo in your chart specification. See the javascript console for the full traceback.`));\n",
       "    }\n",
       "\n",
       "    if(typeof define === \"function\" && define.amd) {\n",
       "      requirejs.config({paths});\n",
       "      require([\"vega-embed\"], displayChart, err => showError(`Error loading script: ${err.message}`));\n",
       "    } else if (typeof vegaEmbed === \"function\") {\n",
       "      displayChart(vegaEmbed);\n",
       "    } else {\n",
       "      loadScript(\"vega\")\n",
       "        .then(() => loadScript(\"vega-lite\"))\n",
       "        .then(() => loadScript(\"vega-embed\"))\n",
       "        .catch(showError)\n",
       "        .then(() => displayChart(vegaEmbed));\n",
       "    }\n",
       "  })({\"config\": {\"view\": {\"continuousWidth\": 400, \"continuousHeight\": 300}}, \"data\": {\"name\": \"data-0fb77e18b076a2651f51f634321496d2\"}, \"mark\": \"line\", \"encoding\": {\"color\": {\"type\": \"nominal\", \"field\": \"variable\"}, \"x\": {\"type\": \"nominal\", \"field\": \"year\"}, \"y\": {\"type\": \"quantitative\", \"field\": \"value\", \"title\": \"PIB value $\"}}, \"title\": \"PIB Ecuador\", \"$schema\": \"https://vega.github.io/schema/vega-lite/v4.8.1.json\", \"datasets\": {\"data-0fb77e18b076a2651f51f634321496d2\": [{\"year\": \"1960\", \"variable\": \"pib_value\", \"value\": 379.36936990884004}, {\"year\": \"1961\", \"variable\": \"pib_value\", \"value\": 343.788289938134}, {\"year\": \"1962\", \"variable\": \"pib_value\", \"value\": 315.536922326771}, {\"year\": \"1963\", \"variable\": \"pib_value\", \"value\": 368.453256826398}, {\"year\": \"1964\", \"variable\": \"pib_value\", \"value\": 440.348537118614}, {\"year\": \"1965\", \"variable\": \"pib_value\", \"value\": 454.97987500708}, {\"year\": \"1966\", \"variable\": \"pib_value\", \"value\": 449.704616531177}, {\"year\": \"1967\", \"variable\": \"pib_value\", \"value\": 459.058721455997}, {\"year\": \"1968\", \"variable\": \"pib_value\", \"value\": 450.783596564048}, {\"year\": \"1969\", \"variable\": \"pib_value\", \"value\": 527.647388194832}, {\"year\": \"1970\", \"variable\": \"pib_value\", \"value\": 471.404638631714}, {\"year\": \"1971\", \"variable\": \"pib_value\", \"value\": 440.646039691918}, {\"year\": \"1972\", \"variable\": \"pib_value\", \"value\": 495.298223980885}, {\"year\": \"1973\", \"variable\": \"pib_value\", \"value\": 588.054773182069}, {\"year\": \"1974\", \"variable\": \"pib_value\", \"value\": 969.5464540633341}, {\"year\": \"1975\", \"variable\": \"pib_value\", \"value\": 1104.89018682837}, {\"year\": \"1976\", \"variable\": \"pib_value\", \"value\": 1264.30652438643}, {\"year\": \"1977\", \"variable\": \"pib_value\", \"value\": 1492.61551488111}, {\"year\": \"1978\", \"variable\": \"pib_value\", \"value\": 1571.64761387395}, {\"year\": \"1979\", \"variable\": \"pib_value\", \"value\": 1820.1747106141897}, {\"year\": \"1980\", \"variable\": \"pib_value\", \"value\": 2237.14193160605}, {\"year\": \"1981\", \"variable\": \"pib_value\", \"value\": 2659.33611234046}, {\"year\": \"1982\", \"variable\": \"pib_value\", \"value\": 2368.81431569945}, {\"year\": \"1983\", \"variable\": \"pib_value\", \"value\": 1987.8339780400102}, {\"year\": \"1984\", \"variable\": \"pib_value\", \"value\": 1911.5147438865}, {\"year\": \"1985\", \"variable\": \"pib_value\", \"value\": 1890.65386264383}, {\"year\": \"1986\", \"variable\": \"pib_value\", \"value\": 1647.22580875663}, {\"year\": \"1987\", \"variable\": \"pib_value\", \"value\": 1463.7912240243}, {\"year\": \"1988\", \"variable\": \"pib_value\", \"value\": 1337.24815308246}, {\"year\": \"1989\", \"variable\": \"pib_value\", \"value\": 1389.5467014682902}, {\"year\": \"1990\", \"variable\": \"pib_value\", \"value\": 1488.8154884001801}, {\"year\": \"1991\", \"variable\": \"pib_value\", \"value\": 1621.39713868976}, {\"year\": \"1992\", \"variable\": \"pib_value\", \"value\": 1687.6608148334199}, {\"year\": \"1993\", \"variable\": \"pib_value\", \"value\": 1726.89018056526}, {\"year\": \"1994\", \"variable\": \"pib_value\", \"value\": 2025.09965871702}, {\"year\": \"1995\", \"variable\": \"pib_value\", \"value\": 2131.84051545481}, {\"year\": \"1996\", \"variable\": \"pib_value\", \"value\": 2154.43947086491}, {\"year\": \"1997\", \"variable\": \"pib_value\", \"value\": 2355.19265776242}, {\"year\": \"1998\", \"variable\": \"pib_value\", \"value\": 2292.74279049738}, {\"year\": \"1999\", \"variable\": \"pib_value\", \"value\": 1578.1440695573099}, {\"year\": \"2000\", \"variable\": \"pib_value\", \"value\": 1444.5566847668}, {\"year\": \"2001\", \"variable\": \"pib_value\", \"value\": 1894.61516893932}, {\"year\": \"2002\", \"variable\": \"pib_value\", \"value\": 2172.1018772447}, {\"year\": \"2003\", \"variable\": \"pib_value\", \"value\": 2425.85184175715}, {\"year\": \"2004\", \"variable\": \"pib_value\", \"value\": 2691.27808061965}, {\"year\": \"2005\", \"variable\": \"pib_value\", \"value\": 3002.13686727475}, {\"year\": \"2006\", \"variable\": \"pib_value\", \"value\": 3328.88297239765}, {\"year\": \"2007\", \"variable\": \"pib_value\", \"value\": 3567.83643782206}, {\"year\": \"2008\", \"variable\": \"pib_value\", \"value\": 4249.01926210976}, {\"year\": \"2009\", \"variable\": \"pib_value\", \"value\": 4231.615797678471}, {\"year\": \"2010\", \"variable\": \"pib_value\", \"value\": 4633.59035839904}, {\"year\": \"2011\", \"variable\": \"pib_value\", \"value\": 5200.55579014874}, {\"year\": \"2012\", \"variable\": \"pib_value\", \"value\": 5682.045006553531}, {\"year\": \"2013\", \"variable\": \"pib_value\", \"value\": 6056.3308269681}, {\"year\": \"2014\", \"variable\": \"pib_value\", \"value\": 6377.09153014217}, {\"year\": \"2015\", \"variable\": \"pib_value\", \"value\": 6124.49164262072}, {\"year\": \"2016\", \"variable\": \"pib_value\", \"value\": 6060.09332904416}, {\"year\": \"2017\", \"variable\": \"pib_value\", \"value\": 6213.50127649921}, {\"year\": \"2018\", \"variable\": \"pib_value\", \"value\": 6295.93539868079}, {\"year\": \"2019\", \"variable\": \"pib_value\", \"value\": 6183.823824821729}, {\"year\": \"2020\", \"variable\": \"pib_value\", \"value\": null}]}}, {\"mode\": \"vega-lite\"});\n",
       "</script>"
      ],
      "text/plain": [
       "alt.Chart(...)"
      ]
     },
     "execution_count": 83,
     "metadata": {},
     "output_type": "execute_result"
    }
   ],
   "source": [
    "alt.Chart(df.melt('year')).mark_line().encode(\n",
    "x='year',\n",
    "y=alt.Y('value',title='PIB value $'),\n",
    "color='variable'\n",
    ").properties(title='PIB Ecuador')"
   ]
  },
  {
   "cell_type": "code",
   "execution_count": 84,
   "metadata": {},
   "outputs": [
    {
     "data": {
      "text/html": [
       "<div>\n",
       "<style scoped>\n",
       "    .dataframe tbody tr th:only-of-type {\n",
       "        vertical-align: middle;\n",
       "    }\n",
       "\n",
       "    .dataframe tbody tr th {\n",
       "        vertical-align: top;\n",
       "    }\n",
       "\n",
       "    .dataframe thead th {\n",
       "        text-align: right;\n",
       "    }\n",
       "</style>\n",
       "<table border=\"1\" class=\"dataframe\">\n",
       "  <thead>\n",
       "    <tr style=\"text-align: right;\">\n",
       "      <th></th>\n",
       "      <th>year</th>\n",
       "      <th>pib_value</th>\n",
       "      <th>change</th>\n",
       "    </tr>\n",
       "  </thead>\n",
       "  <tbody>\n",
       "    <tr>\n",
       "      <th>0</th>\n",
       "      <td>1960</td>\n",
       "      <td>379.37</td>\n",
       "      <td>0.00</td>\n",
       "    </tr>\n",
       "    <tr>\n",
       "      <th>1</th>\n",
       "      <td>1961</td>\n",
       "      <td>343.79</td>\n",
       "      <td>-10.35</td>\n",
       "    </tr>\n",
       "    <tr>\n",
       "      <th>2</th>\n",
       "      <td>1962</td>\n",
       "      <td>315.54</td>\n",
       "      <td>-8.95</td>\n",
       "    </tr>\n",
       "    <tr>\n",
       "      <th>3</th>\n",
       "      <td>1963</td>\n",
       "      <td>368.45</td>\n",
       "      <td>14.36</td>\n",
       "    </tr>\n",
       "    <tr>\n",
       "      <th>4</th>\n",
       "      <td>1964</td>\n",
       "      <td>440.35</td>\n",
       "      <td>16.33</td>\n",
       "    </tr>\n",
       "  </tbody>\n",
       "</table>\n",
       "</div>"
      ],
      "text/plain": [
       "   year  pib_value  change\n",
       "0  1960     379.37    0.00\n",
       "1  1961     343.79  -10.35\n",
       "2  1962     315.54   -8.95\n",
       "3  1963     368.45   14.36\n",
       "4  1964     440.35   16.33"
      ]
     },
     "execution_count": 84,
     "metadata": {},
     "output_type": "execute_result"
    }
   ],
   "source": [
    "df['change']=df['pib_value'].diff()\n",
    "df['change']=(df['change']/df['pib_value']) *100\n",
    "df=df.fillna(0)\n",
    "df.head()"
   ]
  },
  {
   "cell_type": "code",
   "execution_count": 85,
   "metadata": {},
   "outputs": [
    {
     "data": {
      "text/html": [
       "\n",
       "<div id=\"altair-viz-fc47f651b4f04f8094c67aa7efd2588d\"></div>\n",
       "<script type=\"text/javascript\">\n",
       "  (function(spec, embedOpt){\n",
       "    let outputDiv = document.currentScript.previousElementSibling;\n",
       "    if (outputDiv.id !== \"altair-viz-fc47f651b4f04f8094c67aa7efd2588d\") {\n",
       "      outputDiv = document.getElementById(\"altair-viz-fc47f651b4f04f8094c67aa7efd2588d\");\n",
       "    }\n",
       "    const paths = {\n",
       "      \"vega\": \"https://cdn.jsdelivr.net/npm//vega@5?noext\",\n",
       "      \"vega-lib\": \"https://cdn.jsdelivr.net/npm//vega-lib?noext\",\n",
       "      \"vega-lite\": \"https://cdn.jsdelivr.net/npm//vega-lite@4.8.1?noext\",\n",
       "      \"vega-embed\": \"https://cdn.jsdelivr.net/npm//vega-embed@6?noext\",\n",
       "    };\n",
       "\n",
       "    function loadScript(lib) {\n",
       "      return new Promise(function(resolve, reject) {\n",
       "        var s = document.createElement('script');\n",
       "        s.src = paths[lib];\n",
       "        s.async = true;\n",
       "        s.onload = () => resolve(paths[lib]);\n",
       "        s.onerror = () => reject(`Error loading script: ${paths[lib]}`);\n",
       "        document.getElementsByTagName(\"head\")[0].appendChild(s);\n",
       "      });\n",
       "    }\n",
       "\n",
       "    function showError(err) {\n",
       "      outputDiv.innerHTML = `<div class=\"error\" style=\"color:red;\">${err}</div>`;\n",
       "      throw err;\n",
       "    }\n",
       "\n",
       "    function displayChart(vegaEmbed) {\n",
       "      vegaEmbed(outputDiv, spec, embedOpt)\n",
       "        .catch(err => showError(`Javascript Error: ${err.message}<br>This usually means there's a typo in your chart specification. See the javascript console for the full traceback.`));\n",
       "    }\n",
       "\n",
       "    if(typeof define === \"function\" && define.amd) {\n",
       "      requirejs.config({paths});\n",
       "      require([\"vega-embed\"], displayChart, err => showError(`Error loading script: ${err.message}`));\n",
       "    } else if (typeof vegaEmbed === \"function\") {\n",
       "      displayChart(vegaEmbed);\n",
       "    } else {\n",
       "      loadScript(\"vega\")\n",
       "        .then(() => loadScript(\"vega-lite\"))\n",
       "        .then(() => loadScript(\"vega-embed\"))\n",
       "        .catch(showError)\n",
       "        .then(() => displayChart(vegaEmbed));\n",
       "    }\n",
       "  })({\"config\": {\"view\": {\"continuousWidth\": 400, \"continuousHeight\": 300}}, \"data\": {\"name\": \"data-3e6e42519cc3ed3027dfad1895e975ac\"}, \"mark\": \"line\", \"encoding\": {\"color\": {\"type\": \"nominal\", \"field\": \"variable\"}, \"x\": {\"type\": \"nominal\", \"field\": \"year\"}, \"y\": {\"type\": \"quantitative\", \"field\": \"value\", \"title\": \"PIB Change %\"}}, \"title\": \"PIB Ecuador Change\", \"$schema\": \"https://vega.github.io/schema/vega-lite/v4.8.1.json\", \"datasets\": {\"data-3e6e42519cc3ed3027dfad1895e975ac\": [{\"year\": \"1960\", \"variable\": \"change\", \"value\": 0.0}, {\"year\": \"1961\", \"variable\": \"change\", \"value\": -10.349706785274437}, {\"year\": \"1962\", \"variable\": \"change\", \"value\": -8.95342687728501}, {\"year\": \"1963\", \"variable\": \"change\", \"value\": 14.361749698024596}, {\"year\": \"1964\", \"variable\": \"change\", \"value\": 16.326903403076372}, {\"year\": \"1965\", \"variable\": \"change\", \"value\": 3.215820894987573}, {\"year\": \"1966\", \"variable\": \"change\", \"value\": -1.1730496601511493}, {\"year\": \"1967\", \"variable\": \"change\", \"value\": 2.0376706699203004}, {\"year\": \"1968\", \"variable\": \"change\", \"value\": -1.8357200561474336}, {\"year\": \"1969\", \"variable\": \"change\", \"value\": 14.567264682906442}, {\"year\": \"1970\", \"variable\": \"change\", \"value\": -11.930885900140199}, {\"year\": \"1971\", \"variable\": \"change\", \"value\": -6.980341627783873}, {\"year\": \"1972\", \"variable\": \"change\", \"value\": 11.034197508262448}, {\"year\": \"1973\", \"variable\": \"change\", \"value\": 15.773454009949074}, {\"year\": \"1974\", \"variable\": \"change\", \"value\": 39.347437070441266}, {\"year\": \"1975\", \"variable\": \"change\", \"value\": 12.249518945728468}, {\"year\": \"1976\", \"variable\": \"change\", \"value\": 12.608994297124676}, {\"year\": \"1977\", \"variable\": \"change\", \"value\": 15.295900934867687}, {\"year\": \"1978\", \"variable\": \"change\", \"value\": 5.02861444863165}, {\"year\": \"1979\", \"variable\": \"change\", \"value\": 13.65402426981189}, {\"year\": \"1980\", \"variable\": \"change\", \"value\": 18.638389236775804}, {\"year\": \"1981\", \"variable\": \"change\", \"value\": 15.875924023866258}, {\"year\": \"1982\", \"variable\": \"change\", \"value\": -12.264439416612797}, {\"year\": \"1983\", \"variable\": \"change\", \"value\": -19.165601447012385}, {\"year\": \"1984\", \"variable\": \"change\", \"value\": -3.992605047782036}, {\"year\": \"1985\", \"variable\": \"change\", \"value\": -1.1033686099209432}, {\"year\": \"1986\", \"variable\": \"change\", \"value\": -14.778062157182086}, {\"year\": \"1987\", \"variable\": \"change\", \"value\": -12.531471819323112}, {\"year\": \"1988\", \"variable\": \"change\", \"value\": -9.462946024651325}, {\"year\": \"1989\", \"variable\": \"change\", \"value\": 3.763712895044687}, {\"year\": \"1990\", \"variable\": \"change\", \"value\": 6.667635291634433}, {\"year\": \"1991\", \"variable\": \"change\", \"value\": 8.177000386020055}, {\"year\": \"1992\", \"variable\": \"change\", \"value\": 3.926362190864785}, {\"year\": \"1993\", \"variable\": \"change\", \"value\": 2.271676923833059}, {\"year\": \"1994\", \"variable\": \"change\", \"value\": 14.725669271046515}, {\"year\": \"1995\", \"variable\": \"change\", \"value\": 5.006981336735581}, {\"year\": \"1996\", \"variable\": \"change\", \"value\": 1.04894826314279}, {\"year\": \"1997\", \"variable\": \"change\", \"value\": 8.523854141437322}, {\"year\": \"1998\", \"variable\": \"change\", \"value\": -2.7238060686036256}, {\"year\": \"1999\", \"variable\": \"change\", \"value\": -45.28095594849744}, {\"year\": \"2000\", \"variable\": \"change\", \"value\": -9.247638822292078}, {\"year\": \"2001\", \"variable\": \"change\", \"value\": 23.75461210017022}, {\"year\": \"2002\", \"variable\": \"change\", \"value\": 12.775031927018565}, {\"year\": \"2003\", \"variable\": \"change\", \"value\": 10.460241641494797}, {\"year\": \"2004\", \"variable\": \"change\", \"value\": 9.862460545191505}, {\"year\": \"2005\", \"variable\": \"change\", \"value\": 10.354584097869196}, {\"year\": \"2006\", \"variable\": \"change\", \"value\": 9.815487892851912}, {\"year\": \"2007\", \"variable\": \"change\", \"value\": 6.69743329294198}, {\"year\": \"2008\", \"variable\": \"change\", \"value\": 16.031530625480702}, {\"year\": \"2009\", \"variable\": \"change\", \"value\": -0.4112723192128514}, {\"year\": \"2010\", \"variable\": \"change\", \"value\": 8.675228702337348}, {\"year\": \"2011\", \"variable\": \"change\", \"value\": 10.90201614265317}, {\"year\": \"2012\", \"variable\": \"change\", \"value\": 8.473871921983243}, {\"year\": \"2013\", \"variable\": \"change\", \"value\": 6.180075545872108}, {\"year\": \"2014\", \"variable\": \"change\", \"value\": 5.029890219670706}, {\"year\": \"2015\", \"variable\": \"change\", \"value\": -4.124422111438468}, {\"year\": \"2016\", \"variable\": \"change\", \"value\": -1.0626620759769316}, {\"year\": \"2017\", \"variable\": \"change\", \"value\": 2.4689452955497337}, {\"year\": \"2018\", \"variable\": \"change\", \"value\": 1.3093228720048968}, {\"year\": \"2019\", \"variable\": \"change\", \"value\": -1.812981369376134}, {\"year\": \"2020\", \"variable\": \"change\", \"value\": 0.0}]}}, {\"mode\": \"vega-lite\"});\n",
       "</script>"
      ],
      "text/plain": [
       "alt.Chart(...)"
      ]
     },
     "execution_count": 85,
     "metadata": {},
     "output_type": "execute_result"
    }
   ],
   "source": [
    "alt.Chart(df.drop('pib_value',axis=1).melt('year')).mark_line().encode(\n",
    "x='year',\n",
    "y=alt.Y('value',title='PIB Change %'),\n",
    "color='variable'\n",
    ").properties(title='PIB Ecuador Change')"
   ]
  },
  {
   "cell_type": "code",
   "execution_count": 86,
   "metadata": {},
   "outputs": [
    {
     "name": "stdout",
     "output_type": "stream",
     "text": [
      "PIB más alto es :\n"
     ]
    },
    {
     "data": {
      "text/html": [
       "<div>\n",
       "<style scoped>\n",
       "    .dataframe tbody tr th:only-of-type {\n",
       "        vertical-align: middle;\n",
       "    }\n",
       "\n",
       "    .dataframe tbody tr th {\n",
       "        vertical-align: top;\n",
       "    }\n",
       "\n",
       "    .dataframe thead th {\n",
       "        text-align: right;\n",
       "    }\n",
       "</style>\n",
       "<table border=\"1\" class=\"dataframe\">\n",
       "  <thead>\n",
       "    <tr style=\"text-align: right;\">\n",
       "      <th></th>\n",
       "      <th>year</th>\n",
       "      <th>pib_value</th>\n",
       "      <th>change</th>\n",
       "    </tr>\n",
       "  </thead>\n",
       "  <tbody>\n",
       "    <tr>\n",
       "      <th>0</th>\n",
       "      <td>2,020.00</td>\n",
       "      <td>6,377.09</td>\n",
       "      <td>39.35</td>\n",
       "    </tr>\n",
       "  </tbody>\n",
       "</table>\n",
       "</div>"
      ],
      "text/plain": [
       "      year  pib_value  change\n",
       "0 2,020.00   6,377.09   39.35"
      ]
     },
     "execution_count": 86,
     "metadata": {},
     "output_type": "execute_result"
    }
   ],
   "source": [
    "print(\"PIB más alto es :\")\n",
    "pd.DataFrame(df.max()).T"
   ]
  },
  {
   "cell_type": "code",
   "execution_count": 87,
   "metadata": {},
   "outputs": [
    {
     "name": "stdout",
     "output_type": "stream",
     "text": [
      "PIB más bajo es :\n"
     ]
    },
    {
     "data": {
      "text/html": [
       "<div>\n",
       "<style scoped>\n",
       "    .dataframe tbody tr th:only-of-type {\n",
       "        vertical-align: middle;\n",
       "    }\n",
       "\n",
       "    .dataframe tbody tr th {\n",
       "        vertical-align: top;\n",
       "    }\n",
       "\n",
       "    .dataframe thead th {\n",
       "        text-align: right;\n",
       "    }\n",
       "</style>\n",
       "<table border=\"1\" class=\"dataframe\">\n",
       "  <thead>\n",
       "    <tr style=\"text-align: right;\">\n",
       "      <th></th>\n",
       "      <th>year</th>\n",
       "      <th>pib_value</th>\n",
       "      <th>change</th>\n",
       "    </tr>\n",
       "  </thead>\n",
       "  <tbody>\n",
       "    <tr>\n",
       "      <th>0</th>\n",
       "      <td>1,960.00</td>\n",
       "      <td>0.00</td>\n",
       "      <td>-45.28</td>\n",
       "    </tr>\n",
       "  </tbody>\n",
       "</table>\n",
       "</div>"
      ],
      "text/plain": [
       "      year  pib_value  change\n",
       "0 1,960.00       0.00  -45.28"
      ]
     },
     "execution_count": 87,
     "metadata": {},
     "output_type": "execute_result"
    }
   ],
   "source": [
    "print(\"PIB más bajo es :\")\n",
    "pd.DataFrame(df.min()).T"
   ]
  },
  {
   "cell_type": "code",
   "execution_count": 88,
   "metadata": {},
   "outputs": [
    {
     "name": "stdout",
     "output_type": "stream",
     "text": [
      "PIB más alto es :\n"
     ]
    },
    {
     "data": {
      "text/html": [
       "<div>\n",
       "<style scoped>\n",
       "    .dataframe tbody tr th:only-of-type {\n",
       "        vertical-align: middle;\n",
       "    }\n",
       "\n",
       "    .dataframe tbody tr th {\n",
       "        vertical-align: top;\n",
       "    }\n",
       "\n",
       "    .dataframe thead th {\n",
       "        text-align: right;\n",
       "    }\n",
       "</style>\n",
       "<table border=\"1\" class=\"dataframe\">\n",
       "  <thead>\n",
       "    <tr style=\"text-align: right;\">\n",
       "      <th></th>\n",
       "      <th>year</th>\n",
       "      <th>pib_value</th>\n",
       "      <th>change</th>\n",
       "    </tr>\n",
       "  </thead>\n",
       "  <tbody>\n",
       "    <tr>\n",
       "      <th>14</th>\n",
       "      <td>1974</td>\n",
       "      <td>969.55</td>\n",
       "      <td>39.35</td>\n",
       "    </tr>\n",
       "  </tbody>\n",
       "</table>\n",
       "</div>"
      ],
      "text/plain": [
       "    year  pib_value  change\n",
       "14  1974     969.55   39.35"
      ]
     },
     "execution_count": 88,
     "metadata": {},
     "output_type": "execute_result"
    }
   ],
   "source": [
    "print(\"PIB más alto es :\")\n",
    "df[df['change']==pd.DataFrame(df.max()).T['change'][0]]"
   ]
  },
  {
   "cell_type": "code",
   "execution_count": 89,
   "metadata": {},
   "outputs": [],
   "source": [
    "dict_n_vs_p = {'positive':df.query('change>0').count()[0],'negative':df.query('change<0').count()[0]}\n",
    "df_pn = pd.DataFrame(dict_n_vs_p,index=[0]).T\n",
    "df_pn.reset_index(inplace=True)\n",
    "df_pn.columns = ['description','value']"
   ]
  },
  {
   "cell_type": "code",
   "execution_count": 90,
   "metadata": {},
   "outputs": [
    {
     "data": {
      "text/html": [
       "\n",
       "<div id=\"altair-viz-c5fb98c93d7644e19bd05ce964a55f6b\"></div>\n",
       "<script type=\"text/javascript\">\n",
       "  (function(spec, embedOpt){\n",
       "    let outputDiv = document.currentScript.previousElementSibling;\n",
       "    if (outputDiv.id !== \"altair-viz-c5fb98c93d7644e19bd05ce964a55f6b\") {\n",
       "      outputDiv = document.getElementById(\"altair-viz-c5fb98c93d7644e19bd05ce964a55f6b\");\n",
       "    }\n",
       "    const paths = {\n",
       "      \"vega\": \"https://cdn.jsdelivr.net/npm//vega@5?noext\",\n",
       "      \"vega-lib\": \"https://cdn.jsdelivr.net/npm//vega-lib?noext\",\n",
       "      \"vega-lite\": \"https://cdn.jsdelivr.net/npm//vega-lite@4.8.1?noext\",\n",
       "      \"vega-embed\": \"https://cdn.jsdelivr.net/npm//vega-embed@6?noext\",\n",
       "    };\n",
       "\n",
       "    function loadScript(lib) {\n",
       "      return new Promise(function(resolve, reject) {\n",
       "        var s = document.createElement('script');\n",
       "        s.src = paths[lib];\n",
       "        s.async = true;\n",
       "        s.onload = () => resolve(paths[lib]);\n",
       "        s.onerror = () => reject(`Error loading script: ${paths[lib]}`);\n",
       "        document.getElementsByTagName(\"head\")[0].appendChild(s);\n",
       "      });\n",
       "    }\n",
       "\n",
       "    function showError(err) {\n",
       "      outputDiv.innerHTML = `<div class=\"error\" style=\"color:red;\">${err}</div>`;\n",
       "      throw err;\n",
       "    }\n",
       "\n",
       "    function displayChart(vegaEmbed) {\n",
       "      vegaEmbed(outputDiv, spec, embedOpt)\n",
       "        .catch(err => showError(`Javascript Error: ${err.message}<br>This usually means there's a typo in your chart specification. See the javascript console for the full traceback.`));\n",
       "    }\n",
       "\n",
       "    if(typeof define === \"function\" && define.amd) {\n",
       "      requirejs.config({paths});\n",
       "      require([\"vega-embed\"], displayChart, err => showError(`Error loading script: ${err.message}`));\n",
       "    } else if (typeof vegaEmbed === \"function\") {\n",
       "      displayChart(vegaEmbed);\n",
       "    } else {\n",
       "      loadScript(\"vega\")\n",
       "        .then(() => loadScript(\"vega-lite\"))\n",
       "        .then(() => loadScript(\"vega-embed\"))\n",
       "        .catch(showError)\n",
       "        .then(() => displayChart(vegaEmbed));\n",
       "    }\n",
       "  })({\"config\": {\"view\": {\"continuousWidth\": 400, \"continuousHeight\": 300}}, \"data\": {\"name\": \"data-c81ae58a751ee671d2d63e816e543558\"}, \"mark\": {\"type\": \"bar\", \"size\": 30}, \"encoding\": {\"color\": {\"type\": \"nominal\", \"field\": \"description\"}, \"x\": {\"type\": \"nominal\", \"field\": \"description\"}, \"y\": {\"type\": \"quantitative\", \"field\": \"value\", \"title\": \"count values\"}}, \"title\": \"Positive vs Negative PIB\", \"width\": {\"step\": 100}, \"$schema\": \"https://vega.github.io/schema/vega-lite/v4.8.1.json\", \"datasets\": {\"data-c81ae58a751ee671d2d63e816e543558\": [{\"description\": \"positive\", \"value\": 39}, {\"description\": \"negative\", \"value\": 20}]}}, {\"mode\": \"vega-lite\"});\n",
       "</script>"
      ],
      "text/plain": [
       "alt.Chart(...)"
      ]
     },
     "execution_count": 90,
     "metadata": {},
     "output_type": "execute_result"
    }
   ],
   "source": [
    "alt.Chart(df_pn).mark_bar(size=30).encode(\n",
    "x='description',\n",
    "y=alt.Y('value',title='count values'),\n",
    "color='description'\n",
    ").properties(width=alt.Step(100),title='Positive vs Negative PIB')"
   ]
  },
  {
   "cell_type": "code",
   "execution_count": 91,
   "metadata": {},
   "outputs": [],
   "source": [
    "data=pd.DataFrame(df['pib_value'].diff())\n",
    "data=data.fillna(0.00)\n",
    "dict_n_vs_p = {'positive':data.query('pib_value>0').sum()[0],'negative':np.abs(data.query('pib_value<0').sum()[0])}\n",
    "df_pn = pd.DataFrame(dict_n_vs_p,index=[0]).T\n",
    "df_pn.reset_index(inplace=True)\n",
    "df_pn.columns = ['description','value']"
   ]
  },
  {
   "cell_type": "code",
   "execution_count": 92,
   "metadata": {},
   "outputs": [
    {
     "data": {
      "text/html": [
       "\n",
       "<div id=\"altair-viz-7601789c3ecf46d7b2e4f8f1a1f14c6e\"></div>\n",
       "<script type=\"text/javascript\">\n",
       "  (function(spec, embedOpt){\n",
       "    let outputDiv = document.currentScript.previousElementSibling;\n",
       "    if (outputDiv.id !== \"altair-viz-7601789c3ecf46d7b2e4f8f1a1f14c6e\") {\n",
       "      outputDiv = document.getElementById(\"altair-viz-7601789c3ecf46d7b2e4f8f1a1f14c6e\");\n",
       "    }\n",
       "    const paths = {\n",
       "      \"vega\": \"https://cdn.jsdelivr.net/npm//vega@5?noext\",\n",
       "      \"vega-lib\": \"https://cdn.jsdelivr.net/npm//vega-lib?noext\",\n",
       "      \"vega-lite\": \"https://cdn.jsdelivr.net/npm//vega-lite@4.8.1?noext\",\n",
       "      \"vega-embed\": \"https://cdn.jsdelivr.net/npm//vega-embed@6?noext\",\n",
       "    };\n",
       "\n",
       "    function loadScript(lib) {\n",
       "      return new Promise(function(resolve, reject) {\n",
       "        var s = document.createElement('script');\n",
       "        s.src = paths[lib];\n",
       "        s.async = true;\n",
       "        s.onload = () => resolve(paths[lib]);\n",
       "        s.onerror = () => reject(`Error loading script: ${paths[lib]}`);\n",
       "        document.getElementsByTagName(\"head\")[0].appendChild(s);\n",
       "      });\n",
       "    }\n",
       "\n",
       "    function showError(err) {\n",
       "      outputDiv.innerHTML = `<div class=\"error\" style=\"color:red;\">${err}</div>`;\n",
       "      throw err;\n",
       "    }\n",
       "\n",
       "    function displayChart(vegaEmbed) {\n",
       "      vegaEmbed(outputDiv, spec, embedOpt)\n",
       "        .catch(err => showError(`Javascript Error: ${err.message}<br>This usually means there's a typo in your chart specification. See the javascript console for the full traceback.`));\n",
       "    }\n",
       "\n",
       "    if(typeof define === \"function\" && define.amd) {\n",
       "      requirejs.config({paths});\n",
       "      require([\"vega-embed\"], displayChart, err => showError(`Error loading script: ${err.message}`));\n",
       "    } else if (typeof vegaEmbed === \"function\") {\n",
       "      displayChart(vegaEmbed);\n",
       "    } else {\n",
       "      loadScript(\"vega\")\n",
       "        .then(() => loadScript(\"vega-lite\"))\n",
       "        .then(() => loadScript(\"vega-embed\"))\n",
       "        .catch(showError)\n",
       "        .then(() => displayChart(vegaEmbed));\n",
       "    }\n",
       "  })({\"config\": {\"view\": {\"continuousWidth\": 400, \"continuousHeight\": 300}}, \"data\": {\"name\": \"data-3c3286d78ae3b5ef403feeb3f277fb59\"}, \"mark\": {\"type\": \"bar\", \"size\": 30}, \"encoding\": {\"color\": {\"type\": \"nominal\", \"field\": \"description\"}, \"x\": {\"type\": \"nominal\", \"field\": \"description\"}, \"y\": {\"type\": \"quantitative\", \"field\": \"value\", \"title\": \"value PIB $\"}}, \"title\": \"Positive vs Negative PIB affection\", \"width\": {\"step\": 150}, \"$schema\": \"https://vega.github.io/schema/vega-lite/v4.8.1.json\", \"datasets\": {\"data-3c3286d78ae3b5ef403feeb3f277fb59\": [{\"description\": \"positive\", \"value\": 8648.075806007706}, {\"description\": \"negative\", \"value\": 9027.445175916546}]}}, {\"mode\": \"vega-lite\"});\n",
       "</script>"
      ],
      "text/plain": [
       "alt.Chart(...)"
      ]
     },
     "execution_count": 92,
     "metadata": {},
     "output_type": "execute_result"
    }
   ],
   "source": [
    "alt.Chart(df_pn).mark_bar(size=30).encode(\n",
    "x='description',\n",
    "y=alt.Y('value',title='value PIB $'),\n",
    "color='description'\n",
    ").properties(width=alt.Step(150),title='Positive vs Negative PIB affection')"
   ]
  },
  {
   "cell_type": "code",
   "execution_count": 99,
   "metadata": {},
   "outputs": [],
   "source": [
    "def _obtain_feature_target(df,feature_columns,target_columns):\n",
    "    features = df[feature_columns]\n",
    "    target= df[target_columns]\n",
    "    return features,target\n"
   ]
  },
  {
   "cell_type": "code",
   "execution_count": 100,
   "metadata": {},
   "outputs": [],
   "source": [
    "features,target = _obtain_feature_target(df,['year'],'pib_value')"
   ]
  },
  {
   "cell_type": "code",
   "execution_count": 101,
   "metadata": {},
   "outputs": [
    {
     "name": "stdout",
     "output_type": "stream",
     "text": [
      "Score linear model = 0.6709336527848547\n"
     ]
    }
   ],
   "source": [
    "model_linear = LinearRegression()\n",
    "model_linear = model_linear.fit(features,target)\n",
    "print(\"Score linear model = {}\".format(model_linear.score(features,target)))"
   ]
  },
  {
   "cell_type": "code",
   "execution_count": 103,
   "metadata": {},
   "outputs": [],
   "source": [
    "predict_linear = pd.DataFrame({'year':features.values.reshape(-1),'real':target.values,'predict':model_linear.predict(features)})"
   ]
  },
  {
   "cell_type": "code",
   "execution_count": 104,
   "metadata": {},
   "outputs": [
    {
     "data": {
      "text/html": [
       "\n",
       "<div id=\"altair-viz-304d417ae0e4478e8941271aa64ce2ae\"></div>\n",
       "<script type=\"text/javascript\">\n",
       "  (function(spec, embedOpt){\n",
       "    let outputDiv = document.currentScript.previousElementSibling;\n",
       "    if (outputDiv.id !== \"altair-viz-304d417ae0e4478e8941271aa64ce2ae\") {\n",
       "      outputDiv = document.getElementById(\"altair-viz-304d417ae0e4478e8941271aa64ce2ae\");\n",
       "    }\n",
       "    const paths = {\n",
       "      \"vega\": \"https://cdn.jsdelivr.net/npm//vega@5?noext\",\n",
       "      \"vega-lib\": \"https://cdn.jsdelivr.net/npm//vega-lib?noext\",\n",
       "      \"vega-lite\": \"https://cdn.jsdelivr.net/npm//vega-lite@4.8.1?noext\",\n",
       "      \"vega-embed\": \"https://cdn.jsdelivr.net/npm//vega-embed@6?noext\",\n",
       "    };\n",
       "\n",
       "    function loadScript(lib) {\n",
       "      return new Promise(function(resolve, reject) {\n",
       "        var s = document.createElement('script');\n",
       "        s.src = paths[lib];\n",
       "        s.async = true;\n",
       "        s.onload = () => resolve(paths[lib]);\n",
       "        s.onerror = () => reject(`Error loading script: ${paths[lib]}`);\n",
       "        document.getElementsByTagName(\"head\")[0].appendChild(s);\n",
       "      });\n",
       "    }\n",
       "\n",
       "    function showError(err) {\n",
       "      outputDiv.innerHTML = `<div class=\"error\" style=\"color:red;\">${err}</div>`;\n",
       "      throw err;\n",
       "    }\n",
       "\n",
       "    function displayChart(vegaEmbed) {\n",
       "      vegaEmbed(outputDiv, spec, embedOpt)\n",
       "        .catch(err => showError(`Javascript Error: ${err.message}<br>This usually means there's a typo in your chart specification. See the javascript console for the full traceback.`));\n",
       "    }\n",
       "\n",
       "    if(typeof define === \"function\" && define.amd) {\n",
       "      requirejs.config({paths});\n",
       "      require([\"vega-embed\"], displayChart, err => showError(`Error loading script: ${err.message}`));\n",
       "    } else if (typeof vegaEmbed === \"function\") {\n",
       "      displayChart(vegaEmbed);\n",
       "    } else {\n",
       "      loadScript(\"vega\")\n",
       "        .then(() => loadScript(\"vega-lite\"))\n",
       "        .then(() => loadScript(\"vega-embed\"))\n",
       "        .catch(showError)\n",
       "        .then(() => displayChart(vegaEmbed));\n",
       "    }\n",
       "  })({\"config\": {\"view\": {\"continuousWidth\": 400, \"continuousHeight\": 300}}, \"data\": {\"name\": \"data-99916efd307f713803bce5aee3fb991d\"}, \"mark\": \"line\", \"encoding\": {\"color\": {\"type\": \"nominal\", \"field\": \"variable\"}, \"x\": {\"type\": \"nominal\", \"field\": \"year\"}, \"y\": {\"type\": \"quantitative\", \"field\": \"value\"}}, \"title\": \"Linear model predictions\", \"$schema\": \"https://vega.github.io/schema/vega-lite/v4.8.1.json\", \"datasets\": {\"data-99916efd307f713803bce5aee3fb991d\": [{\"year\": \"1960\", \"variable\": \"real\", \"value\": 379.36936990884004}, {\"year\": \"1961\", \"variable\": \"real\", \"value\": 343.788289938134}, {\"year\": \"1962\", \"variable\": \"real\", \"value\": 315.536922326771}, {\"year\": \"1963\", \"variable\": \"real\", \"value\": 368.453256826398}, {\"year\": \"1964\", \"variable\": \"real\", \"value\": 440.348537118614}, {\"year\": \"1965\", \"variable\": \"real\", \"value\": 454.97987500708}, {\"year\": \"1966\", \"variable\": \"real\", \"value\": 449.704616531177}, {\"year\": \"1967\", \"variable\": \"real\", \"value\": 459.058721455997}, {\"year\": \"1968\", \"variable\": \"real\", \"value\": 450.783596564048}, {\"year\": \"1969\", \"variable\": \"real\", \"value\": 527.647388194832}, {\"year\": \"1970\", \"variable\": \"real\", \"value\": 471.404638631714}, {\"year\": \"1971\", \"variable\": \"real\", \"value\": 440.646039691918}, {\"year\": \"1972\", \"variable\": \"real\", \"value\": 495.298223980885}, {\"year\": \"1973\", \"variable\": \"real\", \"value\": 588.054773182069}, {\"year\": \"1974\", \"variable\": \"real\", \"value\": 969.5464540633341}, {\"year\": \"1975\", \"variable\": \"real\", \"value\": 1104.89018682837}, {\"year\": \"1976\", \"variable\": \"real\", \"value\": 1264.30652438643}, {\"year\": \"1977\", \"variable\": \"real\", \"value\": 1492.61551488111}, {\"year\": \"1978\", \"variable\": \"real\", \"value\": 1571.64761387395}, {\"year\": \"1979\", \"variable\": \"real\", \"value\": 1820.1747106141897}, {\"year\": \"1980\", \"variable\": \"real\", \"value\": 2237.14193160605}, {\"year\": \"1981\", \"variable\": \"real\", \"value\": 2659.33611234046}, {\"year\": \"1982\", \"variable\": \"real\", \"value\": 2368.81431569945}, {\"year\": \"1983\", \"variable\": \"real\", \"value\": 1987.8339780400102}, {\"year\": \"1984\", \"variable\": \"real\", \"value\": 1911.5147438865}, {\"year\": \"1985\", \"variable\": \"real\", \"value\": 1890.65386264383}, {\"year\": \"1986\", \"variable\": \"real\", \"value\": 1647.22580875663}, {\"year\": \"1987\", \"variable\": \"real\", \"value\": 1463.7912240243}, {\"year\": \"1988\", \"variable\": \"real\", \"value\": 1337.24815308246}, {\"year\": \"1989\", \"variable\": \"real\", \"value\": 1389.5467014682902}, {\"year\": \"1990\", \"variable\": \"real\", \"value\": 1488.8154884001801}, {\"year\": \"1991\", \"variable\": \"real\", \"value\": 1621.39713868976}, {\"year\": \"1992\", \"variable\": \"real\", \"value\": 1687.6608148334199}, {\"year\": \"1993\", \"variable\": \"real\", \"value\": 1726.89018056526}, {\"year\": \"1994\", \"variable\": \"real\", \"value\": 2025.09965871702}, {\"year\": \"1995\", \"variable\": \"real\", \"value\": 2131.84051545481}, {\"year\": \"1996\", \"variable\": \"real\", \"value\": 2154.43947086491}, {\"year\": \"1997\", \"variable\": \"real\", \"value\": 2355.19265776242}, {\"year\": \"1998\", \"variable\": \"real\", \"value\": 2292.74279049738}, {\"year\": \"1999\", \"variable\": \"real\", \"value\": 1578.1440695573099}, {\"year\": \"2000\", \"variable\": \"real\", \"value\": 1444.5566847668}, {\"year\": \"2001\", \"variable\": \"real\", \"value\": 1894.61516893932}, {\"year\": \"2002\", \"variable\": \"real\", \"value\": 2172.1018772447}, {\"year\": \"2003\", \"variable\": \"real\", \"value\": 2425.85184175715}, {\"year\": \"2004\", \"variable\": \"real\", \"value\": 2691.27808061965}, {\"year\": \"2005\", \"variable\": \"real\", \"value\": 3002.13686727475}, {\"year\": \"2006\", \"variable\": \"real\", \"value\": 3328.88297239765}, {\"year\": \"2007\", \"variable\": \"real\", \"value\": 3567.83643782206}, {\"year\": \"2008\", \"variable\": \"real\", \"value\": 4249.01926210976}, {\"year\": \"2009\", \"variable\": \"real\", \"value\": 4231.615797678471}, {\"year\": \"2010\", \"variable\": \"real\", \"value\": 4633.59035839904}, {\"year\": \"2011\", \"variable\": \"real\", \"value\": 5200.55579014874}, {\"year\": \"2012\", \"variable\": \"real\", \"value\": 5682.045006553531}, {\"year\": \"2013\", \"variable\": \"real\", \"value\": 6056.3308269681}, {\"year\": \"2014\", \"variable\": \"real\", \"value\": 6377.09153014217}, {\"year\": \"2015\", \"variable\": \"real\", \"value\": 6124.49164262072}, {\"year\": \"2016\", \"variable\": \"real\", \"value\": 6060.09332904416}, {\"year\": \"2017\", \"variable\": \"real\", \"value\": 6213.50127649921}, {\"year\": \"2018\", \"variable\": \"real\", \"value\": 6295.93539868079}, {\"year\": \"2019\", \"variable\": \"real\", \"value\": 6183.823824821729}, {\"year\": \"2020\", \"variable\": \"real\", \"value\": 0.0}, {\"year\": \"1960\", \"variable\": \"predict\", \"value\": -280.21734747101436}, {\"year\": \"1961\", \"variable\": \"predict\", \"value\": -194.26532722995034}, {\"year\": \"1962\", \"variable\": \"predict\", \"value\": -108.31330698891543}, {\"year\": \"1963\", \"variable\": \"predict\", \"value\": -22.36128674785141}, {\"year\": \"1964\", \"variable\": \"predict\", \"value\": 63.59073349318351}, {\"year\": \"1965\", \"variable\": \"predict\", \"value\": 149.54275373421842}, {\"year\": \"1966\", \"variable\": \"predict\", \"value\": 235.49477397528244}, {\"year\": \"1967\", \"variable\": \"predict\", \"value\": 321.44679421631736}, {\"year\": \"1968\", \"variable\": \"predict\", \"value\": 407.3988144573814}, {\"year\": \"1969\", \"variable\": \"predict\", \"value\": 493.3508346984163}, {\"year\": \"1970\", \"variable\": \"predict\", \"value\": 579.3028549394803}, {\"year\": \"1971\", \"variable\": \"predict\", \"value\": 665.2548751805152}, {\"year\": \"1972\", \"variable\": \"predict\", \"value\": 751.2068954215792}, {\"year\": \"1973\", \"variable\": \"predict\", \"value\": 837.1589156626142}, {\"year\": \"1974\", \"variable\": \"predict\", \"value\": 923.1109359036491}, {\"year\": \"1975\", \"variable\": \"predict\", \"value\": 1009.0629561447131}, {\"year\": \"1976\", \"variable\": \"predict\", \"value\": 1095.014976385748}, {\"year\": \"1977\", \"variable\": \"predict\", \"value\": 1180.966996626812}, {\"year\": \"1978\", \"variable\": \"predict\", \"value\": 1266.919016867847}, {\"year\": \"1979\", \"variable\": \"predict\", \"value\": 1352.871037108911}, {\"year\": \"1980\", \"variable\": \"predict\", \"value\": 1438.8230573499459}, {\"year\": \"1981\", \"variable\": \"predict\", \"value\": 1524.7750775909808}, {\"year\": \"1982\", \"variable\": \"predict\", \"value\": 1610.7270978320448}, {\"year\": \"1983\", \"variable\": \"predict\", \"value\": 1696.6791180730797}, {\"year\": \"1984\", \"variable\": \"predict\", \"value\": 1782.6311383141438}, {\"year\": \"1985\", \"variable\": \"predict\", \"value\": 1868.5831585551787}, {\"year\": \"1986\", \"variable\": \"predict\", \"value\": 1954.5351787962427}, {\"year\": \"1987\", \"variable\": \"predict\", \"value\": 2040.4871990372776}, {\"year\": \"1988\", \"variable\": \"predict\", \"value\": 2126.4392192783416}, {\"year\": \"1989\", \"variable\": \"predict\", \"value\": 2212.3912395193765}, {\"year\": \"1990\", \"variable\": \"predict\", \"value\": 2298.3432597604115}, {\"year\": \"1991\", \"variable\": \"predict\", \"value\": 2384.2952800014755}, {\"year\": \"1992\", \"variable\": \"predict\", \"value\": 2470.2473002425104}, {\"year\": \"1993\", \"variable\": \"predict\", \"value\": 2556.1993204835744}, {\"year\": \"1994\", \"variable\": \"predict\", \"value\": 2642.1513407246093}, {\"year\": \"1995\", \"variable\": \"predict\", \"value\": 2728.1033609656733}, {\"year\": \"1996\", \"variable\": \"predict\", \"value\": 2814.0553812067083}, {\"year\": \"1997\", \"variable\": \"predict\", \"value\": 2900.0074014477723}, {\"year\": \"1998\", \"variable\": \"predict\", \"value\": 2985.959421688807}, {\"year\": \"1999\", \"variable\": \"predict\", \"value\": 3071.911441929842}, {\"year\": \"2000\", \"variable\": \"predict\", \"value\": 3157.863462170906}, {\"year\": \"2001\", \"variable\": \"predict\", \"value\": 3243.815482411941}, {\"year\": \"2002\", \"variable\": \"predict\", \"value\": 3329.767502653005}, {\"year\": \"2003\", \"variable\": \"predict\", \"value\": 3415.71952289404}, {\"year\": \"2004\", \"variable\": \"predict\", \"value\": 3501.671543135104}, {\"year\": \"2005\", \"variable\": \"predict\", \"value\": 3587.623563376139}, {\"year\": \"2006\", \"variable\": \"predict\", \"value\": 3673.575583617203}, {\"year\": \"2007\", \"variable\": \"predict\", \"value\": 3759.527603858238}, {\"year\": \"2008\", \"variable\": \"predict\", \"value\": 3845.4796240992728}, {\"year\": \"2009\", \"variable\": \"predict\", \"value\": 3931.431644340337}, {\"year\": \"2010\", \"variable\": \"predict\", \"value\": 4017.3836645813717}, {\"year\": \"2011\", \"variable\": \"predict\", \"value\": 4103.335684822436}, {\"year\": \"2012\", \"variable\": \"predict\", \"value\": 4189.287705063471}, {\"year\": \"2013\", \"variable\": \"predict\", \"value\": 4275.239725304535}, {\"year\": \"2014\", \"variable\": \"predict\", \"value\": 4361.19174554557}, {\"year\": \"2015\", \"variable\": \"predict\", \"value\": 4447.1437657866045}, {\"year\": \"2016\", \"variable\": \"predict\", \"value\": 4533.0957860276685}, {\"year\": \"2017\", \"variable\": \"predict\", \"value\": 4619.047806268703}, {\"year\": \"2018\", \"variable\": \"predict\", \"value\": 4704.999826509767}, {\"year\": \"2019\", \"variable\": \"predict\", \"value\": 4790.951846750802}, {\"year\": \"2020\", \"variable\": \"predict\", \"value\": 4876.903866991866}]}}, {\"mode\": \"vega-lite\"});\n",
       "</script>"
      ],
      "text/plain": [
       "alt.Chart(...)"
      ]
     },
     "execution_count": 104,
     "metadata": {},
     "output_type": "execute_result"
    }
   ],
   "source": [
    "alt.Chart(predict_linear.melt('year')).mark_line().encode(\n",
    "x='year',\n",
    "y='value',\n",
    "color='variable'\n",
    ").properties(title='Linear model predictions')"
   ]
  },
  {
   "cell_type": "code",
   "execution_count": 105,
   "metadata": {},
   "outputs": [
    {
     "name": "stdout",
     "output_type": "stream",
     "text": [
      "Score polinomyal model = 0.7134725577933035\n"
     ]
    }
   ],
   "source": [
    "model_poly = Pipeline([('poly', PolynomialFeatures(degree=3)),\n",
    "('linear', LinearRegression(fit_intercept=True))])\n",
    "model_poly = model_poly.fit(features,target)\n",
    "print(\"Score polinomyal model = {}\".format(model_poly.score(features,target)))"
   ]
  },
  {
   "cell_type": "code",
   "execution_count": 107,
   "metadata": {},
   "outputs": [],
   "source": [
    "predict_polinomyal = pd.DataFrame({'year':features.values.reshape(-1),'real':target.values,'predict':model_poly.predict(features)})"
   ]
  },
  {
   "cell_type": "code",
   "execution_count": 108,
   "metadata": {},
   "outputs": [
    {
     "data": {
      "text/html": [
       "\n",
       "<div id=\"altair-viz-e10ccd007b154e4e991e1bf92d3c42d0\"></div>\n",
       "<script type=\"text/javascript\">\n",
       "  (function(spec, embedOpt){\n",
       "    let outputDiv = document.currentScript.previousElementSibling;\n",
       "    if (outputDiv.id !== \"altair-viz-e10ccd007b154e4e991e1bf92d3c42d0\") {\n",
       "      outputDiv = document.getElementById(\"altair-viz-e10ccd007b154e4e991e1bf92d3c42d0\");\n",
       "    }\n",
       "    const paths = {\n",
       "      \"vega\": \"https://cdn.jsdelivr.net/npm//vega@5?noext\",\n",
       "      \"vega-lib\": \"https://cdn.jsdelivr.net/npm//vega-lib?noext\",\n",
       "      \"vega-lite\": \"https://cdn.jsdelivr.net/npm//vega-lite@4.8.1?noext\",\n",
       "      \"vega-embed\": \"https://cdn.jsdelivr.net/npm//vega-embed@6?noext\",\n",
       "    };\n",
       "\n",
       "    function loadScript(lib) {\n",
       "      return new Promise(function(resolve, reject) {\n",
       "        var s = document.createElement('script');\n",
       "        s.src = paths[lib];\n",
       "        s.async = true;\n",
       "        s.onload = () => resolve(paths[lib]);\n",
       "        s.onerror = () => reject(`Error loading script: ${paths[lib]}`);\n",
       "        document.getElementsByTagName(\"head\")[0].appendChild(s);\n",
       "      });\n",
       "    }\n",
       "\n",
       "    function showError(err) {\n",
       "      outputDiv.innerHTML = `<div class=\"error\" style=\"color:red;\">${err}</div>`;\n",
       "      throw err;\n",
       "    }\n",
       "\n",
       "    function displayChart(vegaEmbed) {\n",
       "      vegaEmbed(outputDiv, spec, embedOpt)\n",
       "        .catch(err => showError(`Javascript Error: ${err.message}<br>This usually means there's a typo in your chart specification. See the javascript console for the full traceback.`));\n",
       "    }\n",
       "\n",
       "    if(typeof define === \"function\" && define.amd) {\n",
       "      requirejs.config({paths});\n",
       "      require([\"vega-embed\"], displayChart, err => showError(`Error loading script: ${err.message}`));\n",
       "    } else if (typeof vegaEmbed === \"function\") {\n",
       "      displayChart(vegaEmbed);\n",
       "    } else {\n",
       "      loadScript(\"vega\")\n",
       "        .then(() => loadScript(\"vega-lite\"))\n",
       "        .then(() => loadScript(\"vega-embed\"))\n",
       "        .catch(showError)\n",
       "        .then(() => displayChart(vegaEmbed));\n",
       "    }\n",
       "  })({\"config\": {\"view\": {\"continuousWidth\": 400, \"continuousHeight\": 300}}, \"data\": {\"name\": \"data-a20cca961c6e17c2d52f11299f66230b\"}, \"mark\": \"line\", \"encoding\": {\"color\": {\"type\": \"nominal\", \"field\": \"variable\"}, \"x\": {\"type\": \"nominal\", \"field\": \"year\"}, \"y\": {\"type\": \"quantitative\", \"field\": \"value\"}}, \"title\": \"polinomyal model predictions\", \"$schema\": \"https://vega.github.io/schema/vega-lite/v4.8.1.json\", \"datasets\": {\"data-a20cca961c6e17c2d52f11299f66230b\": [{\"year\": \"1960\", \"variable\": \"real\", \"value\": 379.36936990884004}, {\"year\": \"1961\", \"variable\": \"real\", \"value\": 343.788289938134}, {\"year\": \"1962\", \"variable\": \"real\", \"value\": 315.536922326771}, {\"year\": \"1963\", \"variable\": \"real\", \"value\": 368.453256826398}, {\"year\": \"1964\", \"variable\": \"real\", \"value\": 440.348537118614}, {\"year\": \"1965\", \"variable\": \"real\", \"value\": 454.97987500708}, {\"year\": \"1966\", \"variable\": \"real\", \"value\": 449.704616531177}, {\"year\": \"1967\", \"variable\": \"real\", \"value\": 459.058721455997}, {\"year\": \"1968\", \"variable\": \"real\", \"value\": 450.783596564048}, {\"year\": \"1969\", \"variable\": \"real\", \"value\": 527.647388194832}, {\"year\": \"1970\", \"variable\": \"real\", \"value\": 471.404638631714}, {\"year\": \"1971\", \"variable\": \"real\", \"value\": 440.646039691918}, {\"year\": \"1972\", \"variable\": \"real\", \"value\": 495.298223980885}, {\"year\": \"1973\", \"variable\": \"real\", \"value\": 588.054773182069}, {\"year\": \"1974\", \"variable\": \"real\", \"value\": 969.5464540633341}, {\"year\": \"1975\", \"variable\": \"real\", \"value\": 1104.89018682837}, {\"year\": \"1976\", \"variable\": \"real\", \"value\": 1264.30652438643}, {\"year\": \"1977\", \"variable\": \"real\", \"value\": 1492.61551488111}, {\"year\": \"1978\", \"variable\": \"real\", \"value\": 1571.64761387395}, {\"year\": \"1979\", \"variable\": \"real\", \"value\": 1820.1747106141897}, {\"year\": \"1980\", \"variable\": \"real\", \"value\": 2237.14193160605}, {\"year\": \"1981\", \"variable\": \"real\", \"value\": 2659.33611234046}, {\"year\": \"1982\", \"variable\": \"real\", \"value\": 2368.81431569945}, {\"year\": \"1983\", \"variable\": \"real\", \"value\": 1987.8339780400102}, {\"year\": \"1984\", \"variable\": \"real\", \"value\": 1911.5147438865}, {\"year\": \"1985\", \"variable\": \"real\", \"value\": 1890.65386264383}, {\"year\": \"1986\", \"variable\": \"real\", \"value\": 1647.22580875663}, {\"year\": \"1987\", \"variable\": \"real\", \"value\": 1463.7912240243}, {\"year\": \"1988\", \"variable\": \"real\", \"value\": 1337.24815308246}, {\"year\": \"1989\", \"variable\": \"real\", \"value\": 1389.5467014682902}, {\"year\": \"1990\", \"variable\": \"real\", \"value\": 1488.8154884001801}, {\"year\": \"1991\", \"variable\": \"real\", \"value\": 1621.39713868976}, {\"year\": \"1992\", \"variable\": \"real\", \"value\": 1687.6608148334199}, {\"year\": \"1993\", \"variable\": \"real\", \"value\": 1726.89018056526}, {\"year\": \"1994\", \"variable\": \"real\", \"value\": 2025.09965871702}, {\"year\": \"1995\", \"variable\": \"real\", \"value\": 2131.84051545481}, {\"year\": \"1996\", \"variable\": \"real\", \"value\": 2154.43947086491}, {\"year\": \"1997\", \"variable\": \"real\", \"value\": 2355.19265776242}, {\"year\": \"1998\", \"variable\": \"real\", \"value\": 2292.74279049738}, {\"year\": \"1999\", \"variable\": \"real\", \"value\": 1578.1440695573099}, {\"year\": \"2000\", \"variable\": \"real\", \"value\": 1444.5566847668}, {\"year\": \"2001\", \"variable\": \"real\", \"value\": 1894.61516893932}, {\"year\": \"2002\", \"variable\": \"real\", \"value\": 2172.1018772447}, {\"year\": \"2003\", \"variable\": \"real\", \"value\": 2425.85184175715}, {\"year\": \"2004\", \"variable\": \"real\", \"value\": 2691.27808061965}, {\"year\": \"2005\", \"variable\": \"real\", \"value\": 3002.13686727475}, {\"year\": \"2006\", \"variable\": \"real\", \"value\": 3328.88297239765}, {\"year\": \"2007\", \"variable\": \"real\", \"value\": 3567.83643782206}, {\"year\": \"2008\", \"variable\": \"real\", \"value\": 4249.01926210976}, {\"year\": \"2009\", \"variable\": \"real\", \"value\": 4231.615797678471}, {\"year\": \"2010\", \"variable\": \"real\", \"value\": 4633.59035839904}, {\"year\": \"2011\", \"variable\": \"real\", \"value\": 5200.55579014874}, {\"year\": \"2012\", \"variable\": \"real\", \"value\": 5682.045006553531}, {\"year\": \"2013\", \"variable\": \"real\", \"value\": 6056.3308269681}, {\"year\": \"2014\", \"variable\": \"real\", \"value\": 6377.09153014217}, {\"year\": \"2015\", \"variable\": \"real\", \"value\": 6124.49164262072}, {\"year\": \"2016\", \"variable\": \"real\", \"value\": 6060.09332904416}, {\"year\": \"2017\", \"variable\": \"real\", \"value\": 6213.50127649921}, {\"year\": \"2018\", \"variable\": \"real\", \"value\": 6295.93539868079}, {\"year\": \"2019\", \"variable\": \"real\", \"value\": 6183.823824821729}, {\"year\": \"2020\", \"variable\": \"real\", \"value\": 0.0}, {\"year\": \"1960\", \"variable\": \"predict\", \"value\": 265.21525025367737}, {\"year\": \"1961\", \"variable\": \"predict\", \"value\": 320.4044181704521}, {\"year\": \"1962\", \"variable\": \"predict\", \"value\": 374.2181247472763}, {\"year\": \"1963\", \"variable\": \"predict\", \"value\": 426.795350253582}, {\"year\": \"1964\", \"variable\": \"predict\", \"value\": 478.27507495880127}, {\"year\": \"1965\", \"variable\": \"predict\", \"value\": 528.7962787747383}, {\"year\": \"1966\", \"variable\": \"predict\", \"value\": 578.4979419708252}, {\"year\": \"1967\", \"variable\": \"predict\", \"value\": 627.5190446972847}, {\"year\": \"1968\", \"variable\": \"predict\", \"value\": 675.9985669851303}, {\"year\": \"1969\", \"variable\": \"predict\", \"value\": 724.0754890441895}, {\"year\": \"1970\", \"variable\": \"predict\", \"value\": 771.8887910842896}, {\"year\": \"1971\", \"variable\": \"predict\", \"value\": 819.5774530172348}, {\"year\": \"1972\", \"variable\": \"predict\", \"value\": 867.2804552912712}, {\"year\": \"1973\", \"variable\": \"predict\", \"value\": 915.136777818203}, {\"year\": \"1974\", \"variable\": \"predict\", \"value\": 963.2854008078575}, {\"year\": \"1975\", \"variable\": \"predict\", \"value\": 1011.865304350853}, {\"year\": \"1976\", \"variable\": \"predict\", \"value\": 1061.0154686570168}, {\"year\": \"1977\", \"variable\": \"predict\", \"value\": 1110.8748739361763}, {\"year\": \"1978\", \"variable\": \"predict\", \"value\": 1161.5825000405312}, {\"year\": \"1979\", \"variable\": \"predict\", \"value\": 1213.2773274183273}, {\"year\": \"1980\", \"variable\": \"predict\", \"value\": 1266.0983361005783}, {\"year\": \"1981\", \"variable\": \"predict\", \"value\": 1320.184506058693}, {\"year\": \"1982\", \"variable\": \"predict\", \"value\": 1375.6748177409172}, {\"year\": \"1983\", \"variable\": \"predict\", \"value\": 1432.7082510590553}, {\"year\": \"1984\", \"variable\": \"predict\", \"value\": 1491.4237862825394}, {\"year\": \"1985\", \"variable\": \"predict\", \"value\": 1551.9604033827782}, {\"year\": \"1986\", \"variable\": \"predict\", \"value\": 1614.4570826888084}, {\"year\": \"1987\", \"variable\": \"predict\", \"value\": 1679.0528042912483}, {\"year\": \"1988\", \"variable\": \"predict\", \"value\": 1745.8865482211113}, {\"year\": \"1989\", \"variable\": \"predict\", \"value\": 1815.0972946882248}, {\"year\": \"1990\", \"variable\": \"predict\", \"value\": 1886.8240239024162}, {\"year\": \"1991\", \"variable\": \"predict\", \"value\": 1961.2057158350945}, {\"year\": \"1992\", \"variable\": \"predict\", \"value\": 2038.3813506960869}, {\"year\": \"1993\", \"variable\": \"predict\", \"value\": 2118.4899086356163}, {\"year\": \"1994\", \"variable\": \"predict\", \"value\": 2201.67036986351}, {\"year\": \"1995\", \"variable\": \"predict\", \"value\": 2288.0617144703865}, {\"year\": \"1996\", \"variable\": \"predict\", \"value\": 2377.802922666073}, {\"year\": \"1997\", \"variable\": \"predict\", \"value\": 2471.0329743027687}, {\"year\": \"1998\", \"variable\": \"predict\", \"value\": 2567.89084982872}, {\"year\": \"1999\", \"variable\": \"predict\", \"value\": 2668.515529334545}, {\"year\": \"2000\", \"variable\": \"predict\", \"value\": 2773.0459926724434}, {\"year\": \"2001\", \"variable\": \"predict\", \"value\": 2881.621220469475}, {\"year\": \"2002\", \"variable\": \"predict\", \"value\": 2994.3801925182343}, {\"year\": \"2003\", \"variable\": \"predict\", \"value\": 3111.4618889689445}, {\"year\": \"2004\", \"variable\": \"predict\", \"value\": 3233.0052901506424}, {\"year\": \"2005\", \"variable\": \"predict\", \"value\": 3359.149375975132}, {\"year\": \"2006\", \"variable\": \"predict\", \"value\": 3490.03312677145}, {\"year\": \"2007\", \"variable\": \"predict\", \"value\": 3625.79552257061}, {\"year\": \"2008\", \"variable\": \"predict\", \"value\": 3766.57554346323}, {\"year\": \"2009\", \"variable\": \"predict\", \"value\": 3912.512169778347}, {\"year\": \"2010\", \"variable\": \"predict\", \"value\": 4063.7443813681602}, {\"year\": \"2011\", \"variable\": \"predict\", \"value\": 4220.41115885973}, {\"year\": \"2012\", \"variable\": \"predict\", \"value\": 4382.651481807232}, {\"year\": \"2013\", \"variable\": \"predict\", \"value\": 4550.604330599308}, {\"year\": \"2014\", \"variable\": \"predict\", \"value\": 4724.408685386181}, {\"year\": \"2015\", \"variable\": \"predict\", \"value\": 4904.203526318073}, {\"year\": \"2016\", \"variable\": \"predict\", \"value\": 5090.127833783627}, {\"year\": \"2017\", \"variable\": \"predict\", \"value\": 5282.320587337017}, {\"year\": \"2018\", \"variable\": \"predict\", \"value\": 5480.920767605305}, {\"year\": \"2019\", \"variable\": \"predict\", \"value\": 5686.067354500294}, {\"year\": \"2020\", \"variable\": \"predict\", \"value\": 5897.899328291416}]}}, {\"mode\": \"vega-lite\"});\n",
       "</script>"
      ],
      "text/plain": [
       "alt.Chart(...)"
      ]
     },
     "execution_count": 108,
     "metadata": {},
     "output_type": "execute_result"
    }
   ],
   "source": [
    "alt.Chart(predict_polinomyal.melt('year')).mark_line().encode(\n",
    "x='year',\n",
    "y='value',\n",
    "color='variable'\n",
    ").properties(title='polinomyal model predictions')"
   ]
  },
  {
   "cell_type": "code",
   "execution_count": 115,
   "metadata": {},
   "outputs": [],
   "source": [
    "predictions=pd.DataFrame({'year':[i for i in range(2020,2026)]})\n",
    "df_predict = pd.DataFrame({'year':['{}'.format(i) for i in range(2020,2026)],\n",
    "    'linear':model_linear.predict(predictions),\n",
    "    'poly':model_poly.predict(predictions)})"
   ]
  },
  {
   "cell_type": "code",
   "execution_count": 116,
   "metadata": {},
   "outputs": [
    {
     "data": {
      "text/html": [
       "<div>\n",
       "<style scoped>\n",
       "    .dataframe tbody tr th:only-of-type {\n",
       "        vertical-align: middle;\n",
       "    }\n",
       "\n",
       "    .dataframe tbody tr th {\n",
       "        vertical-align: top;\n",
       "    }\n",
       "\n",
       "    .dataframe thead th {\n",
       "        text-align: right;\n",
       "    }\n",
       "</style>\n",
       "<table border=\"1\" class=\"dataframe\">\n",
       "  <thead>\n",
       "    <tr style=\"text-align: right;\">\n",
       "      <th></th>\n",
       "      <th>year</th>\n",
       "      <th>linear</th>\n",
       "      <th>poly</th>\n",
       "    </tr>\n",
       "  </thead>\n",
       "  <tbody>\n",
       "    <tr>\n",
       "      <th>0</th>\n",
       "      <td>2020</td>\n",
       "      <td>4,876.90</td>\n",
       "      <td>5,897.90</td>\n",
       "    </tr>\n",
       "    <tr>\n",
       "      <th>1</th>\n",
       "      <td>2021</td>\n",
       "      <td>4,962.86</td>\n",
       "      <td>6,116.56</td>\n",
       "    </tr>\n",
       "    <tr>\n",
       "      <th>2</th>\n",
       "      <td>2022</td>\n",
       "      <td>5,048.81</td>\n",
       "      <td>6,342.18</td>\n",
       "    </tr>\n",
       "    <tr>\n",
       "      <th>3</th>\n",
       "      <td>2023</td>\n",
       "      <td>5,134.76</td>\n",
       "      <td>6,574.90</td>\n",
       "    </tr>\n",
       "    <tr>\n",
       "      <th>4</th>\n",
       "      <td>2024</td>\n",
       "      <td>5,220.71</td>\n",
       "      <td>6,814.86</td>\n",
       "    </tr>\n",
       "    <tr>\n",
       "      <th>5</th>\n",
       "      <td>2025</td>\n",
       "      <td>5,306.66</td>\n",
       "      <td>7,062.20</td>\n",
       "    </tr>\n",
       "  </tbody>\n",
       "</table>\n",
       "</div>"
      ],
      "text/plain": [
       "   year   linear     poly\n",
       "0  2020 4,876.90 5,897.90\n",
       "1  2021 4,962.86 6,116.56\n",
       "2  2022 5,048.81 6,342.18\n",
       "3  2023 5,134.76 6,574.90\n",
       "4  2024 5,220.71 6,814.86\n",
       "5  2025 5,306.66 7,062.20"
      ]
     },
     "execution_count": 116,
     "metadata": {},
     "output_type": "execute_result"
    }
   ],
   "source": [
    "df_predict"
   ]
  },
  {
   "cell_type": "code",
   "execution_count": 120,
   "metadata": {},
   "outputs": [
    {
     "data": {
      "text/html": [
       "\n",
       "<div id=\"altair-viz-2fccf2bb005a41e1af8e19365fd7b3ed\"></div>\n",
       "<script type=\"text/javascript\">\n",
       "  (function(spec, embedOpt){\n",
       "    let outputDiv = document.currentScript.previousElementSibling;\n",
       "    if (outputDiv.id !== \"altair-viz-2fccf2bb005a41e1af8e19365fd7b3ed\") {\n",
       "      outputDiv = document.getElementById(\"altair-viz-2fccf2bb005a41e1af8e19365fd7b3ed\");\n",
       "    }\n",
       "    const paths = {\n",
       "      \"vega\": \"https://cdn.jsdelivr.net/npm//vega@5?noext\",\n",
       "      \"vega-lib\": \"https://cdn.jsdelivr.net/npm//vega-lib?noext\",\n",
       "      \"vega-lite\": \"https://cdn.jsdelivr.net/npm//vega-lite@4.8.1?noext\",\n",
       "      \"vega-embed\": \"https://cdn.jsdelivr.net/npm//vega-embed@6?noext\",\n",
       "    };\n",
       "\n",
       "    function loadScript(lib) {\n",
       "      return new Promise(function(resolve, reject) {\n",
       "        var s = document.createElement('script');\n",
       "        s.src = paths[lib];\n",
       "        s.async = true;\n",
       "        s.onload = () => resolve(paths[lib]);\n",
       "        s.onerror = () => reject(`Error loading script: ${paths[lib]}`);\n",
       "        document.getElementsByTagName(\"head\")[0].appendChild(s);\n",
       "      });\n",
       "    }\n",
       "\n",
       "    function showError(err) {\n",
       "      outputDiv.innerHTML = `<div class=\"error\" style=\"color:red;\">${err}</div>`;\n",
       "      throw err;\n",
       "    }\n",
       "\n",
       "    function displayChart(vegaEmbed) {\n",
       "      vegaEmbed(outputDiv, spec, embedOpt)\n",
       "        .catch(err => showError(`Javascript Error: ${err.message}<br>This usually means there's a typo in your chart specification. See the javascript console for the full traceback.`));\n",
       "    }\n",
       "\n",
       "    if(typeof define === \"function\" && define.amd) {\n",
       "      requirejs.config({paths});\n",
       "      require([\"vega-embed\"], displayChart, err => showError(`Error loading script: ${err.message}`));\n",
       "    } else if (typeof vegaEmbed === \"function\") {\n",
       "      displayChart(vegaEmbed);\n",
       "    } else {\n",
       "      loadScript(\"vega\")\n",
       "        .then(() => loadScript(\"vega-lite\"))\n",
       "        .then(() => loadScript(\"vega-embed\"))\n",
       "        .catch(showError)\n",
       "        .then(() => displayChart(vegaEmbed));\n",
       "    }\n",
       "  })({\"config\": {\"view\": {\"continuousWidth\": 400, \"continuousHeight\": 300}}, \"layer\": [{\"data\": {\"name\": \"data-4c80d6920ca3754808320276182b6b64\"}, \"mark\": \"point\", \"encoding\": {\"color\": {\"type\": \"nominal\", \"field\": \"variable\"}, \"x\": {\"type\": \"nominal\", \"field\": \"year\"}, \"y\": {\"type\": \"quantitative\", \"field\": \"value\"}}}, {\"data\": {\"name\": \"data-4c80d6920ca3754808320276182b6b64\"}, \"mark\": \"line\", \"encoding\": {\"color\": {\"type\": \"nominal\", \"field\": \"variable\"}, \"x\": {\"type\": \"nominal\", \"field\": \"year\"}, \"y\": {\"type\": \"quantitative\", \"field\": \"value\"}}, \"title\": \"Prediction from 2020 to 2025\", \"width\": {\"step\": 70}}], \"$schema\": \"https://vega.github.io/schema/vega-lite/v4.8.1.json\", \"datasets\": {\"data-4c80d6920ca3754808320276182b6b64\": [{\"year\": \"2020\", \"variable\": \"linear\", \"value\": 4876.903866991866}, {\"year\": \"2021\", \"variable\": \"linear\", \"value\": 4962.855887232901}, {\"year\": \"2022\", \"variable\": \"linear\", \"value\": 5048.807907473965}, {\"year\": \"2023\", \"variable\": \"linear\", \"value\": 5134.759927715}, {\"year\": \"2024\", \"variable\": \"linear\", \"value\": 5220.711947956035}, {\"year\": \"2025\", \"variable\": \"linear\", \"value\": 5306.663968197099}, {\"year\": \"2020\", \"variable\": \"poly\", \"value\": 5897.899328291416}, {\"year\": \"2021\", \"variable\": \"poly\", \"value\": 6116.5556690096855}, {\"year\": \"2022\", \"variable\": \"poly\", \"value\": 6342.175356805325}, {\"year\": \"2023\", \"variable\": \"poly\", \"value\": 6574.897371947765}, {\"year\": \"2024\", \"variable\": \"poly\", \"value\": 6814.8606942892075}, {\"year\": \"2025\", \"variable\": \"poly\", \"value\": 7062.204304277897}]}}, {\"mode\": \"vega-lite\"});\n",
       "</script>"
      ],
      "text/plain": [
       "alt.LayerChart(...)"
      ]
     },
     "execution_count": 120,
     "metadata": {},
     "output_type": "execute_result"
    }
   ],
   "source": [
    "alt.Chart(df_predict.melt('year')).mark_point().encode(\n",
    "x='year',\n",
    "y='value',\n",
    "color='variable'\n",
    ")+alt.Chart(df_predict.melt('year')).mark_line().encode(\n",
    "x='year',\n",
    "y='value',\n",
    "color='variable'\n",
    ").properties(title='Prediction from 2020 to 2025',width=alt.Step(70))"
   ]
  },
  {
   "cell_type": "code",
   "execution_count": null,
   "metadata": {},
   "outputs": [],
   "source": []
  }
 ],
 "metadata": {
  "kernelspec": {
   "display_name": "Python 3",
   "language": "python",
   "name": "python3"
  },
  "language_info": {
   "codemirror_mode": {
    "name": "ipython",
    "version": 3
   },
   "file_extension": ".py",
   "mimetype": "text/x-python",
   "name": "python",
   "nbconvert_exporter": "python",
   "pygments_lexer": "ipython3",
   "version": "3.7.6"
  }
 },
 "nbformat": 4,
 "nbformat_minor": 4
}
