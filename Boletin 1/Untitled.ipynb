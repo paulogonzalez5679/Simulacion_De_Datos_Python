{
 "cells": [
  {
   "cell_type": "code",
   "execution_count": 37,
   "metadata": {},
   "outputs": [],
   "source": [
    "import pandas as pd\n",
    "import numpy as np\n",
    "import altair as alt\n",
    "from sklearn.linear_model import LinearRegression\n",
    "from sklearn.pipeline import Pipeline\n",
    "from sklearn.preprocessing import PolynomialFeatures"
   ]
  },
  {
   "cell_type": "code",
   "execution_count": 164,
   "metadata": {
    "scrolled": true
   },
   "outputs": [
    {
     "data": {
      "text/html": [
       "<div>\n",
       "<style scoped>\n",
       "    .dataframe tbody tr th:only-of-type {\n",
       "        vertical-align: middle;\n",
       "    }\n",
       "\n",
       "    .dataframe tbody tr th {\n",
       "        vertical-align: top;\n",
       "    }\n",
       "\n",
       "    .dataframe thead th {\n",
       "        text-align: right;\n",
       "    }\n",
       "</style>\n",
       "<table border=\"1\" class=\"dataframe\">\n",
       "  <thead>\n",
       "    <tr style=\"text-align: right;\">\n",
       "      <th></th>\n",
       "      <th>Country Name</th>\n",
       "      <th>Country Code</th>\n",
       "      <th>Indicator Name</th>\n",
       "      <th>Indicator Code</th>\n",
       "      <th>1960</th>\n",
       "      <th>1961</th>\n",
       "      <th>1962</th>\n",
       "      <th>1963</th>\n",
       "      <th>1964</th>\n",
       "      <th>1965</th>\n",
       "      <th>...</th>\n",
       "      <th>2011</th>\n",
       "      <th>2012</th>\n",
       "      <th>2013</th>\n",
       "      <th>2014</th>\n",
       "      <th>2015</th>\n",
       "      <th>2016</th>\n",
       "      <th>2017</th>\n",
       "      <th>2018</th>\n",
       "      <th>2019</th>\n",
       "      <th>2020</th>\n",
       "    </tr>\n",
       "  </thead>\n",
       "  <tbody>\n",
       "    <tr>\n",
       "      <th>64</th>\n",
       "      <td>Ecuador</td>\n",
       "      <td>ECU</td>\n",
       "      <td>PIB per cápita (UMN actual)</td>\n",
       "      <td>NY.GDP.PCAP.CN</td>\n",
       "      <td>379.37</td>\n",
       "      <td>343.79</td>\n",
       "      <td>315.54</td>\n",
       "      <td>368.45</td>\n",
       "      <td>440.35</td>\n",
       "      <td>454.98</td>\n",
       "      <td>...</td>\n",
       "      <td>5,200.56</td>\n",
       "      <td>5,682.05</td>\n",
       "      <td>6,056.33</td>\n",
       "      <td>6,377.09</td>\n",
       "      <td>6,124.49</td>\n",
       "      <td>6,060.09</td>\n",
       "      <td>6,213.50</td>\n",
       "      <td>6,295.94</td>\n",
       "      <td>6,183.82</td>\n",
       "      <td>nan</td>\n",
       "    </tr>\n",
       "  </tbody>\n",
       "</table>\n",
       "<p>1 rows × 65 columns</p>\n",
       "</div>"
      ],
      "text/plain": [
       "   Country Name Country Code               Indicator Name  Indicator Code  \\\n",
       "64      Ecuador          ECU  PIB per cápita (UMN actual)  NY.GDP.PCAP.CN   \n",
       "\n",
       "     1960   1961   1962   1963   1964   1965  ...     2011     2012     2013  \\\n",
       "64 379.37 343.79 315.54 368.45 440.35 454.98  ... 5,200.56 5,682.05 6,056.33   \n",
       "\n",
       "       2014     2015     2016     2017     2018     2019  2020  \n",
       "64 6,377.09 6,124.49 6,060.09 6,213.50 6,295.94 6,183.82   nan  \n",
       "\n",
       "[1 rows x 65 columns]"
      ]
     },
     "execution_count": 164,
     "metadata": {},
     "output_type": "execute_result"
    }
   ],
   "source": [
    "dataset_read= pd.read_csv('PIB_Ecuador.csv',sep=',')\n",
    "dataset_read = dataset_read[dataset_read['Country Name']=='Ecuador']\n",
    "dataset_read.head()"
   ]
  },
  {
   "cell_type": "code",
   "execution_count": 165,
   "metadata": {},
   "outputs": [],
   "source": [
    "dataset_read = dataset_read[dataset_read['Country Name']=='Ecuador']\n",
    "dataset_read = pd.DataFrame(dataset_read.iloc[0].loc['1960':])\n"
   ]
  },
  {
   "cell_type": "code",
   "execution_count": 166,
   "metadata": {},
   "outputs": [],
   "source": [
    "dataset_read.reset_index(inplace=True)\n",
    "dataset_read.columns = ['year','pib_value']"
   ]
  },
  {
   "cell_type": "code",
   "execution_count": 167,
   "metadata": {},
   "outputs": [
    {
     "data": {
      "text/html": [
       "\n",
       "<div id=\"altair-viz-f0375a850831475188d72d09d75997ea\"></div>\n",
       "<script type=\"text/javascript\">\n",
       "  (function(spec, embedOpt){\n",
       "    let outputDiv = document.currentScript.previousElementSibling;\n",
       "    if (outputDiv.id !== \"altair-viz-f0375a850831475188d72d09d75997ea\") {\n",
       "      outputDiv = document.getElementById(\"altair-viz-f0375a850831475188d72d09d75997ea\");\n",
       "    }\n",
       "    const paths = {\n",
       "      \"vega\": \"https://cdn.jsdelivr.net/npm//vega@5?noext\",\n",
       "      \"vega-lib\": \"https://cdn.jsdelivr.net/npm//vega-lib?noext\",\n",
       "      \"vega-lite\": \"https://cdn.jsdelivr.net/npm//vega-lite@4.8.1?noext\",\n",
       "      \"vega-embed\": \"https://cdn.jsdelivr.net/npm//vega-embed@6?noext\",\n",
       "    };\n",
       "\n",
       "    function loadScript(lib) {\n",
       "      return new Promise(function(resolve, reject) {\n",
       "        var s = document.createElement('script');\n",
       "        s.src = paths[lib];\n",
       "        s.async = true;\n",
       "        s.onload = () => resolve(paths[lib]);\n",
       "        s.onerror = () => reject(`Error loading script: ${paths[lib]}`);\n",
       "        document.getElementsByTagName(\"head\")[0].appendChild(s);\n",
       "      });\n",
       "    }\n",
       "\n",
       "    function showError(err) {\n",
       "      outputDiv.innerHTML = `<div class=\"error\" style=\"color:red;\">${err}</div>`;\n",
       "      throw err;\n",
       "    }\n",
       "\n",
       "    function displayChart(vegaEmbed) {\n",
       "      vegaEmbed(outputDiv, spec, embedOpt)\n",
       "        .catch(err => showError(`Javascript Error: ${err.message}<br>This usually means there's a typo in your chart specification. See the javascript console for the full traceback.`));\n",
       "    }\n",
       "\n",
       "    if(typeof define === \"function\" && define.amd) {\n",
       "      requirejs.config({paths});\n",
       "      require([\"vega-embed\"], displayChart, err => showError(`Error loading script: ${err.message}`));\n",
       "    } else if (typeof vegaEmbed === \"function\") {\n",
       "      displayChart(vegaEmbed);\n",
       "    } else {\n",
       "      loadScript(\"vega\")\n",
       "        .then(() => loadScript(\"vega-lite\"))\n",
       "        .then(() => loadScript(\"vega-embed\"))\n",
       "        .catch(showError)\n",
       "        .then(() => displayChart(vegaEmbed));\n",
       "    }\n",
       "  })({\"config\": {\"view\": {\"continuousWidth\": 400, \"continuousHeight\": 300}}, \"data\": {\"name\": \"data-b35493105c44b8a560bbad64c6ea2f6f\"}, \"mark\": \"line\", \"encoding\": {\"color\": {\"type\": \"nominal\", \"field\": \"variable\"}, \"x\": {\"type\": \"nominal\", \"field\": \"year\"}, \"y\": {\"type\": \"quantitative\", \"field\": \"value\", \"title\": \"PIB\"}}, \"title\": \"PIB Ecuador\", \"$schema\": \"https://vega.github.io/schema/vega-lite/v4.8.1.json\", \"datasets\": {\"data-b35493105c44b8a560bbad64c6ea2f6f\": [{\"year\": \"1960\", \"variable\": \"level_0\", \"value\": 0.0}, {\"year\": \"1961\", \"variable\": \"level_0\", \"value\": 1.0}, {\"year\": \"1962\", \"variable\": \"level_0\", \"value\": 2.0}, {\"year\": \"1963\", \"variable\": \"level_0\", \"value\": 3.0}, {\"year\": \"1964\", \"variable\": \"level_0\", \"value\": 4.0}, {\"year\": \"1965\", \"variable\": \"level_0\", \"value\": 5.0}, {\"year\": \"1966\", \"variable\": \"level_0\", \"value\": 6.0}, {\"year\": \"1967\", \"variable\": \"level_0\", \"value\": 7.0}, {\"year\": \"1968\", \"variable\": \"level_0\", \"value\": 8.0}, {\"year\": \"1969\", \"variable\": \"level_0\", \"value\": 9.0}, {\"year\": \"1970\", \"variable\": \"level_0\", \"value\": 10.0}, {\"year\": \"1971\", \"variable\": \"level_0\", \"value\": 11.0}, {\"year\": \"1972\", \"variable\": \"level_0\", \"value\": 12.0}, {\"year\": \"1973\", \"variable\": \"level_0\", \"value\": 13.0}, {\"year\": \"1974\", \"variable\": \"level_0\", \"value\": 14.0}, {\"year\": \"1975\", \"variable\": \"level_0\", \"value\": 15.0}, {\"year\": \"1976\", \"variable\": \"level_0\", \"value\": 16.0}, {\"year\": \"1977\", \"variable\": \"level_0\", \"value\": 17.0}, {\"year\": \"1978\", \"variable\": \"level_0\", \"value\": 18.0}, {\"year\": \"1979\", \"variable\": \"level_0\", \"value\": 19.0}, {\"year\": \"1980\", \"variable\": \"level_0\", \"value\": 20.0}, {\"year\": \"1981\", \"variable\": \"level_0\", \"value\": 21.0}, {\"year\": \"1982\", \"variable\": \"level_0\", \"value\": 22.0}, {\"year\": \"1983\", \"variable\": \"level_0\", \"value\": 23.0}, {\"year\": \"1984\", \"variable\": \"level_0\", \"value\": 24.0}, {\"year\": \"1985\", \"variable\": \"level_0\", \"value\": 25.0}, {\"year\": \"1986\", \"variable\": \"level_0\", \"value\": 26.0}, {\"year\": \"1987\", \"variable\": \"level_0\", \"value\": 27.0}, {\"year\": \"1988\", \"variable\": \"level_0\", \"value\": 28.0}, {\"year\": \"1989\", \"variable\": \"level_0\", \"value\": 29.0}, {\"year\": \"1990\", \"variable\": \"level_0\", \"value\": 30.0}, {\"year\": \"1991\", \"variable\": \"level_0\", \"value\": 31.0}, {\"year\": \"1992\", \"variable\": \"level_0\", \"value\": 32.0}, {\"year\": \"1993\", \"variable\": \"level_0\", \"value\": 33.0}, {\"year\": \"1994\", \"variable\": \"level_0\", \"value\": 34.0}, {\"year\": \"1995\", \"variable\": \"level_0\", \"value\": 35.0}, {\"year\": \"1996\", \"variable\": \"level_0\", \"value\": 36.0}, {\"year\": \"1997\", \"variable\": \"level_0\", \"value\": 37.0}, {\"year\": \"1998\", \"variable\": \"level_0\", \"value\": 38.0}, {\"year\": \"1999\", \"variable\": \"level_0\", \"value\": 39.0}, {\"year\": \"2000\", \"variable\": \"level_0\", \"value\": 40.0}, {\"year\": \"2001\", \"variable\": \"level_0\", \"value\": 41.0}, {\"year\": \"2002\", \"variable\": \"level_0\", \"value\": 42.0}, {\"year\": \"2003\", \"variable\": \"level_0\", \"value\": 43.0}, {\"year\": \"2004\", \"variable\": \"level_0\", \"value\": 44.0}, {\"year\": \"2005\", \"variable\": \"level_0\", \"value\": 45.0}, {\"year\": \"2006\", \"variable\": \"level_0\", \"value\": 46.0}, {\"year\": \"2007\", \"variable\": \"level_0\", \"value\": 47.0}, {\"year\": \"2008\", \"variable\": \"level_0\", \"value\": 48.0}, {\"year\": \"2009\", \"variable\": \"level_0\", \"value\": 49.0}, {\"year\": \"2010\", \"variable\": \"level_0\", \"value\": 50.0}, {\"year\": \"2011\", \"variable\": \"level_0\", \"value\": 51.0}, {\"year\": \"2012\", \"variable\": \"level_0\", \"value\": 52.0}, {\"year\": \"2013\", \"variable\": \"level_0\", \"value\": 53.0}, {\"year\": \"2014\", \"variable\": \"level_0\", \"value\": 54.0}, {\"year\": \"2015\", \"variable\": \"level_0\", \"value\": 55.0}, {\"year\": \"2016\", \"variable\": \"level_0\", \"value\": 56.0}, {\"year\": \"2017\", \"variable\": \"level_0\", \"value\": 57.0}, {\"year\": \"2018\", \"variable\": \"level_0\", \"value\": 58.0}, {\"year\": \"2019\", \"variable\": \"level_0\", \"value\": 59.0}, {\"year\": \"2020\", \"variable\": \"level_0\", \"value\": 60.0}, {\"year\": \"1960\", \"variable\": \"index\", \"value\": 0.0}, {\"year\": \"1961\", \"variable\": \"index\", \"value\": 1.0}, {\"year\": \"1962\", \"variable\": \"index\", \"value\": 2.0}, {\"year\": \"1963\", \"variable\": \"index\", \"value\": 3.0}, {\"year\": \"1964\", \"variable\": \"index\", \"value\": 4.0}, {\"year\": \"1965\", \"variable\": \"index\", \"value\": 5.0}, {\"year\": \"1966\", \"variable\": \"index\", \"value\": 6.0}, {\"year\": \"1967\", \"variable\": \"index\", \"value\": 7.0}, {\"year\": \"1968\", \"variable\": \"index\", \"value\": 8.0}, {\"year\": \"1969\", \"variable\": \"index\", \"value\": 9.0}, {\"year\": \"1970\", \"variable\": \"index\", \"value\": 10.0}, {\"year\": \"1971\", \"variable\": \"index\", \"value\": 11.0}, {\"year\": \"1972\", \"variable\": \"index\", \"value\": 12.0}, {\"year\": \"1973\", \"variable\": \"index\", \"value\": 13.0}, {\"year\": \"1974\", \"variable\": \"index\", \"value\": 14.0}, {\"year\": \"1975\", \"variable\": \"index\", \"value\": 15.0}, {\"year\": \"1976\", \"variable\": \"index\", \"value\": 16.0}, {\"year\": \"1977\", \"variable\": \"index\", \"value\": 17.0}, {\"year\": \"1978\", \"variable\": \"index\", \"value\": 18.0}, {\"year\": \"1979\", \"variable\": \"index\", \"value\": 19.0}, {\"year\": \"1980\", \"variable\": \"index\", \"value\": 20.0}, {\"year\": \"1981\", \"variable\": \"index\", \"value\": 21.0}, {\"year\": \"1982\", \"variable\": \"index\", \"value\": 22.0}, {\"year\": \"1983\", \"variable\": \"index\", \"value\": 23.0}, {\"year\": \"1984\", \"variable\": \"index\", \"value\": 24.0}, {\"year\": \"1985\", \"variable\": \"index\", \"value\": 25.0}, {\"year\": \"1986\", \"variable\": \"index\", \"value\": 26.0}, {\"year\": \"1987\", \"variable\": \"index\", \"value\": 27.0}, {\"year\": \"1988\", \"variable\": \"index\", \"value\": 28.0}, {\"year\": \"1989\", \"variable\": \"index\", \"value\": 29.0}, {\"year\": \"1990\", \"variable\": \"index\", \"value\": 30.0}, {\"year\": \"1991\", \"variable\": \"index\", \"value\": 31.0}, {\"year\": \"1992\", \"variable\": \"index\", \"value\": 32.0}, {\"year\": \"1993\", \"variable\": \"index\", \"value\": 33.0}, {\"year\": \"1994\", \"variable\": \"index\", \"value\": 34.0}, {\"year\": \"1995\", \"variable\": \"index\", \"value\": 35.0}, {\"year\": \"1996\", \"variable\": \"index\", \"value\": 36.0}, {\"year\": \"1997\", \"variable\": \"index\", \"value\": 37.0}, {\"year\": \"1998\", \"variable\": \"index\", \"value\": 38.0}, {\"year\": \"1999\", \"variable\": \"index\", \"value\": 39.0}, {\"year\": \"2000\", \"variable\": \"index\", \"value\": 40.0}, {\"year\": \"2001\", \"variable\": \"index\", \"value\": 41.0}, {\"year\": \"2002\", \"variable\": \"index\", \"value\": 42.0}, {\"year\": \"2003\", \"variable\": \"index\", \"value\": 43.0}, {\"year\": \"2004\", \"variable\": \"index\", \"value\": 44.0}, {\"year\": \"2005\", \"variable\": \"index\", \"value\": 45.0}, {\"year\": \"2006\", \"variable\": \"index\", \"value\": 46.0}, {\"year\": \"2007\", \"variable\": \"index\", \"value\": 47.0}, {\"year\": \"2008\", \"variable\": \"index\", \"value\": 48.0}, {\"year\": \"2009\", \"variable\": \"index\", \"value\": 49.0}, {\"year\": \"2010\", \"variable\": \"index\", \"value\": 50.0}, {\"year\": \"2011\", \"variable\": \"index\", \"value\": 51.0}, {\"year\": \"2012\", \"variable\": \"index\", \"value\": 52.0}, {\"year\": \"2013\", \"variable\": \"index\", \"value\": 53.0}, {\"year\": \"2014\", \"variable\": \"index\", \"value\": 54.0}, {\"year\": \"2015\", \"variable\": \"index\", \"value\": 55.0}, {\"year\": \"2016\", \"variable\": \"index\", \"value\": 56.0}, {\"year\": \"2017\", \"variable\": \"index\", \"value\": 57.0}, {\"year\": \"2018\", \"variable\": \"index\", \"value\": 58.0}, {\"year\": \"2019\", \"variable\": \"index\", \"value\": 59.0}, {\"year\": \"2020\", \"variable\": \"index\", \"value\": 60.0}, {\"year\": \"1960\", \"variable\": \"pib_value\", \"value\": 379.36936990884004}, {\"year\": \"1961\", \"variable\": \"pib_value\", \"value\": 343.788289938134}, {\"year\": \"1962\", \"variable\": \"pib_value\", \"value\": 315.536922326771}, {\"year\": \"1963\", \"variable\": \"pib_value\", \"value\": 368.453256826398}, {\"year\": \"1964\", \"variable\": \"pib_value\", \"value\": 440.348537118614}, {\"year\": \"1965\", \"variable\": \"pib_value\", \"value\": 454.97987500708}, {\"year\": \"1966\", \"variable\": \"pib_value\", \"value\": 449.704616531177}, {\"year\": \"1967\", \"variable\": \"pib_value\", \"value\": 459.058721455997}, {\"year\": \"1968\", \"variable\": \"pib_value\", \"value\": 450.783596564048}, {\"year\": \"1969\", \"variable\": \"pib_value\", \"value\": 527.647388194832}, {\"year\": \"1970\", \"variable\": \"pib_value\", \"value\": 471.404638631714}, {\"year\": \"1971\", \"variable\": \"pib_value\", \"value\": 440.646039691918}, {\"year\": \"1972\", \"variable\": \"pib_value\", \"value\": 495.298223980885}, {\"year\": \"1973\", \"variable\": \"pib_value\", \"value\": 588.054773182069}, {\"year\": \"1974\", \"variable\": \"pib_value\", \"value\": 969.5464540633341}, {\"year\": \"1975\", \"variable\": \"pib_value\", \"value\": 1104.89018682837}, {\"year\": \"1976\", \"variable\": \"pib_value\", \"value\": 1264.30652438643}, {\"year\": \"1977\", \"variable\": \"pib_value\", \"value\": 1492.61551488111}, {\"year\": \"1978\", \"variable\": \"pib_value\", \"value\": 1571.64761387395}, {\"year\": \"1979\", \"variable\": \"pib_value\", \"value\": 1820.1747106141897}, {\"year\": \"1980\", \"variable\": \"pib_value\", \"value\": 2237.14193160605}, {\"year\": \"1981\", \"variable\": \"pib_value\", \"value\": 2659.33611234046}, {\"year\": \"1982\", \"variable\": \"pib_value\", \"value\": 2368.81431569945}, {\"year\": \"1983\", \"variable\": \"pib_value\", \"value\": 1987.8339780400102}, {\"year\": \"1984\", \"variable\": \"pib_value\", \"value\": 1911.5147438865}, {\"year\": \"1985\", \"variable\": \"pib_value\", \"value\": 1890.65386264383}, {\"year\": \"1986\", \"variable\": \"pib_value\", \"value\": 1647.22580875663}, {\"year\": \"1987\", \"variable\": \"pib_value\", \"value\": 1463.7912240243}, {\"year\": \"1988\", \"variable\": \"pib_value\", \"value\": 1337.24815308246}, {\"year\": \"1989\", \"variable\": \"pib_value\", \"value\": 1389.5467014682902}, {\"year\": \"1990\", \"variable\": \"pib_value\", \"value\": 1488.8154884001801}, {\"year\": \"1991\", \"variable\": \"pib_value\", \"value\": 1621.39713868976}, {\"year\": \"1992\", \"variable\": \"pib_value\", \"value\": 1687.6608148334199}, {\"year\": \"1993\", \"variable\": \"pib_value\", \"value\": 1726.89018056526}, {\"year\": \"1994\", \"variable\": \"pib_value\", \"value\": 2025.09965871702}, {\"year\": \"1995\", \"variable\": \"pib_value\", \"value\": 2131.84051545481}, {\"year\": \"1996\", \"variable\": \"pib_value\", \"value\": 2154.43947086491}, {\"year\": \"1997\", \"variable\": \"pib_value\", \"value\": 2355.19265776242}, {\"year\": \"1998\", \"variable\": \"pib_value\", \"value\": 2292.74279049738}, {\"year\": \"1999\", \"variable\": \"pib_value\", \"value\": 1578.1440695573099}, {\"year\": \"2000\", \"variable\": \"pib_value\", \"value\": 1444.5566847668}, {\"year\": \"2001\", \"variable\": \"pib_value\", \"value\": 1894.61516893932}, {\"year\": \"2002\", \"variable\": \"pib_value\", \"value\": 2172.1018772447}, {\"year\": \"2003\", \"variable\": \"pib_value\", \"value\": 2425.85184175715}, {\"year\": \"2004\", \"variable\": \"pib_value\", \"value\": 2691.27808061965}, {\"year\": \"2005\", \"variable\": \"pib_value\", \"value\": 3002.13686727475}, {\"year\": \"2006\", \"variable\": \"pib_value\", \"value\": 3328.88297239765}, {\"year\": \"2007\", \"variable\": \"pib_value\", \"value\": 3567.83643782206}, {\"year\": \"2008\", \"variable\": \"pib_value\", \"value\": 4249.01926210976}, {\"year\": \"2009\", \"variable\": \"pib_value\", \"value\": 4231.615797678471}, {\"year\": \"2010\", \"variable\": \"pib_value\", \"value\": 4633.59035839904}, {\"year\": \"2011\", \"variable\": \"pib_value\", \"value\": 5200.55579014874}, {\"year\": \"2012\", \"variable\": \"pib_value\", \"value\": 5682.045006553531}, {\"year\": \"2013\", \"variable\": \"pib_value\", \"value\": 6056.3308269681}, {\"year\": \"2014\", \"variable\": \"pib_value\", \"value\": 6377.09153014217}, {\"year\": \"2015\", \"variable\": \"pib_value\", \"value\": 6124.49164262072}, {\"year\": \"2016\", \"variable\": \"pib_value\", \"value\": 6060.09332904416}, {\"year\": \"2017\", \"variable\": \"pib_value\", \"value\": 6213.50127649921}, {\"year\": \"2018\", \"variable\": \"pib_value\", \"value\": 6295.93539868079}, {\"year\": \"2019\", \"variable\": \"pib_value\", \"value\": 6183.823824821729}, {\"year\": \"2020\", \"variable\": \"pib_value\", \"value\": 0.0}, {\"year\": \"1960\", \"variable\": \"change\", \"value\": 0.0}, {\"year\": \"1961\", \"variable\": \"change\", \"value\": -10.349706785274437}, {\"year\": \"1962\", \"variable\": \"change\", \"value\": -8.95342687728501}, {\"year\": \"1963\", \"variable\": \"change\", \"value\": 14.361749698024596}, {\"year\": \"1964\", \"variable\": \"change\", \"value\": 16.326903403076372}, {\"year\": \"1965\", \"variable\": \"change\", \"value\": 3.215820894987573}, {\"year\": \"1966\", \"variable\": \"change\", \"value\": -1.1730496601511493}, {\"year\": \"1967\", \"variable\": \"change\", \"value\": 2.0376706699203004}, {\"year\": \"1968\", \"variable\": \"change\", \"value\": -1.8357200561474336}, {\"year\": \"1969\", \"variable\": \"change\", \"value\": 14.567264682906442}, {\"year\": \"1970\", \"variable\": \"change\", \"value\": -11.930885900140199}, {\"year\": \"1971\", \"variable\": \"change\", \"value\": -6.980341627783873}, {\"year\": \"1972\", \"variable\": \"change\", \"value\": 11.034197508262448}, {\"year\": \"1973\", \"variable\": \"change\", \"value\": 15.773454009949074}, {\"year\": \"1974\", \"variable\": \"change\", \"value\": 39.347437070441266}, {\"year\": \"1975\", \"variable\": \"change\", \"value\": 12.249518945728468}, {\"year\": \"1976\", \"variable\": \"change\", \"value\": 12.608994297124676}, {\"year\": \"1977\", \"variable\": \"change\", \"value\": 15.295900934867687}, {\"year\": \"1978\", \"variable\": \"change\", \"value\": 5.02861444863165}, {\"year\": \"1979\", \"variable\": \"change\", \"value\": 13.65402426981189}, {\"year\": \"1980\", \"variable\": \"change\", \"value\": 18.638389236775804}, {\"year\": \"1981\", \"variable\": \"change\", \"value\": 15.875924023866258}, {\"year\": \"1982\", \"variable\": \"change\", \"value\": -12.264439416612797}, {\"year\": \"1983\", \"variable\": \"change\", \"value\": -19.165601447012385}, {\"year\": \"1984\", \"variable\": \"change\", \"value\": -3.992605047782036}, {\"year\": \"1985\", \"variable\": \"change\", \"value\": -1.1033686099209432}, {\"year\": \"1986\", \"variable\": \"change\", \"value\": -14.778062157182086}, {\"year\": \"1987\", \"variable\": \"change\", \"value\": -12.531471819323112}, {\"year\": \"1988\", \"variable\": \"change\", \"value\": -9.462946024651325}, {\"year\": \"1989\", \"variable\": \"change\", \"value\": 3.763712895044687}, {\"year\": \"1990\", \"variable\": \"change\", \"value\": 6.667635291634433}, {\"year\": \"1991\", \"variable\": \"change\", \"value\": 8.177000386020055}, {\"year\": \"1992\", \"variable\": \"change\", \"value\": 3.926362190864785}, {\"year\": \"1993\", \"variable\": \"change\", \"value\": 2.271676923833059}, {\"year\": \"1994\", \"variable\": \"change\", \"value\": 14.725669271046515}, {\"year\": \"1995\", \"variable\": \"change\", \"value\": 5.006981336735581}, {\"year\": \"1996\", \"variable\": \"change\", \"value\": 1.04894826314279}, {\"year\": \"1997\", \"variable\": \"change\", \"value\": 8.523854141437322}, {\"year\": \"1998\", \"variable\": \"change\", \"value\": -2.7238060686036256}, {\"year\": \"1999\", \"variable\": \"change\", \"value\": -45.28095594849744}, {\"year\": \"2000\", \"variable\": \"change\", \"value\": -9.247638822292078}, {\"year\": \"2001\", \"variable\": \"change\", \"value\": 23.75461210017022}, {\"year\": \"2002\", \"variable\": \"change\", \"value\": 12.775031927018565}, {\"year\": \"2003\", \"variable\": \"change\", \"value\": 10.460241641494797}, {\"year\": \"2004\", \"variable\": \"change\", \"value\": 9.862460545191505}, {\"year\": \"2005\", \"variable\": \"change\", \"value\": 10.354584097869196}, {\"year\": \"2006\", \"variable\": \"change\", \"value\": 9.815487892851912}, {\"year\": \"2007\", \"variable\": \"change\", \"value\": 6.69743329294198}, {\"year\": \"2008\", \"variable\": \"change\", \"value\": 16.031530625480702}, {\"year\": \"2009\", \"variable\": \"change\", \"value\": -0.4112723192128514}, {\"year\": \"2010\", \"variable\": \"change\", \"value\": 8.675228702337348}, {\"year\": \"2011\", \"variable\": \"change\", \"value\": 10.90201614265317}, {\"year\": \"2012\", \"variable\": \"change\", \"value\": 8.473871921983243}, {\"year\": \"2013\", \"variable\": \"change\", \"value\": 6.180075545872108}, {\"year\": \"2014\", \"variable\": \"change\", \"value\": 5.029890219670706}, {\"year\": \"2015\", \"variable\": \"change\", \"value\": -4.124422111438468}, {\"year\": \"2016\", \"variable\": \"change\", \"value\": -1.0626620759769316}, {\"year\": \"2017\", \"variable\": \"change\", \"value\": 2.4689452955497337}, {\"year\": \"2018\", \"variable\": \"change\", \"value\": 1.3093228720048968}, {\"year\": \"2019\", \"variable\": \"change\", \"value\": -1.812981369376134}, {\"year\": \"2020\", \"variable\": \"change\", \"value\": null}]}}, {\"mode\": \"vega-lite\"});\n",
       "</script>"
      ],
      "text/plain": [
       "alt.Chart(...)"
      ]
     },
     "execution_count": 167,
     "metadata": {},
     "output_type": "execute_result"
    }
   ],
   "source": [
    "alt.Chart(df.melt('year')).mark_line().encode(\n",
    "x='year',\n",
    "y=alt.Y('value',title='PIB'),\n",
    "color='variable'\n",
    ").properties(title='PIB Ecuador')"
   ]
  },
  {
   "cell_type": "code",
   "execution_count": 160,
   "metadata": {},
   "outputs": [],
   "source": [
    "dataset_read['change']=dataset_read['pib_value'].diff()\n",
    "dataset_read['change']=(dataset_read['change']/dataset_read['pib_value']) *100\n",
    "dataset_read=df.fillna(0)\n"
   ]
  },
  {
   "cell_type": "code",
   "execution_count": 162,
   "metadata": {},
   "outputs": [
    {
     "data": {
      "text/html": [
       "\n",
       "<div id=\"altair-viz-066823867f92472485c5923bcb6fac2f\"></div>\n",
       "<script type=\"text/javascript\">\n",
       "  (function(spec, embedOpt){\n",
       "    let outputDiv = document.currentScript.previousElementSibling;\n",
       "    if (outputDiv.id !== \"altair-viz-066823867f92472485c5923bcb6fac2f\") {\n",
       "      outputDiv = document.getElementById(\"altair-viz-066823867f92472485c5923bcb6fac2f\");\n",
       "    }\n",
       "    const paths = {\n",
       "      \"vega\": \"https://cdn.jsdelivr.net/npm//vega@5?noext\",\n",
       "      \"vega-lib\": \"https://cdn.jsdelivr.net/npm//vega-lib?noext\",\n",
       "      \"vega-lite\": \"https://cdn.jsdelivr.net/npm//vega-lite@4.8.1?noext\",\n",
       "      \"vega-embed\": \"https://cdn.jsdelivr.net/npm//vega-embed@6?noext\",\n",
       "    };\n",
       "\n",
       "    function loadScript(lib) {\n",
       "      return new Promise(function(resolve, reject) {\n",
       "        var s = document.createElement('script');\n",
       "        s.src = paths[lib];\n",
       "        s.async = true;\n",
       "        s.onload = () => resolve(paths[lib]);\n",
       "        s.onerror = () => reject(`Error loading script: ${paths[lib]}`);\n",
       "        document.getElementsByTagName(\"head\")[0].appendChild(s);\n",
       "      });\n",
       "    }\n",
       "\n",
       "    function showError(err) {\n",
       "      outputDiv.innerHTML = `<div class=\"error\" style=\"color:red;\">${err}</div>`;\n",
       "      throw err;\n",
       "    }\n",
       "\n",
       "    function displayChart(vegaEmbed) {\n",
       "      vegaEmbed(outputDiv, spec, embedOpt)\n",
       "        .catch(err => showError(`Javascript Error: ${err.message}<br>This usually means there's a typo in your chart specification. See the javascript console for the full traceback.`));\n",
       "    }\n",
       "\n",
       "    if(typeof define === \"function\" && define.amd) {\n",
       "      requirejs.config({paths});\n",
       "      require([\"vega-embed\"], displayChart, err => showError(`Error loading script: ${err.message}`));\n",
       "    } else if (typeof vegaEmbed === \"function\") {\n",
       "      displayChart(vegaEmbed);\n",
       "    } else {\n",
       "      loadScript(\"vega\")\n",
       "        .then(() => loadScript(\"vega-lite\"))\n",
       "        .then(() => loadScript(\"vega-embed\"))\n",
       "        .catch(showError)\n",
       "        .then(() => displayChart(vegaEmbed));\n",
       "    }\n",
       "  })({\"config\": {\"view\": {\"continuousWidth\": 400, \"continuousHeight\": 300}}, \"data\": {\"name\": \"data-7609faa40813452a855b999a2d8f587b\"}, \"mark\": \"line\", \"encoding\": {\"x\": {\"type\": \"nominal\", \"field\": \"year\"}, \"y\": {\"type\": \"quantitative\", \"field\": \"value\", \"title\": \"porcentaje de cambio %\"}}, \"title\": \"PIB en Ecuador\", \"$schema\": \"https://vega.github.io/schema/vega-lite/v4.8.1.json\", \"datasets\": {\"data-7609faa40813452a855b999a2d8f587b\": [{\"year\": \"1960\", \"variable\": \"level_0\", \"value\": 0.0}, {\"year\": \"1961\", \"variable\": \"level_0\", \"value\": 1.0}, {\"year\": \"1962\", \"variable\": \"level_0\", \"value\": 2.0}, {\"year\": \"1963\", \"variable\": \"level_0\", \"value\": 3.0}, {\"year\": \"1964\", \"variable\": \"level_0\", \"value\": 4.0}, {\"year\": \"1965\", \"variable\": \"level_0\", \"value\": 5.0}, {\"year\": \"1966\", \"variable\": \"level_0\", \"value\": 6.0}, {\"year\": \"1967\", \"variable\": \"level_0\", \"value\": 7.0}, {\"year\": \"1968\", \"variable\": \"level_0\", \"value\": 8.0}, {\"year\": \"1969\", \"variable\": \"level_0\", \"value\": 9.0}, {\"year\": \"1970\", \"variable\": \"level_0\", \"value\": 10.0}, {\"year\": \"1971\", \"variable\": \"level_0\", \"value\": 11.0}, {\"year\": \"1972\", \"variable\": \"level_0\", \"value\": 12.0}, {\"year\": \"1973\", \"variable\": \"level_0\", \"value\": 13.0}, {\"year\": \"1974\", \"variable\": \"level_0\", \"value\": 14.0}, {\"year\": \"1975\", \"variable\": \"level_0\", \"value\": 15.0}, {\"year\": \"1976\", \"variable\": \"level_0\", \"value\": 16.0}, {\"year\": \"1977\", \"variable\": \"level_0\", \"value\": 17.0}, {\"year\": \"1978\", \"variable\": \"level_0\", \"value\": 18.0}, {\"year\": \"1979\", \"variable\": \"level_0\", \"value\": 19.0}, {\"year\": \"1980\", \"variable\": \"level_0\", \"value\": 20.0}, {\"year\": \"1981\", \"variable\": \"level_0\", \"value\": 21.0}, {\"year\": \"1982\", \"variable\": \"level_0\", \"value\": 22.0}, {\"year\": \"1983\", \"variable\": \"level_0\", \"value\": 23.0}, {\"year\": \"1984\", \"variable\": \"level_0\", \"value\": 24.0}, {\"year\": \"1985\", \"variable\": \"level_0\", \"value\": 25.0}, {\"year\": \"1986\", \"variable\": \"level_0\", \"value\": 26.0}, {\"year\": \"1987\", \"variable\": \"level_0\", \"value\": 27.0}, {\"year\": \"1988\", \"variable\": \"level_0\", \"value\": 28.0}, {\"year\": \"1989\", \"variable\": \"level_0\", \"value\": 29.0}, {\"year\": \"1990\", \"variable\": \"level_0\", \"value\": 30.0}, {\"year\": \"1991\", \"variable\": \"level_0\", \"value\": 31.0}, {\"year\": \"1992\", \"variable\": \"level_0\", \"value\": 32.0}, {\"year\": \"1993\", \"variable\": \"level_0\", \"value\": 33.0}, {\"year\": \"1994\", \"variable\": \"level_0\", \"value\": 34.0}, {\"year\": \"1995\", \"variable\": \"level_0\", \"value\": 35.0}, {\"year\": \"1996\", \"variable\": \"level_0\", \"value\": 36.0}, {\"year\": \"1997\", \"variable\": \"level_0\", \"value\": 37.0}, {\"year\": \"1998\", \"variable\": \"level_0\", \"value\": 38.0}, {\"year\": \"1999\", \"variable\": \"level_0\", \"value\": 39.0}, {\"year\": \"2000\", \"variable\": \"level_0\", \"value\": 40.0}, {\"year\": \"2001\", \"variable\": \"level_0\", \"value\": 41.0}, {\"year\": \"2002\", \"variable\": \"level_0\", \"value\": 42.0}, {\"year\": \"2003\", \"variable\": \"level_0\", \"value\": 43.0}, {\"year\": \"2004\", \"variable\": \"level_0\", \"value\": 44.0}, {\"year\": \"2005\", \"variable\": \"level_0\", \"value\": 45.0}, {\"year\": \"2006\", \"variable\": \"level_0\", \"value\": 46.0}, {\"year\": \"2007\", \"variable\": \"level_0\", \"value\": 47.0}, {\"year\": \"2008\", \"variable\": \"level_0\", \"value\": 48.0}, {\"year\": \"2009\", \"variable\": \"level_0\", \"value\": 49.0}, {\"year\": \"2010\", \"variable\": \"level_0\", \"value\": 50.0}, {\"year\": \"2011\", \"variable\": \"level_0\", \"value\": 51.0}, {\"year\": \"2012\", \"variable\": \"level_0\", \"value\": 52.0}, {\"year\": \"2013\", \"variable\": \"level_0\", \"value\": 53.0}, {\"year\": \"2014\", \"variable\": \"level_0\", \"value\": 54.0}, {\"year\": \"2015\", \"variable\": \"level_0\", \"value\": 55.0}, {\"year\": \"2016\", \"variable\": \"level_0\", \"value\": 56.0}, {\"year\": \"2017\", \"variable\": \"level_0\", \"value\": 57.0}, {\"year\": \"2018\", \"variable\": \"level_0\", \"value\": 58.0}, {\"year\": \"2019\", \"variable\": \"level_0\", \"value\": 59.0}, {\"year\": \"2020\", \"variable\": \"level_0\", \"value\": 60.0}, {\"year\": \"1960\", \"variable\": \"index\", \"value\": 0.0}, {\"year\": \"1961\", \"variable\": \"index\", \"value\": 1.0}, {\"year\": \"1962\", \"variable\": \"index\", \"value\": 2.0}, {\"year\": \"1963\", \"variable\": \"index\", \"value\": 3.0}, {\"year\": \"1964\", \"variable\": \"index\", \"value\": 4.0}, {\"year\": \"1965\", \"variable\": \"index\", \"value\": 5.0}, {\"year\": \"1966\", \"variable\": \"index\", \"value\": 6.0}, {\"year\": \"1967\", \"variable\": \"index\", \"value\": 7.0}, {\"year\": \"1968\", \"variable\": \"index\", \"value\": 8.0}, {\"year\": \"1969\", \"variable\": \"index\", \"value\": 9.0}, {\"year\": \"1970\", \"variable\": \"index\", \"value\": 10.0}, {\"year\": \"1971\", \"variable\": \"index\", \"value\": 11.0}, {\"year\": \"1972\", \"variable\": \"index\", \"value\": 12.0}, {\"year\": \"1973\", \"variable\": \"index\", \"value\": 13.0}, {\"year\": \"1974\", \"variable\": \"index\", \"value\": 14.0}, {\"year\": \"1975\", \"variable\": \"index\", \"value\": 15.0}, {\"year\": \"1976\", \"variable\": \"index\", \"value\": 16.0}, {\"year\": \"1977\", \"variable\": \"index\", \"value\": 17.0}, {\"year\": \"1978\", \"variable\": \"index\", \"value\": 18.0}, {\"year\": \"1979\", \"variable\": \"index\", \"value\": 19.0}, {\"year\": \"1980\", \"variable\": \"index\", \"value\": 20.0}, {\"year\": \"1981\", \"variable\": \"index\", \"value\": 21.0}, {\"year\": \"1982\", \"variable\": \"index\", \"value\": 22.0}, {\"year\": \"1983\", \"variable\": \"index\", \"value\": 23.0}, {\"year\": \"1984\", \"variable\": \"index\", \"value\": 24.0}, {\"year\": \"1985\", \"variable\": \"index\", \"value\": 25.0}, {\"year\": \"1986\", \"variable\": \"index\", \"value\": 26.0}, {\"year\": \"1987\", \"variable\": \"index\", \"value\": 27.0}, {\"year\": \"1988\", \"variable\": \"index\", \"value\": 28.0}, {\"year\": \"1989\", \"variable\": \"index\", \"value\": 29.0}, {\"year\": \"1990\", \"variable\": \"index\", \"value\": 30.0}, {\"year\": \"1991\", \"variable\": \"index\", \"value\": 31.0}, {\"year\": \"1992\", \"variable\": \"index\", \"value\": 32.0}, {\"year\": \"1993\", \"variable\": \"index\", \"value\": 33.0}, {\"year\": \"1994\", \"variable\": \"index\", \"value\": 34.0}, {\"year\": \"1995\", \"variable\": \"index\", \"value\": 35.0}, {\"year\": \"1996\", \"variable\": \"index\", \"value\": 36.0}, {\"year\": \"1997\", \"variable\": \"index\", \"value\": 37.0}, {\"year\": \"1998\", \"variable\": \"index\", \"value\": 38.0}, {\"year\": \"1999\", \"variable\": \"index\", \"value\": 39.0}, {\"year\": \"2000\", \"variable\": \"index\", \"value\": 40.0}, {\"year\": \"2001\", \"variable\": \"index\", \"value\": 41.0}, {\"year\": \"2002\", \"variable\": \"index\", \"value\": 42.0}, {\"year\": \"2003\", \"variable\": \"index\", \"value\": 43.0}, {\"year\": \"2004\", \"variable\": \"index\", \"value\": 44.0}, {\"year\": \"2005\", \"variable\": \"index\", \"value\": 45.0}, {\"year\": \"2006\", \"variable\": \"index\", \"value\": 46.0}, {\"year\": \"2007\", \"variable\": \"index\", \"value\": 47.0}, {\"year\": \"2008\", \"variable\": \"index\", \"value\": 48.0}, {\"year\": \"2009\", \"variable\": \"index\", \"value\": 49.0}, {\"year\": \"2010\", \"variable\": \"index\", \"value\": 50.0}, {\"year\": \"2011\", \"variable\": \"index\", \"value\": 51.0}, {\"year\": \"2012\", \"variable\": \"index\", \"value\": 52.0}, {\"year\": \"2013\", \"variable\": \"index\", \"value\": 53.0}, {\"year\": \"2014\", \"variable\": \"index\", \"value\": 54.0}, {\"year\": \"2015\", \"variable\": \"index\", \"value\": 55.0}, {\"year\": \"2016\", \"variable\": \"index\", \"value\": 56.0}, {\"year\": \"2017\", \"variable\": \"index\", \"value\": 57.0}, {\"year\": \"2018\", \"variable\": \"index\", \"value\": 58.0}, {\"year\": \"2019\", \"variable\": \"index\", \"value\": 59.0}, {\"year\": \"2020\", \"variable\": \"index\", \"value\": 60.0}, {\"year\": \"1960\", \"variable\": \"change\", \"value\": 0.0}, {\"year\": \"1961\", \"variable\": \"change\", \"value\": -10.349706785274437}, {\"year\": \"1962\", \"variable\": \"change\", \"value\": -8.95342687728501}, {\"year\": \"1963\", \"variable\": \"change\", \"value\": 14.361749698024596}, {\"year\": \"1964\", \"variable\": \"change\", \"value\": 16.326903403076372}, {\"year\": \"1965\", \"variable\": \"change\", \"value\": 3.215820894987573}, {\"year\": \"1966\", \"variable\": \"change\", \"value\": -1.1730496601511493}, {\"year\": \"1967\", \"variable\": \"change\", \"value\": 2.0376706699203004}, {\"year\": \"1968\", \"variable\": \"change\", \"value\": -1.8357200561474336}, {\"year\": \"1969\", \"variable\": \"change\", \"value\": 14.567264682906442}, {\"year\": \"1970\", \"variable\": \"change\", \"value\": -11.930885900140199}, {\"year\": \"1971\", \"variable\": \"change\", \"value\": -6.980341627783873}, {\"year\": \"1972\", \"variable\": \"change\", \"value\": 11.034197508262448}, {\"year\": \"1973\", \"variable\": \"change\", \"value\": 15.773454009949074}, {\"year\": \"1974\", \"variable\": \"change\", \"value\": 39.347437070441266}, {\"year\": \"1975\", \"variable\": \"change\", \"value\": 12.249518945728468}, {\"year\": \"1976\", \"variable\": \"change\", \"value\": 12.608994297124676}, {\"year\": \"1977\", \"variable\": \"change\", \"value\": 15.295900934867687}, {\"year\": \"1978\", \"variable\": \"change\", \"value\": 5.02861444863165}, {\"year\": \"1979\", \"variable\": \"change\", \"value\": 13.65402426981189}, {\"year\": \"1980\", \"variable\": \"change\", \"value\": 18.638389236775804}, {\"year\": \"1981\", \"variable\": \"change\", \"value\": 15.875924023866258}, {\"year\": \"1982\", \"variable\": \"change\", \"value\": -12.264439416612797}, {\"year\": \"1983\", \"variable\": \"change\", \"value\": -19.165601447012385}, {\"year\": \"1984\", \"variable\": \"change\", \"value\": -3.992605047782036}, {\"year\": \"1985\", \"variable\": \"change\", \"value\": -1.1033686099209432}, {\"year\": \"1986\", \"variable\": \"change\", \"value\": -14.778062157182086}, {\"year\": \"1987\", \"variable\": \"change\", \"value\": -12.531471819323112}, {\"year\": \"1988\", \"variable\": \"change\", \"value\": -9.462946024651325}, {\"year\": \"1989\", \"variable\": \"change\", \"value\": 3.763712895044687}, {\"year\": \"1990\", \"variable\": \"change\", \"value\": 6.667635291634433}, {\"year\": \"1991\", \"variable\": \"change\", \"value\": 8.177000386020055}, {\"year\": \"1992\", \"variable\": \"change\", \"value\": 3.926362190864785}, {\"year\": \"1993\", \"variable\": \"change\", \"value\": 2.271676923833059}, {\"year\": \"1994\", \"variable\": \"change\", \"value\": 14.725669271046515}, {\"year\": \"1995\", \"variable\": \"change\", \"value\": 5.006981336735581}, {\"year\": \"1996\", \"variable\": \"change\", \"value\": 1.04894826314279}, {\"year\": \"1997\", \"variable\": \"change\", \"value\": 8.523854141437322}, {\"year\": \"1998\", \"variable\": \"change\", \"value\": -2.7238060686036256}, {\"year\": \"1999\", \"variable\": \"change\", \"value\": -45.28095594849744}, {\"year\": \"2000\", \"variable\": \"change\", \"value\": -9.247638822292078}, {\"year\": \"2001\", \"variable\": \"change\", \"value\": 23.75461210017022}, {\"year\": \"2002\", \"variable\": \"change\", \"value\": 12.775031927018565}, {\"year\": \"2003\", \"variable\": \"change\", \"value\": 10.460241641494797}, {\"year\": \"2004\", \"variable\": \"change\", \"value\": 9.862460545191505}, {\"year\": \"2005\", \"variable\": \"change\", \"value\": 10.354584097869196}, {\"year\": \"2006\", \"variable\": \"change\", \"value\": 9.815487892851912}, {\"year\": \"2007\", \"variable\": \"change\", \"value\": 6.69743329294198}, {\"year\": \"2008\", \"variable\": \"change\", \"value\": 16.031530625480702}, {\"year\": \"2009\", \"variable\": \"change\", \"value\": -0.4112723192128514}, {\"year\": \"2010\", \"variable\": \"change\", \"value\": 8.675228702337348}, {\"year\": \"2011\", \"variable\": \"change\", \"value\": 10.90201614265317}, {\"year\": \"2012\", \"variable\": \"change\", \"value\": 8.473871921983243}, {\"year\": \"2013\", \"variable\": \"change\", \"value\": 6.180075545872108}, {\"year\": \"2014\", \"variable\": \"change\", \"value\": 5.029890219670706}, {\"year\": \"2015\", \"variable\": \"change\", \"value\": -4.124422111438468}, {\"year\": \"2016\", \"variable\": \"change\", \"value\": -1.0626620759769316}, {\"year\": \"2017\", \"variable\": \"change\", \"value\": 2.4689452955497337}, {\"year\": \"2018\", \"variable\": \"change\", \"value\": 1.3093228720048968}, {\"year\": \"2019\", \"variable\": \"change\", \"value\": -1.812981369376134}, {\"year\": \"2020\", \"variable\": \"change\", \"value\": null}]}}, {\"mode\": \"vega-lite\"});\n",
       "</script>"
      ],
      "text/plain": [
       "alt.Chart(...)"
      ]
     },
     "execution_count": 162,
     "metadata": {},
     "output_type": "execute_result"
    }
   ],
   "source": [
    "alt.Chart(dataset_read.drop('pib_value',axis=1).melt('year')).mark_line().encode(\n",
    "x='year',\n",
    "y=alt.Y('value',title='porcentaje de cambio %')\n",
    ").properties(title='PIB en Ecuador')"
   ]
  },
  {
   "cell_type": "code",
   "execution_count": 183,
   "metadata": {},
   "outputs": [],
   "source": [
    "data=pd.DataFrame(df['pib_value'].diff())\n",
    "data=data.fillna(0.00)\n",
    "dict_n_vs_p = {'positiva':data.query('pib_value>0').sum()[0],'negativa':np.abs(data.query('pib_value<0').sum()[0])}\n",
    "df_pn = pd.DataFrame(dict_n_vs_p,index=[0]).T\n",
    "df_pn.reset_index(inplace=True)\n",
    "df_pn.columns = ['description','value']"
   ]
  },
  {
   "cell_type": "code",
   "execution_count": 184,
   "metadata": {},
   "outputs": [
    {
     "data": {
      "text/html": [
       "\n",
       "<div id=\"altair-viz-e69e1dc190d3415f8e584d40a3960556\"></div>\n",
       "<script type=\"text/javascript\">\n",
       "  (function(spec, embedOpt){\n",
       "    let outputDiv = document.currentScript.previousElementSibling;\n",
       "    if (outputDiv.id !== \"altair-viz-e69e1dc190d3415f8e584d40a3960556\") {\n",
       "      outputDiv = document.getElementById(\"altair-viz-e69e1dc190d3415f8e584d40a3960556\");\n",
       "    }\n",
       "    const paths = {\n",
       "      \"vega\": \"https://cdn.jsdelivr.net/npm//vega@5?noext\",\n",
       "      \"vega-lib\": \"https://cdn.jsdelivr.net/npm//vega-lib?noext\",\n",
       "      \"vega-lite\": \"https://cdn.jsdelivr.net/npm//vega-lite@4.8.1?noext\",\n",
       "      \"vega-embed\": \"https://cdn.jsdelivr.net/npm//vega-embed@6?noext\",\n",
       "    };\n",
       "\n",
       "    function loadScript(lib) {\n",
       "      return new Promise(function(resolve, reject) {\n",
       "        var s = document.createElement('script');\n",
       "        s.src = paths[lib];\n",
       "        s.async = true;\n",
       "        s.onload = () => resolve(paths[lib]);\n",
       "        s.onerror = () => reject(`Error loading script: ${paths[lib]}`);\n",
       "        document.getElementsByTagName(\"head\")[0].appendChild(s);\n",
       "      });\n",
       "    }\n",
       "\n",
       "    function showError(err) {\n",
       "      outputDiv.innerHTML = `<div class=\"error\" style=\"color:red;\">${err}</div>`;\n",
       "      throw err;\n",
       "    }\n",
       "\n",
       "    function displayChart(vegaEmbed) {\n",
       "      vegaEmbed(outputDiv, spec, embedOpt)\n",
       "        .catch(err => showError(`Javascript Error: ${err.message}<br>This usually means there's a typo in your chart specification. See the javascript console for the full traceback.`));\n",
       "    }\n",
       "\n",
       "    if(typeof define === \"function\" && define.amd) {\n",
       "      requirejs.config({paths});\n",
       "      require([\"vega-embed\"], displayChart, err => showError(`Error loading script: ${err.message}`));\n",
       "    } else if (typeof vegaEmbed === \"function\") {\n",
       "      displayChart(vegaEmbed);\n",
       "    } else {\n",
       "      loadScript(\"vega\")\n",
       "        .then(() => loadScript(\"vega-lite\"))\n",
       "        .then(() => loadScript(\"vega-embed\"))\n",
       "        .catch(showError)\n",
       "        .then(() => displayChart(vegaEmbed));\n",
       "    }\n",
       "  })({\"config\": {\"view\": {\"continuousWidth\": 400, \"continuousHeight\": 300}}, \"data\": {\"name\": \"data-26ebcac892858ed850aec39a21865271\"}, \"mark\": {\"type\": \"bar\", \"size\": 30}, \"encoding\": {\"color\": {\"type\": \"nominal\", \"field\": \"description\"}, \"x\": {\"type\": \"nominal\", \"field\": \"description\"}, \"y\": {\"type\": \"quantitative\", \"field\": \"value\", \"title\": \"PIB \"}}, \"title\": \"Afeccion del COVID en el PIB\", \"width\": {\"step\": 150}, \"$schema\": \"https://vega.github.io/schema/vega-lite/v4.8.1.json\", \"datasets\": {\"data-26ebcac892858ed850aec39a21865271\": [{\"description\": \"positiva\", \"value\": 8648.075806007706}, {\"description\": \"negativa\", \"value\": 9027.445175916546}]}}, {\"mode\": \"vega-lite\"});\n",
       "</script>"
      ],
      "text/plain": [
       "alt.Chart(...)"
      ]
     },
     "execution_count": 184,
     "metadata": {},
     "output_type": "execute_result"
    }
   ],
   "source": [
    "alt.Chart(df_pn).mark_bar(size=30).encode(\n",
    "x='description',\n",
    "y=alt.Y('value',title='PIB '),\n",
    "color='description'\n",
    ").properties(width=alt.Step(150),title='Afeccion del COVID en el PIB')"
   ]
  },
  {
   "cell_type": "code",
   "execution_count": 90,
   "metadata": {},
   "outputs": [],
   "source": [
    "def _obtain_feature_target(df,feature_columns,target_columns):\n",
    "    features = df[feature_columns]\n",
    "    target= df[target_columns]\n",
    "    return features,target\n"
   ]
  },
  {
   "cell_type": "code",
   "execution_count": 91,
   "metadata": {},
   "outputs": [],
   "source": [
    "features,target = _obtain_feature_target(df,['year'],'pib_value')"
   ]
  },
  {
   "cell_type": "code",
   "execution_count": 92,
   "metadata": {},
   "outputs": [
    {
     "name": "stdout",
     "output_type": "stream",
     "text": [
      "Score linear model = 0.6709336527848547\n"
     ]
    }
   ],
   "source": [
    "model_linear = LinearRegression()\n",
    "model_linear = model_linear.fit(features,target)\n",
    "print(\"Score linear model = {}\".format(model_linear.score(features,target)))"
   ]
  },
  {
   "cell_type": "code",
   "execution_count": 192,
   "metadata": {},
   "outputs": [],
   "source": [
    "predict_linear = pd.DataFrame({'year':features.values.reshape(-1),'real':target.values,'predict':model_linear.predict(features)})"
   ]
  },
  {
   "cell_type": "code",
   "execution_count": 197,
   "metadata": {},
   "outputs": [
    {
     "data": {
      "text/html": [
       "\n",
       "<div id=\"altair-viz-c5808e97fa814bc1b7acaf5cc336d3a2\"></div>\n",
       "<script type=\"text/javascript\">\n",
       "  (function(spec, embedOpt){\n",
       "    let outputDiv = document.currentScript.previousElementSibling;\n",
       "    if (outputDiv.id !== \"altair-viz-c5808e97fa814bc1b7acaf5cc336d3a2\") {\n",
       "      outputDiv = document.getElementById(\"altair-viz-c5808e97fa814bc1b7acaf5cc336d3a2\");\n",
       "    }\n",
       "    const paths = {\n",
       "      \"vega\": \"https://cdn.jsdelivr.net/npm//vega@5?noext\",\n",
       "      \"vega-lib\": \"https://cdn.jsdelivr.net/npm//vega-lib?noext\",\n",
       "      \"vega-lite\": \"https://cdn.jsdelivr.net/npm//vega-lite@4.8.1?noext\",\n",
       "      \"vega-embed\": \"https://cdn.jsdelivr.net/npm//vega-embed@6?noext\",\n",
       "    };\n",
       "\n",
       "    function loadScript(lib) {\n",
       "      return new Promise(function(resolve, reject) {\n",
       "        var s = document.createElement('script');\n",
       "        s.src = paths[lib];\n",
       "        s.async = true;\n",
       "        s.onload = () => resolve(paths[lib]);\n",
       "        s.onerror = () => reject(`Error loading script: ${paths[lib]}`);\n",
       "        document.getElementsByTagName(\"head\")[0].appendChild(s);\n",
       "      });\n",
       "    }\n",
       "\n",
       "    function showError(err) {\n",
       "      outputDiv.innerHTML = `<div class=\"error\" style=\"color:red;\">${err}</div>`;\n",
       "      throw err;\n",
       "    }\n",
       "\n",
       "    function displayChart(vegaEmbed) {\n",
       "      vegaEmbed(outputDiv, spec, embedOpt)\n",
       "        .catch(err => showError(`Javascript Error: ${err.message}<br>This usually means there's a typo in your chart specification. See the javascript console for the full traceback.`));\n",
       "    }\n",
       "\n",
       "    if(typeof define === \"function\" && define.amd) {\n",
       "      requirejs.config({paths});\n",
       "      require([\"vega-embed\"], displayChart, err => showError(`Error loading script: ${err.message}`));\n",
       "    } else if (typeof vegaEmbed === \"function\") {\n",
       "      displayChart(vegaEmbed);\n",
       "    } else {\n",
       "      loadScript(\"vega\")\n",
       "        .then(() => loadScript(\"vega-lite\"))\n",
       "        .then(() => loadScript(\"vega-embed\"))\n",
       "        .catch(showError)\n",
       "        .then(() => displayChart(vegaEmbed));\n",
       "    }\n",
       "  })({\"config\": {\"view\": {\"continuousWidth\": 400, \"continuousHeight\": 300}}, \"data\": {\"name\": \"data-99916efd307f713803bce5aee3fb991d\"}, \"mark\": \"line\", \"encoding\": {\"color\": {\"type\": \"nominal\", \"field\": \"variable\"}, \"x\": {\"type\": \"nominal\", \"field\": \"year\"}, \"y\": {\"type\": \"quantitative\", \"field\": \"value\"}}, \"title\": \"Prediccion Lineal\", \"$schema\": \"https://vega.github.io/schema/vega-lite/v4.8.1.json\", \"datasets\": {\"data-99916efd307f713803bce5aee3fb991d\": [{\"year\": \"1960\", \"variable\": \"real\", \"value\": 379.36936990884004}, {\"year\": \"1961\", \"variable\": \"real\", \"value\": 343.788289938134}, {\"year\": \"1962\", \"variable\": \"real\", \"value\": 315.536922326771}, {\"year\": \"1963\", \"variable\": \"real\", \"value\": 368.453256826398}, {\"year\": \"1964\", \"variable\": \"real\", \"value\": 440.348537118614}, {\"year\": \"1965\", \"variable\": \"real\", \"value\": 454.97987500708}, {\"year\": \"1966\", \"variable\": \"real\", \"value\": 449.704616531177}, {\"year\": \"1967\", \"variable\": \"real\", \"value\": 459.058721455997}, {\"year\": \"1968\", \"variable\": \"real\", \"value\": 450.783596564048}, {\"year\": \"1969\", \"variable\": \"real\", \"value\": 527.647388194832}, {\"year\": \"1970\", \"variable\": \"real\", \"value\": 471.404638631714}, {\"year\": \"1971\", \"variable\": \"real\", \"value\": 440.646039691918}, {\"year\": \"1972\", \"variable\": \"real\", \"value\": 495.298223980885}, {\"year\": \"1973\", \"variable\": \"real\", \"value\": 588.054773182069}, {\"year\": \"1974\", \"variable\": \"real\", \"value\": 969.5464540633341}, {\"year\": \"1975\", \"variable\": \"real\", \"value\": 1104.89018682837}, {\"year\": \"1976\", \"variable\": \"real\", \"value\": 1264.30652438643}, {\"year\": \"1977\", \"variable\": \"real\", \"value\": 1492.61551488111}, {\"year\": \"1978\", \"variable\": \"real\", \"value\": 1571.64761387395}, {\"year\": \"1979\", \"variable\": \"real\", \"value\": 1820.1747106141897}, {\"year\": \"1980\", \"variable\": \"real\", \"value\": 2237.14193160605}, {\"year\": \"1981\", \"variable\": \"real\", \"value\": 2659.33611234046}, {\"year\": \"1982\", \"variable\": \"real\", \"value\": 2368.81431569945}, {\"year\": \"1983\", \"variable\": \"real\", \"value\": 1987.8339780400102}, {\"year\": \"1984\", \"variable\": \"real\", \"value\": 1911.5147438865}, {\"year\": \"1985\", \"variable\": \"real\", \"value\": 1890.65386264383}, {\"year\": \"1986\", \"variable\": \"real\", \"value\": 1647.22580875663}, {\"year\": \"1987\", \"variable\": \"real\", \"value\": 1463.7912240243}, {\"year\": \"1988\", \"variable\": \"real\", \"value\": 1337.24815308246}, {\"year\": \"1989\", \"variable\": \"real\", \"value\": 1389.5467014682902}, {\"year\": \"1990\", \"variable\": \"real\", \"value\": 1488.8154884001801}, {\"year\": \"1991\", \"variable\": \"real\", \"value\": 1621.39713868976}, {\"year\": \"1992\", \"variable\": \"real\", \"value\": 1687.6608148334199}, {\"year\": \"1993\", \"variable\": \"real\", \"value\": 1726.89018056526}, {\"year\": \"1994\", \"variable\": \"real\", \"value\": 2025.09965871702}, {\"year\": \"1995\", \"variable\": \"real\", \"value\": 2131.84051545481}, {\"year\": \"1996\", \"variable\": \"real\", \"value\": 2154.43947086491}, {\"year\": \"1997\", \"variable\": \"real\", \"value\": 2355.19265776242}, {\"year\": \"1998\", \"variable\": \"real\", \"value\": 2292.74279049738}, {\"year\": \"1999\", \"variable\": \"real\", \"value\": 1578.1440695573099}, {\"year\": \"2000\", \"variable\": \"real\", \"value\": 1444.5566847668}, {\"year\": \"2001\", \"variable\": \"real\", \"value\": 1894.61516893932}, {\"year\": \"2002\", \"variable\": \"real\", \"value\": 2172.1018772447}, {\"year\": \"2003\", \"variable\": \"real\", \"value\": 2425.85184175715}, {\"year\": \"2004\", \"variable\": \"real\", \"value\": 2691.27808061965}, {\"year\": \"2005\", \"variable\": \"real\", \"value\": 3002.13686727475}, {\"year\": \"2006\", \"variable\": \"real\", \"value\": 3328.88297239765}, {\"year\": \"2007\", \"variable\": \"real\", \"value\": 3567.83643782206}, {\"year\": \"2008\", \"variable\": \"real\", \"value\": 4249.01926210976}, {\"year\": \"2009\", \"variable\": \"real\", \"value\": 4231.615797678471}, {\"year\": \"2010\", \"variable\": \"real\", \"value\": 4633.59035839904}, {\"year\": \"2011\", \"variable\": \"real\", \"value\": 5200.55579014874}, {\"year\": \"2012\", \"variable\": \"real\", \"value\": 5682.045006553531}, {\"year\": \"2013\", \"variable\": \"real\", \"value\": 6056.3308269681}, {\"year\": \"2014\", \"variable\": \"real\", \"value\": 6377.09153014217}, {\"year\": \"2015\", \"variable\": \"real\", \"value\": 6124.49164262072}, {\"year\": \"2016\", \"variable\": \"real\", \"value\": 6060.09332904416}, {\"year\": \"2017\", \"variable\": \"real\", \"value\": 6213.50127649921}, {\"year\": \"2018\", \"variable\": \"real\", \"value\": 6295.93539868079}, {\"year\": \"2019\", \"variable\": \"real\", \"value\": 6183.823824821729}, {\"year\": \"2020\", \"variable\": \"real\", \"value\": 0.0}, {\"year\": \"1960\", \"variable\": \"predict\", \"value\": -280.21734747101436}, {\"year\": \"1961\", \"variable\": \"predict\", \"value\": -194.26532722995034}, {\"year\": \"1962\", \"variable\": \"predict\", \"value\": -108.31330698891543}, {\"year\": \"1963\", \"variable\": \"predict\", \"value\": -22.36128674785141}, {\"year\": \"1964\", \"variable\": \"predict\", \"value\": 63.59073349318351}, {\"year\": \"1965\", \"variable\": \"predict\", \"value\": 149.54275373421842}, {\"year\": \"1966\", \"variable\": \"predict\", \"value\": 235.49477397528244}, {\"year\": \"1967\", \"variable\": \"predict\", \"value\": 321.44679421631736}, {\"year\": \"1968\", \"variable\": \"predict\", \"value\": 407.3988144573814}, {\"year\": \"1969\", \"variable\": \"predict\", \"value\": 493.3508346984163}, {\"year\": \"1970\", \"variable\": \"predict\", \"value\": 579.3028549394803}, {\"year\": \"1971\", \"variable\": \"predict\", \"value\": 665.2548751805152}, {\"year\": \"1972\", \"variable\": \"predict\", \"value\": 751.2068954215792}, {\"year\": \"1973\", \"variable\": \"predict\", \"value\": 837.1589156626142}, {\"year\": \"1974\", \"variable\": \"predict\", \"value\": 923.1109359036491}, {\"year\": \"1975\", \"variable\": \"predict\", \"value\": 1009.0629561447131}, {\"year\": \"1976\", \"variable\": \"predict\", \"value\": 1095.014976385748}, {\"year\": \"1977\", \"variable\": \"predict\", \"value\": 1180.966996626812}, {\"year\": \"1978\", \"variable\": \"predict\", \"value\": 1266.919016867847}, {\"year\": \"1979\", \"variable\": \"predict\", \"value\": 1352.871037108911}, {\"year\": \"1980\", \"variable\": \"predict\", \"value\": 1438.8230573499459}, {\"year\": \"1981\", \"variable\": \"predict\", \"value\": 1524.7750775909808}, {\"year\": \"1982\", \"variable\": \"predict\", \"value\": 1610.7270978320448}, {\"year\": \"1983\", \"variable\": \"predict\", \"value\": 1696.6791180730797}, {\"year\": \"1984\", \"variable\": \"predict\", \"value\": 1782.6311383141438}, {\"year\": \"1985\", \"variable\": \"predict\", \"value\": 1868.5831585551787}, {\"year\": \"1986\", \"variable\": \"predict\", \"value\": 1954.5351787962427}, {\"year\": \"1987\", \"variable\": \"predict\", \"value\": 2040.4871990372776}, {\"year\": \"1988\", \"variable\": \"predict\", \"value\": 2126.4392192783416}, {\"year\": \"1989\", \"variable\": \"predict\", \"value\": 2212.3912395193765}, {\"year\": \"1990\", \"variable\": \"predict\", \"value\": 2298.3432597604115}, {\"year\": \"1991\", \"variable\": \"predict\", \"value\": 2384.2952800014755}, {\"year\": \"1992\", \"variable\": \"predict\", \"value\": 2470.2473002425104}, {\"year\": \"1993\", \"variable\": \"predict\", \"value\": 2556.1993204835744}, {\"year\": \"1994\", \"variable\": \"predict\", \"value\": 2642.1513407246093}, {\"year\": \"1995\", \"variable\": \"predict\", \"value\": 2728.1033609656733}, {\"year\": \"1996\", \"variable\": \"predict\", \"value\": 2814.0553812067083}, {\"year\": \"1997\", \"variable\": \"predict\", \"value\": 2900.0074014477723}, {\"year\": \"1998\", \"variable\": \"predict\", \"value\": 2985.959421688807}, {\"year\": \"1999\", \"variable\": \"predict\", \"value\": 3071.911441929842}, {\"year\": \"2000\", \"variable\": \"predict\", \"value\": 3157.863462170906}, {\"year\": \"2001\", \"variable\": \"predict\", \"value\": 3243.815482411941}, {\"year\": \"2002\", \"variable\": \"predict\", \"value\": 3329.767502653005}, {\"year\": \"2003\", \"variable\": \"predict\", \"value\": 3415.71952289404}, {\"year\": \"2004\", \"variable\": \"predict\", \"value\": 3501.671543135104}, {\"year\": \"2005\", \"variable\": \"predict\", \"value\": 3587.623563376139}, {\"year\": \"2006\", \"variable\": \"predict\", \"value\": 3673.575583617203}, {\"year\": \"2007\", \"variable\": \"predict\", \"value\": 3759.527603858238}, {\"year\": \"2008\", \"variable\": \"predict\", \"value\": 3845.4796240992728}, {\"year\": \"2009\", \"variable\": \"predict\", \"value\": 3931.431644340337}, {\"year\": \"2010\", \"variable\": \"predict\", \"value\": 4017.3836645813717}, {\"year\": \"2011\", \"variable\": \"predict\", \"value\": 4103.335684822436}, {\"year\": \"2012\", \"variable\": \"predict\", \"value\": 4189.287705063471}, {\"year\": \"2013\", \"variable\": \"predict\", \"value\": 4275.239725304535}, {\"year\": \"2014\", \"variable\": \"predict\", \"value\": 4361.19174554557}, {\"year\": \"2015\", \"variable\": \"predict\", \"value\": 4447.1437657866045}, {\"year\": \"2016\", \"variable\": \"predict\", \"value\": 4533.0957860276685}, {\"year\": \"2017\", \"variable\": \"predict\", \"value\": 4619.047806268703}, {\"year\": \"2018\", \"variable\": \"predict\", \"value\": 4704.999826509767}, {\"year\": \"2019\", \"variable\": \"predict\", \"value\": 4790.951846750802}, {\"year\": \"2020\", \"variable\": \"predict\", \"value\": 4876.903866991866}]}}, {\"mode\": \"vega-lite\"});\n",
       "</script>"
      ],
      "text/plain": [
       "alt.Chart(...)"
      ]
     },
     "execution_count": 197,
     "metadata": {},
     "output_type": "execute_result"
    }
   ],
   "source": [
    "alt.Chart(predict_linear.melt('year')).mark_line().encode(\n",
    "x='year',\n",
    "y='value',\n",
    "color='variable'\n",
    ").properties(title='Prediccion Lineal')"
   ]
  },
  {
   "cell_type": "code",
   "execution_count": 28,
   "metadata": {},
   "outputs": [
    {
     "name": "stdout",
     "output_type": "stream",
     "text": [
      "Score polinomyal model = 0.7134725577933035\n"
     ]
    }
   ],
   "source": [
    "model_poly = Pipeline([('poly', PolynomialFeatures(degree=3)),\n",
    "('linear', LinearRegression(fit_intercept=True))])\n",
    "model_poly = model_poly.fit(features,target)\n",
    "print(\"Score polinomyal model = {}\".format(model_poly.score(features,target)))"
   ]
  },
  {
   "cell_type": "code",
   "execution_count": 30,
   "metadata": {},
   "outputs": [],
   "source": [
    "predict_polinomyal = pd.DataFrame({'year':features.values.reshape(-1),'real':target.values,'predict':model_poly.predict(features)})"
   ]
  },
  {
   "cell_type": "code",
   "execution_count": 198,
   "metadata": {},
   "outputs": [
    {
     "data": {
      "text/html": [
       "\n",
       "<div id=\"altair-viz-1a9f0acf29ee4a598cd0792ea25b0058\"></div>\n",
       "<script type=\"text/javascript\">\n",
       "  (function(spec, embedOpt){\n",
       "    let outputDiv = document.currentScript.previousElementSibling;\n",
       "    if (outputDiv.id !== \"altair-viz-1a9f0acf29ee4a598cd0792ea25b0058\") {\n",
       "      outputDiv = document.getElementById(\"altair-viz-1a9f0acf29ee4a598cd0792ea25b0058\");\n",
       "    }\n",
       "    const paths = {\n",
       "      \"vega\": \"https://cdn.jsdelivr.net/npm//vega@5?noext\",\n",
       "      \"vega-lib\": \"https://cdn.jsdelivr.net/npm//vega-lib?noext\",\n",
       "      \"vega-lite\": \"https://cdn.jsdelivr.net/npm//vega-lite@4.8.1?noext\",\n",
       "      \"vega-embed\": \"https://cdn.jsdelivr.net/npm//vega-embed@6?noext\",\n",
       "    };\n",
       "\n",
       "    function loadScript(lib) {\n",
       "      return new Promise(function(resolve, reject) {\n",
       "        var s = document.createElement('script');\n",
       "        s.src = paths[lib];\n",
       "        s.async = true;\n",
       "        s.onload = () => resolve(paths[lib]);\n",
       "        s.onerror = () => reject(`Error loading script: ${paths[lib]}`);\n",
       "        document.getElementsByTagName(\"head\")[0].appendChild(s);\n",
       "      });\n",
       "    }\n",
       "\n",
       "    function showError(err) {\n",
       "      outputDiv.innerHTML = `<div class=\"error\" style=\"color:red;\">${err}</div>`;\n",
       "      throw err;\n",
       "    }\n",
       "\n",
       "    function displayChart(vegaEmbed) {\n",
       "      vegaEmbed(outputDiv, spec, embedOpt)\n",
       "        .catch(err => showError(`Javascript Error: ${err.message}<br>This usually means there's a typo in your chart specification. See the javascript console for the full traceback.`));\n",
       "    }\n",
       "\n",
       "    if(typeof define === \"function\" && define.amd) {\n",
       "      requirejs.config({paths});\n",
       "      require([\"vega-embed\"], displayChart, err => showError(`Error loading script: ${err.message}`));\n",
       "    } else if (typeof vegaEmbed === \"function\") {\n",
       "      displayChart(vegaEmbed);\n",
       "    } else {\n",
       "      loadScript(\"vega\")\n",
       "        .then(() => loadScript(\"vega-lite\"))\n",
       "        .then(() => loadScript(\"vega-embed\"))\n",
       "        .catch(showError)\n",
       "        .then(() => displayChart(vegaEmbed));\n",
       "    }\n",
       "  })({\"config\": {\"view\": {\"continuousWidth\": 400, \"continuousHeight\": 300}}, \"data\": {\"name\": \"data-a20cca961c6e17c2d52f11299f66230b\"}, \"mark\": \"line\", \"encoding\": {\"color\": {\"type\": \"nominal\", \"field\": \"variable\"}, \"x\": {\"type\": \"nominal\", \"field\": \"year\"}, \"y\": {\"type\": \"quantitative\", \"field\": \"value\"}}, \"title\": \"prediccion polinomial\", \"$schema\": \"https://vega.github.io/schema/vega-lite/v4.8.1.json\", \"datasets\": {\"data-a20cca961c6e17c2d52f11299f66230b\": [{\"year\": \"1960\", \"variable\": \"real\", \"value\": 379.36936990884004}, {\"year\": \"1961\", \"variable\": \"real\", \"value\": 343.788289938134}, {\"year\": \"1962\", \"variable\": \"real\", \"value\": 315.536922326771}, {\"year\": \"1963\", \"variable\": \"real\", \"value\": 368.453256826398}, {\"year\": \"1964\", \"variable\": \"real\", \"value\": 440.348537118614}, {\"year\": \"1965\", \"variable\": \"real\", \"value\": 454.97987500708}, {\"year\": \"1966\", \"variable\": \"real\", \"value\": 449.704616531177}, {\"year\": \"1967\", \"variable\": \"real\", \"value\": 459.058721455997}, {\"year\": \"1968\", \"variable\": \"real\", \"value\": 450.783596564048}, {\"year\": \"1969\", \"variable\": \"real\", \"value\": 527.647388194832}, {\"year\": \"1970\", \"variable\": \"real\", \"value\": 471.404638631714}, {\"year\": \"1971\", \"variable\": \"real\", \"value\": 440.646039691918}, {\"year\": \"1972\", \"variable\": \"real\", \"value\": 495.298223980885}, {\"year\": \"1973\", \"variable\": \"real\", \"value\": 588.054773182069}, {\"year\": \"1974\", \"variable\": \"real\", \"value\": 969.5464540633341}, {\"year\": \"1975\", \"variable\": \"real\", \"value\": 1104.89018682837}, {\"year\": \"1976\", \"variable\": \"real\", \"value\": 1264.30652438643}, {\"year\": \"1977\", \"variable\": \"real\", \"value\": 1492.61551488111}, {\"year\": \"1978\", \"variable\": \"real\", \"value\": 1571.64761387395}, {\"year\": \"1979\", \"variable\": \"real\", \"value\": 1820.1747106141897}, {\"year\": \"1980\", \"variable\": \"real\", \"value\": 2237.14193160605}, {\"year\": \"1981\", \"variable\": \"real\", \"value\": 2659.33611234046}, {\"year\": \"1982\", \"variable\": \"real\", \"value\": 2368.81431569945}, {\"year\": \"1983\", \"variable\": \"real\", \"value\": 1987.8339780400102}, {\"year\": \"1984\", \"variable\": \"real\", \"value\": 1911.5147438865}, {\"year\": \"1985\", \"variable\": \"real\", \"value\": 1890.65386264383}, {\"year\": \"1986\", \"variable\": \"real\", \"value\": 1647.22580875663}, {\"year\": \"1987\", \"variable\": \"real\", \"value\": 1463.7912240243}, {\"year\": \"1988\", \"variable\": \"real\", \"value\": 1337.24815308246}, {\"year\": \"1989\", \"variable\": \"real\", \"value\": 1389.5467014682902}, {\"year\": \"1990\", \"variable\": \"real\", \"value\": 1488.8154884001801}, {\"year\": \"1991\", \"variable\": \"real\", \"value\": 1621.39713868976}, {\"year\": \"1992\", \"variable\": \"real\", \"value\": 1687.6608148334199}, {\"year\": \"1993\", \"variable\": \"real\", \"value\": 1726.89018056526}, {\"year\": \"1994\", \"variable\": \"real\", \"value\": 2025.09965871702}, {\"year\": \"1995\", \"variable\": \"real\", \"value\": 2131.84051545481}, {\"year\": \"1996\", \"variable\": \"real\", \"value\": 2154.43947086491}, {\"year\": \"1997\", \"variable\": \"real\", \"value\": 2355.19265776242}, {\"year\": \"1998\", \"variable\": \"real\", \"value\": 2292.74279049738}, {\"year\": \"1999\", \"variable\": \"real\", \"value\": 1578.1440695573099}, {\"year\": \"2000\", \"variable\": \"real\", \"value\": 1444.5566847668}, {\"year\": \"2001\", \"variable\": \"real\", \"value\": 1894.61516893932}, {\"year\": \"2002\", \"variable\": \"real\", \"value\": 2172.1018772447}, {\"year\": \"2003\", \"variable\": \"real\", \"value\": 2425.85184175715}, {\"year\": \"2004\", \"variable\": \"real\", \"value\": 2691.27808061965}, {\"year\": \"2005\", \"variable\": \"real\", \"value\": 3002.13686727475}, {\"year\": \"2006\", \"variable\": \"real\", \"value\": 3328.88297239765}, {\"year\": \"2007\", \"variable\": \"real\", \"value\": 3567.83643782206}, {\"year\": \"2008\", \"variable\": \"real\", \"value\": 4249.01926210976}, {\"year\": \"2009\", \"variable\": \"real\", \"value\": 4231.615797678471}, {\"year\": \"2010\", \"variable\": \"real\", \"value\": 4633.59035839904}, {\"year\": \"2011\", \"variable\": \"real\", \"value\": 5200.55579014874}, {\"year\": \"2012\", \"variable\": \"real\", \"value\": 5682.045006553531}, {\"year\": \"2013\", \"variable\": \"real\", \"value\": 6056.3308269681}, {\"year\": \"2014\", \"variable\": \"real\", \"value\": 6377.09153014217}, {\"year\": \"2015\", \"variable\": \"real\", \"value\": 6124.49164262072}, {\"year\": \"2016\", \"variable\": \"real\", \"value\": 6060.09332904416}, {\"year\": \"2017\", \"variable\": \"real\", \"value\": 6213.50127649921}, {\"year\": \"2018\", \"variable\": \"real\", \"value\": 6295.93539868079}, {\"year\": \"2019\", \"variable\": \"real\", \"value\": 6183.823824821729}, {\"year\": \"2020\", \"variable\": \"real\", \"value\": 0.0}, {\"year\": \"1960\", \"variable\": \"predict\", \"value\": 265.21525025367737}, {\"year\": \"1961\", \"variable\": \"predict\", \"value\": 320.4044181704521}, {\"year\": \"1962\", \"variable\": \"predict\", \"value\": 374.2181247472763}, {\"year\": \"1963\", \"variable\": \"predict\", \"value\": 426.795350253582}, {\"year\": \"1964\", \"variable\": \"predict\", \"value\": 478.27507495880127}, {\"year\": \"1965\", \"variable\": \"predict\", \"value\": 528.7962787747383}, {\"year\": \"1966\", \"variable\": \"predict\", \"value\": 578.4979419708252}, {\"year\": \"1967\", \"variable\": \"predict\", \"value\": 627.5190446972847}, {\"year\": \"1968\", \"variable\": \"predict\", \"value\": 675.9985669851303}, {\"year\": \"1969\", \"variable\": \"predict\", \"value\": 724.0754890441895}, {\"year\": \"1970\", \"variable\": \"predict\", \"value\": 771.8887910842896}, {\"year\": \"1971\", \"variable\": \"predict\", \"value\": 819.5774530172348}, {\"year\": \"1972\", \"variable\": \"predict\", \"value\": 867.2804552912712}, {\"year\": \"1973\", \"variable\": \"predict\", \"value\": 915.136777818203}, {\"year\": \"1974\", \"variable\": \"predict\", \"value\": 963.2854008078575}, {\"year\": \"1975\", \"variable\": \"predict\", \"value\": 1011.865304350853}, {\"year\": \"1976\", \"variable\": \"predict\", \"value\": 1061.0154686570168}, {\"year\": \"1977\", \"variable\": \"predict\", \"value\": 1110.8748739361763}, {\"year\": \"1978\", \"variable\": \"predict\", \"value\": 1161.5825000405312}, {\"year\": \"1979\", \"variable\": \"predict\", \"value\": 1213.2773274183273}, {\"year\": \"1980\", \"variable\": \"predict\", \"value\": 1266.0983361005783}, {\"year\": \"1981\", \"variable\": \"predict\", \"value\": 1320.184506058693}, {\"year\": \"1982\", \"variable\": \"predict\", \"value\": 1375.6748177409172}, {\"year\": \"1983\", \"variable\": \"predict\", \"value\": 1432.7082510590553}, {\"year\": \"1984\", \"variable\": \"predict\", \"value\": 1491.4237862825394}, {\"year\": \"1985\", \"variable\": \"predict\", \"value\": 1551.9604033827782}, {\"year\": \"1986\", \"variable\": \"predict\", \"value\": 1614.4570826888084}, {\"year\": \"1987\", \"variable\": \"predict\", \"value\": 1679.0528042912483}, {\"year\": \"1988\", \"variable\": \"predict\", \"value\": 1745.8865482211113}, {\"year\": \"1989\", \"variable\": \"predict\", \"value\": 1815.0972946882248}, {\"year\": \"1990\", \"variable\": \"predict\", \"value\": 1886.8240239024162}, {\"year\": \"1991\", \"variable\": \"predict\", \"value\": 1961.2057158350945}, {\"year\": \"1992\", \"variable\": \"predict\", \"value\": 2038.3813506960869}, {\"year\": \"1993\", \"variable\": \"predict\", \"value\": 2118.4899086356163}, {\"year\": \"1994\", \"variable\": \"predict\", \"value\": 2201.67036986351}, {\"year\": \"1995\", \"variable\": \"predict\", \"value\": 2288.0617144703865}, {\"year\": \"1996\", \"variable\": \"predict\", \"value\": 2377.802922666073}, {\"year\": \"1997\", \"variable\": \"predict\", \"value\": 2471.0329743027687}, {\"year\": \"1998\", \"variable\": \"predict\", \"value\": 2567.89084982872}, {\"year\": \"1999\", \"variable\": \"predict\", \"value\": 2668.515529334545}, {\"year\": \"2000\", \"variable\": \"predict\", \"value\": 2773.0459926724434}, {\"year\": \"2001\", \"variable\": \"predict\", \"value\": 2881.621220469475}, {\"year\": \"2002\", \"variable\": \"predict\", \"value\": 2994.3801925182343}, {\"year\": \"2003\", \"variable\": \"predict\", \"value\": 3111.4618889689445}, {\"year\": \"2004\", \"variable\": \"predict\", \"value\": 3233.0052901506424}, {\"year\": \"2005\", \"variable\": \"predict\", \"value\": 3359.149375975132}, {\"year\": \"2006\", \"variable\": \"predict\", \"value\": 3490.03312677145}, {\"year\": \"2007\", \"variable\": \"predict\", \"value\": 3625.79552257061}, {\"year\": \"2008\", \"variable\": \"predict\", \"value\": 3766.57554346323}, {\"year\": \"2009\", \"variable\": \"predict\", \"value\": 3912.512169778347}, {\"year\": \"2010\", \"variable\": \"predict\", \"value\": 4063.7443813681602}, {\"year\": \"2011\", \"variable\": \"predict\", \"value\": 4220.41115885973}, {\"year\": \"2012\", \"variable\": \"predict\", \"value\": 4382.651481807232}, {\"year\": \"2013\", \"variable\": \"predict\", \"value\": 4550.604330599308}, {\"year\": \"2014\", \"variable\": \"predict\", \"value\": 4724.408685386181}, {\"year\": \"2015\", \"variable\": \"predict\", \"value\": 4904.203526318073}, {\"year\": \"2016\", \"variable\": \"predict\", \"value\": 5090.127833783627}, {\"year\": \"2017\", \"variable\": \"predict\", \"value\": 5282.320587337017}, {\"year\": \"2018\", \"variable\": \"predict\", \"value\": 5480.920767605305}, {\"year\": \"2019\", \"variable\": \"predict\", \"value\": 5686.067354500294}, {\"year\": \"2020\", \"variable\": \"predict\", \"value\": 5897.899328291416}]}}, {\"mode\": \"vega-lite\"});\n",
       "</script>"
      ],
      "text/plain": [
       "alt.Chart(...)"
      ]
     },
     "execution_count": 198,
     "metadata": {},
     "output_type": "execute_result"
    }
   ],
   "source": [
    "alt.Chart(predict_polinomyal.melt('year')).mark_line().encode(\n",
    "x='year',\n",
    "y='value',\n",
    "color='variable'\n",
    ").properties(title='prediccion polinomial')"
   ]
  },
  {
   "cell_type": "code",
   "execution_count": 199,
   "metadata": {},
   "outputs": [],
   "source": [
    "predictions=pd.DataFrame({'year':[i for i in range(2020,2026)]})\n",
    "df_predict = pd.DataFrame({'year':['{}'.format(i) for i in range(2020,2026)],\n",
    "    'Lineal':model_linear.predict(predictions),\n",
    "    'Polinomial':model_poly.predict(predictions)})"
   ]
  },
  {
   "cell_type": "code",
   "execution_count": 200,
   "metadata": {},
   "outputs": [
    {
     "data": {
      "text/html": [
       "<div>\n",
       "<style scoped>\n",
       "    .dataframe tbody tr th:only-of-type {\n",
       "        vertical-align: middle;\n",
       "    }\n",
       "\n",
       "    .dataframe tbody tr th {\n",
       "        vertical-align: top;\n",
       "    }\n",
       "\n",
       "    .dataframe thead th {\n",
       "        text-align: right;\n",
       "    }\n",
       "</style>\n",
       "<table border=\"1\" class=\"dataframe\">\n",
       "  <thead>\n",
       "    <tr style=\"text-align: right;\">\n",
       "      <th></th>\n",
       "      <th>year</th>\n",
       "      <th>Lineal</th>\n",
       "      <th>Polinomial</th>\n",
       "    </tr>\n",
       "  </thead>\n",
       "  <tbody>\n",
       "    <tr>\n",
       "      <th>0</th>\n",
       "      <td>2020</td>\n",
       "      <td>4,876.90</td>\n",
       "      <td>5,897.90</td>\n",
       "    </tr>\n",
       "    <tr>\n",
       "      <th>1</th>\n",
       "      <td>2021</td>\n",
       "      <td>4,962.86</td>\n",
       "      <td>6,116.56</td>\n",
       "    </tr>\n",
       "    <tr>\n",
       "      <th>2</th>\n",
       "      <td>2022</td>\n",
       "      <td>5,048.81</td>\n",
       "      <td>6,342.18</td>\n",
       "    </tr>\n",
       "    <tr>\n",
       "      <th>3</th>\n",
       "      <td>2023</td>\n",
       "      <td>5,134.76</td>\n",
       "      <td>6,574.90</td>\n",
       "    </tr>\n",
       "    <tr>\n",
       "      <th>4</th>\n",
       "      <td>2024</td>\n",
       "      <td>5,220.71</td>\n",
       "      <td>6,814.86</td>\n",
       "    </tr>\n",
       "    <tr>\n",
       "      <th>5</th>\n",
       "      <td>2025</td>\n",
       "      <td>5,306.66</td>\n",
       "      <td>7,062.20</td>\n",
       "    </tr>\n",
       "  </tbody>\n",
       "</table>\n",
       "</div>"
      ],
      "text/plain": [
       "   year   Lineal  Polinomial\n",
       "0  2020 4,876.90    5,897.90\n",
       "1  2021 4,962.86    6,116.56\n",
       "2  2022 5,048.81    6,342.18\n",
       "3  2023 5,134.76    6,574.90\n",
       "4  2024 5,220.71    6,814.86\n",
       "5  2025 5,306.66    7,062.20"
      ]
     },
     "execution_count": 200,
     "metadata": {},
     "output_type": "execute_result"
    }
   ],
   "source": [
    "df_predict"
   ]
  },
  {
   "cell_type": "code",
   "execution_count": null,
   "metadata": {},
   "outputs": [],
   "source": []
  },
  {
   "cell_type": "code",
   "execution_count": null,
   "metadata": {},
   "outputs": [],
   "source": []
  }
 ],
 "metadata": {
  "kernelspec": {
   "display_name": "Python 3",
   "language": "python",
   "name": "python3"
  },
  "language_info": {
   "codemirror_mode": {
    "name": "ipython",
    "version": 3
   },
   "file_extension": ".py",
   "mimetype": "text/x-python",
   "name": "python",
   "nbconvert_exporter": "python",
   "pygments_lexer": "ipython3",
   "version": "3.7.6"
  }
 },
 "nbformat": 4,
 "nbformat_minor": 4
}
