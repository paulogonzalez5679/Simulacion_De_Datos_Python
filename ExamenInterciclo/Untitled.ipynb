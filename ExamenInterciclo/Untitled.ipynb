{
 "cells": [
  {
   "cell_type": "markdown",
   "metadata": {},
   "source": [
    "# Diseñe y desarrolle un modelo y/o script que permita simular el siguiente caso real:"
   ]
  },
  {
   "cell_type": "markdown",
   "metadata": {},
   "source": [
    "Obtener datos de tendencia de twitter o facebook(crawler o webscraping), para ello se puede obtener a través del API.\n",
    "\n",
    "Title: Titulo del Post/TwitterWord \n",
    "\n",
    "count: la cantidad de palabras del artículo\n",
    "\n",
    "\\# of Links: los enlaces externos que contiene\n",
    "\n",
    "\\# of comments: cantidad de comentarios\n",
    "\n",
    "\\# Shares: compartidos.HashTagEtc.\n",
    "\n",
    "En base a ello, se pretende proponer y generar una predicción de cuántas veces será compartido un post/twitter utilizando regresión."
   ]
  },
  {
   "cell_type": "markdown",
   "metadata": {},
   "source": [
    "Para la obtencion de datos y generar el dataset trabaje con una libreria llamada tweepy la cual nos permite trabajar en conjunto con la API de Tweeter, para ello debemos tener una cuenta de desarrollador y generar una key con la cual obtendremos la informacion.\n",
    "\n",
    "Hay que toma en cuenta que si no se tiene instalado se debe ejecutar \"!pip install tweepy\".\n",
    "\n",
    "Esta libreria nos retorna un json en donde nostros por medio de una funcion debemos transformalo a un CSV, ya que es mucho mas facil trabjar con ese tipo de archivos"
   ]
  },
  {
   "cell_type": "code",
   "execution_count": 2,
   "metadata": {},
   "outputs": [],
   "source": [
    "#importamos la libreria y json para poder trabajar con la informaicon que obtenemos\n",
    "import tweepy,json"
   ]
  },
  {
   "cell_type": "code",
   "execution_count": 3,
   "metadata": {},
   "outputs": [],
   "source": [
    "#En este punto ingresamos el token y key que nos genero al momento de crear una app en twtitter\n",
    "\n",
    "access_token=\"471944707-4Yt2hcsrdnDbbS3K5uUDg1LW6ZPSMt9BLUdyRliX\"\n",
    "access_token_secret=\"JT1QMhK20INz9yorTeXiOO39whdAuxZRWNqO0H5EhVVPt\"\n",
    "consumer_key=\"KQJ3Lc1BPf0gWKwBGbMiHujkl\"\n",
    "consumer_secret=\"JwZwyeeE1xe5i0EUIulGiR34i1ITRUejS1XjYxCMPjGxYql7j0\"\n",
    "auth= tweepy.OAuthHandler(consumer_key,consumer_secret)\n",
    "auth.set_access_token(access_token,access_token_secret)\n",
    "numero_tweets=1000\n",
    "\n",
    "#Ahora generamos un metodo en el cual obtendremos la informacion de los tweets ademas generaremos el CSV\n",
    "#es decir que lo almacenaremos como en un diccionario\n",
    "\n",
    "tweet_list=[]\n",
    "class MyStreamListener(tweepy.StreamListener):\n",
    "    def __init__(self,api=None):\n",
    "        super(MyStreamListener,self).__init__()\n",
    "        self.num_tweets=0\n",
    "        self.file=open(\"tweet.txt\",\"w\")\n",
    "    def on_status(self,status):\n",
    "        tweet=status._json\n",
    "        self.file.write(json.dumps(tweet)+ '\\n')\n",
    "        tweet_list.append(status)\n",
    "        self.num_tweets+=1\n",
    "        if self.num_tweets<numero_tweets:\n",
    "            return True\n",
    "        else:\n",
    "            return False\n",
    "        self.file.close()\n",
    "l = MyStreamListener()\n",
    "stream =tweepy.Stream(auth,l)\n",
    "#En esta linea filtramos la informacion que vamos a obenter\n",
    "stream.filter(track=['LassoGuillermo'])\n"
   ]
  },
  {
   "cell_type": "code",
   "execution_count": null,
   "metadata": {},
   "outputs": [],
   "source": []
  },
  {
   "cell_type": "code",
   "execution_count": null,
   "metadata": {},
   "outputs": [],
   "source": []
  }
 ],
 "metadata": {
  "kernelspec": {
   "display_name": "Python 3",
   "language": "python",
   "name": "python3"
  },
  "language_info": {
   "codemirror_mode": {
    "name": "ipython",
    "version": 3
   },
   "file_extension": ".py",
   "mimetype": "text/x-python",
   "name": "python",
   "nbconvert_exporter": "python",
   "pygments_lexer": "ipython3",
   "version": "3.8.5"
  }
 },
 "nbformat": 4,
 "nbformat_minor": 4
}
