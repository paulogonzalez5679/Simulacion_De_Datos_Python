{
 "cells": [
  {
   "cell_type": "markdown",
   "metadata": {},
   "source": [
    "# Introduccion a Simpy"
   ]
  },
  {
   "cell_type": "markdown",
   "metadata": {},
   "source": [
    "### Ejemplo del negocio de lavado de autos"
   ]
  },
  {
   "cell_type": "markdown",
   "metadata": {},
   "source": [
    "Este ejemplo permite simular un negocio de lavado de automóviles. De igual forma, es importante destacar que este ejemplo aborda los siguientes puntos:\n",
    "- Estados de espera por otros procesos\n",
    "- Recursos: clase Resource"
   ]
  },
  {
   "cell_type": "markdown",
   "metadata": {},
   "source": [
    "### Características del sistema real a simular"
   ]
  },
  {
   "cell_type": "markdown",
   "metadata": {},
   "source": [
    "Es importante observar que el negocio de lavado de autos tiene características propias a su naturaleza. A continuación establecemos dichas peculiaridades a tener en mente en el momento de llevar a cabo la simulación:\n",
    "- El negocio tiene un número limitado de máquinas de lavado.\n",
    "- Se puede recibir un cierto número de vehículos para ser lavados, de los cuáles los que no estén siendo procesados tendrán que esperar.\n",
    "- Una vez que un vehículo entra a la máquina, debe ser lavado y solo al finalizar la limpieza podrá salir de la misma, dejando un espacio libre a otro vehículo."
   ]
  },
  {
   "cell_type": "markdown",
   "metadata": {},
   "source": [
    "### Desarrollo de la simulación"
   ]
  },
  {
   "cell_type": "markdown",
   "metadata": {},
   "source": [
    "Como primer paso, importamos las librerías necesarias y establecemos los parámetros requeridos:\n",
    "- Variables de interésTiempo de simulación\n",
    "- Parámetros de inicialización (número de máquinas, tiempo de lavado, intervalo de llegada de vehículos).\n",
    "- Considerar 3 tipos de vehículos con 3 diferentes tiempos de lavado:\n",
    "    - Bus: 20 minutos\n",
    "    - Automóvil: 7 minutos\n",
    "    - Furgoneta: 12 minutos\n",
    "- Considere que a partir de la entrada del vehículo para ser lavado, deberán tomarse en cuenta los siguientes tiempos correspondientes al proceso de traslado desde la recepción a la máquina de lavado:\n",
    "    - Bus: 4 minutos\n",
    "    - Automóvil: 1 minuto\n",
    "    - Furgoneta: 2 minutos\n",
    "- Realice una gráfica comparativa de la simulación con 3 y con 4 máquinas de lavado"
   ]
  },
  {
   "cell_type": "code",
   "execution_count": 1,
   "metadata": {},
   "outputs": [],
   "source": [
    "import simpy\n",
    "import random\n",
    "import numpy as np"
   ]
  },
  {
   "cell_type": "code",
   "execution_count": 2,
   "metadata": {},
   "outputs": [],
   "source": [
    "# Maximo de vehiculos que puede recibir el negocio\n",
    "MAX_VEHICULOS = 57 \n",
    "# Total de maquinas de lavado con que cuenta el negocio\n",
    "NUM_MAQUINAS = 3\n",
    "# Tiempo que tarda en lavarse un vehiculo (minutos)\n",
    "TIEMPO_LAVADO = {1:20, 2:7, 3:12}\n",
    "# Intervalo de tiempo en que llegan vehiculos (minutos)\n",
    "INTERVALO_LLEGADA = 9\n",
    "# Tiempo de simulación\n",
    "TIEMPO_SIMULACION = 60\n",
    "# Vehiculos\n",
    "VEHICULOS = {1:'Bus', 2:'Automóvil', 3:'Furgoneta'}\n",
    "# Tiempo de traslado hasta la máquina (minutos)\n",
    "TIEMPO_TRASLADO = {1:4, 2:1, 3:2}\n",
    "# Diccionario con las máquinas de lavado estado inicial libre\n",
    "MAQUINASLIBRES = {}\n",
    "keys = range(NUM_MAQUINAS)\n",
    "values = [\"Libre\"]"
   ]
  },
  {
   "cell_type": "code",
   "execution_count": 3,
   "metadata": {},
   "outputs": [
    {
     "name": "stdout",
     "output_type": "stream",
     "text": [
      "Lavanderia UPS- By: Paulo Gonzalez\n",
      "Llega vehículo: Automóvil a la hora 0.00.\n",
      "Llega vehículo: Bus a la hora 0.00.\n",
      "Llega vehículo: Bus a la hora 0.00.\n",
      "Vehiculo [Automóvil] ASIGNADO a la máquina: 1.\n",
      "Entra [Automóvil] a lavarse a la hora 1.00.\n",
      "Vehiculo [Bus] ASIGNADO a la máquina: 2.\n",
      "Entra [Bus] a lavarse a la hora 4.00.\n",
      "Vehiculo [Bus] ASIGNADO a la máquina: 3.\n",
      "Entra [Bus] a lavarse a la hora 4.00.\n",
      "Vehiculo [Automóvil] SALE lavado a las 8.00 de la máquina: 1.\n",
      "Vehiculo [Automóvil] abandona la lavanderia a las: 9.00.\n",
      "Llega vehículo: Furgoneta a la hora 18.00.\n",
      "Vehiculo [Furgoneta] ASIGNADO a la máquina: 1.\n",
      "Entra [Furgoneta] a lavarse a la hora 20.00.\n",
      "Vehiculo [Bus] SALE lavado a las 24.00 de la máquina: 2.\n",
      "Vehiculo [Bus] SALE lavado a las 24.00 de la máquina: 3.\n",
      "Vehiculo [Bus] abandona la lavanderia a las: 25.00.\n",
      "Vehiculo [Bus] abandona la lavanderia a las: 25.00.\n",
      "Llega vehículo: Automóvil a la hora 26.00.\n",
      "Vehiculo [Automóvil] ASIGNADO a la máquina: 2.\n",
      "Entra [Automóvil] a lavarse a la hora 27.00.\n",
      "Vehiculo [Furgoneta] SALE lavado a las 32.00 de la máquina: 1.\n",
      "Vehiculo [Furgoneta] abandona la lavanderia a las: 33.00.\n",
      "Vehiculo [Automóvil] SALE lavado a las 34.00 de la máquina: 2.\n",
      "Llega vehículo: Bus a la hora 35.00.\n",
      "Vehiculo [Automóvil] abandona la lavanderia a las: 35.00.\n",
      "Vehiculo [Bus] ASIGNADO a la máquina: 1.\n",
      "Entra [Bus] a lavarse a la hora 39.00.\n",
      "Llega vehículo: Automóvil a la hora 42.00.\n",
      "Vehiculo [Automóvil] ASIGNADO a la máquina: 2.\n",
      "Entra [Automóvil] a lavarse a la hora 43.00.\n",
      "Vehiculo [Automóvil] SALE lavado a las 50.00 de la máquina: 2.\n",
      "Vehiculo [Automóvil] abandona la lavanderia a las: 51.00.\n",
      "Llega vehículo: Furgoneta a la hora 53.00.\n",
      "Vehiculo [Furgoneta] ASIGNADO a la máquina: 2.\n",
      "Entra [Furgoneta] a lavarse a la hora 55.00.\n",
      "Vehiculo [Bus] SALE lavado a las 59.00 de la máquina: 1.\n",
      "{0: 3, 1: 4, 2: 1}\n"
     ]
    }
   ],
   "source": [
    "for i in keys:\n",
    "        MAQUINASLIBRES[i] = values[0]\n",
    "        \n",
    "cantidadVehiculos={}\n",
    "keys = range(NUM_MAQUINAS)\n",
    "values = [0]\n",
    "for i in keys:\n",
    "        cantidadVehiculos[i] = values[0]\n",
    "\n",
    "class Lavanderia(object):\n",
    "    \n",
    "    def __init__(self, environment, num_maquinas, tiempo_lavado):\n",
    "        # Guardamos como variable el entorno de ejecucion\n",
    "        self.env=environment\n",
    "        # Creamos el recurso que representa las maquinas\n",
    "        self.maquinas = simpy.Resource(environment, num_maquinas)\n",
    "        # Variable para el tiempo de lavado\n",
    "        self.tiempo_lavado = tiempo_lavado\n",
    "        \n",
    "    def lavar_vehiculo(self, vehiculoIndex):\n",
    "        # Este metodo representa el proceso de lavado del vehículo.\n",
    "        # Se ingresa el vehículo y se lava\n",
    "        \n",
    "        # Simulamos el tiempo que tarda en lavarse el vehiculo\n",
    "        # Es importante notar que la instruccion \"yield\" es distinta de \"sleep\"\n",
    "        # ya que esta ultima bloquea el hilo de ejecucion durante 't' unidades de tiempo,\n",
    "        # mientras que 'yield' no bloquea el hilo de ejecucion, solo lo suspende mientras\n",
    "        # el evento de 'lavado' se realice                \n",
    "        yield self.env.timeout(TIEMPO_LAVADO.get(vehiculoIndex))\n",
    "        \n",
    "        # Simulamos que se ha limpiado parte (%) de la suciedad del vehiculo\n",
    "        # Para el % generamos un entero entre 30 y 90\n",
    "        #print('Removido  {%d%%} suciedad vehiculo => %s ' \\  % (random.randint(30,90), vehiculo))\n",
    "        \n",
    "    def maquinaLibre(self, key):\n",
    "        if MAQUINASLIBRES.get(key) == 'Libre':\n",
    "            return True\n",
    "        else:\n",
    "            return False\n",
    "        \n",
    "    def llegarMaquina(self, vehiculoId):\n",
    "        # Este método  representa el tiempo desde la llegada del vehículo hasta ser transportardo \n",
    "        # hacia una máquina de lavado            \n",
    "        yield self.env.timeout(TIEMPO_TRASLADO.get(vehiculoId))\n",
    "    \n",
    "    def abandonarLavanderia(self):\n",
    "        # Este método representa el tiempo desde que el vehículo termina de ser lavado y abandona\n",
    "        # la lavanderia.\n",
    "        yield self.env.timeout(1)\n",
    "       \n",
    "    \n",
    "def llegada_vehiculo(env, vehiculoId, lavanderia,idMaquina):\n",
    "    # Usamos el reloj de la simulacion (env.now()) para indicar a la\n",
    "    # hora que llega el vehiculo con el nombre pasado como parametro\n",
    "    print('Llega vehículo: %s a la hora %.2f.' % (VEHICULOS.get(vehiculoId), env.now))\n",
    "         \n",
    "    # Especificamos que vamos a usar un recurso (Resource) que representa\n",
    "    # la maquina de lavado      \n",
    "    with lavanderia.maquinas.request() as maquina:\n",
    "        # Ocupamos la maquina de lavado\n",
    "        yield maquina\n",
    "\n",
    "        # Indicamos que vehiculo fue transportado desde la entrada hacia una máquina\n",
    "        # de lavado.\n",
    "        yield env.process(lavanderia.llegarMaquina(vehiculoId))\n",
    "        print('Vehiculo [%s] ASIGNADO a la máquina: %s.' % (VEHICULOS.get(vehiculoId), idMaquina+1))\n",
    "        \n",
    "        # El vehiculo entra a ser lavado en una máquina designada\n",
    "        print('Entra [%s] a lavarse a la hora %.2f.' % (VEHICULOS.get(vehiculoId), env.now))\n",
    "\n",
    "        # Procesamos la operacion de lavado\n",
    "        yield env.process(lavanderia.lavar_vehiculo(vehiculoId))\n",
    "        # Una vez que termina la llamada con 'yield', se indica que se ha lavado el vehiculo\n",
    "        print('Vehiculo [%s] SALE lavado a las %.2f de la máquina: %s.' % (VEHICULOS.get(vehiculoId), env.now, idMaquina+1))\n",
    "\n",
    "        # Finalizado el proceso de lavado del vehículo, transcurre un tiempo hasta que abandona\n",
    "        # la máquina y sale de la lavanderia.\n",
    "        yield env.process(lavanderia.abandonarLavanderia())    \n",
    "        MAQUINASLIBRES[idMaquina]='Libre'\n",
    "        print('Vehiculo [%s] abandona la lavanderia a las: %.2f.' % (VEHICULOS.get(vehiculoId), env.now))\n",
    "            \n",
    "def ejecutar_simulacion(env, num_maquinas, tiempo_lavado, intervalo):\n",
    "    lavanderia=Lavanderia(env, num_maquinas, tiempo_lavado)\n",
    "    # Creamos 3 llegadas de vehiculos iniciales\n",
    "    for i in range(3):\n",
    "        for j in range(num_maquinas):\n",
    "            if lavanderia.maquinaLibre(j):\n",
    "                MAQUINASLIBRES[j]='Ocupada'\n",
    "                env.process(llegada_vehiculo(env, random.randint(1,3), lavanderia,j))\n",
    "                cantidadVehiculos[j]+=1\n",
    "                break;\n",
    "            else:\n",
    "                j-=1\n",
    "                i-=1\n",
    "                \n",
    "    # Ejecutamos la simulacion\n",
    "    while True:\n",
    "        yield env.timeout(random.randint(intervalo-2, intervalo+2))\n",
    "        #Mientras se lavan los vehiculos generamos mas vehiculos\n",
    "        for j in range(num_maquinas):\n",
    "            if lavanderia.maquinaLibre(j):\n",
    "                MAQUINASLIBRES[j]='Ocupada'\n",
    "                env.process(llegada_vehiculo(env, random.randint(1,3), lavanderia,j))\n",
    "                cantidadVehiculos[j]+=1\n",
    "                break;\n",
    "            else:\n",
    "                j=0\n",
    "        \n",
    "        \n",
    "print('Lavanderia UPS- By: Paulo Gonzalez')\n",
    "# Inicializamos la semilla aleatoria\n",
    "#random.seed(33)\n",
    "\n",
    "# Creamos el entorno de simulacion\n",
    "env=simpy.Environment()\n",
    "env.process(ejecutar_simulacion(env, NUM_MAQUINAS, TIEMPO_LAVADO, INTERVALO_LLEGADA))\n",
    "# Ejecutamos el proceso durante el tiempo de simulacion\n",
    "env.run(until= TIEMPO_SIMULACION) \n",
    "print(cantidadVehiculos)"
   ]
  },
  {
   "cell_type": "code",
   "execution_count": 7,
   "metadata": {},
   "outputs": [
    {
     "data": {
      "image/png": "[encoded data removed]",
      "text/plain": [
       "<Figure size 432x288 with 1 Axes>"
      ]
     },
     "metadata": {
      "needs_background": "light"
     },
     "output_type": "display_data"
    }
   ],
   "source": [
    "import matplotlib.pyplot as plt\n",
    "maquinas = ['Máquina1', 'Máquina2', 'Máquina3']\n",
    "values = cantidadVehiculos.values()\n",
    "\n",
    "plt.bar(maquinas, values)\n",
    "plt.xlabel('Máquinas') \n",
    "plt.ylabel('Cantidad de vehículos lavados') \n",
    "  \n",
    "# displaying the title\n",
    "plt.title(\"Lavandería UPS - By Paulo Gonzalez - Trabajando con 3 maquinas de lavado\")\n",
    "plt.show()"
   ]
  },
  {
   "cell_type": "code",
   "execution_count": null,
   "metadata": {},
   "outputs": [],
   "source": []
  },
  {
   "cell_type": "code",
   "execution_count": null,
   "metadata": {},
   "outputs": [],
   "source": []
  }
 ],
 "metadata": {
  "kernelspec": {
   "display_name": "Python 3",
   "language": "python",
   "name": "python3"
  },
  "language_info": {
   "codemirror_mode": {
    "name": "ipython",
    "version": 3
   },
   "file_extension": ".py",
   "mimetype": "text/x-python",
   "name": "python",
   "nbconvert_exporter": "python",
   "pygments_lexer": "ipython3",
   "version": "3.8.5"
  }
 },
 "nbformat": 4,
 "nbformat_minor": 4
}
