{
 "cells": [
  {
   "cell_type": "markdown",
   "metadata": {},
   "source": [
    "# Prueba 2"
   ]
  },
  {
   "cell_type": "markdown",
   "metadata": {},
   "source": [
    "### Nombre: \n",
    "Paulo Gonzalez"
   ]
  },
  {
   "cell_type": "markdown",
   "metadata": {},
   "source": [
    "### Introducción:\n",
    "\n",
    "El golpe económico de la crisis sanitaria del corona virus no va a ser cosa de semanas, sino de meses. Dentro de una de las etapas importantes posteriores a las elecciones presidenciales son la re activación de los pequeños comercios y/o centros educativos. Para ello se plantea realizar  un modelo de simulación de eventos discretos que permita determinar cual son los principales factores para la re activación económica en el ingreso a las aulas de los estudiantes.\n",
    "\n",
    "### Enunciado:\n",
    "\n",
    "Diseñe y desarrolle un modelo y/o script que permita simular el siguiente caso real:\n",
    "En base a los datos del siguiente link https://educacion.gob.ec/wp-content/uploads/downloads/2012/08/AZUAY11.pdf, genere una simulación del ingreso de los estudiantes, para ello debemos escoger un establecimiento y en base a los docentes y estudiantes modelar el reingreso de los estudiantes en base a los siguientes datos.\n",
    "- Solo se va a tener en cuanta uno de los planteles educativos(Escuela, colegio, universidad dentro del Azuay).\n",
    "- Se tiene un promedio que el 90% de los docentes han sido vacunados y pueden realizar el proceso de ingreso en cada uno de los cursos.\n",
    "- Dentro del proceso se tiene que alrededor del 5% - 10% de los estudiantes no podrán asistir debido a que no presentan la vacuna/enfermedades.\n",
    "- Los estudiantes solo pertenecen a una sola entidad educativa al igual que los docentes.Se va  a tener un periodo de prueba de un mes, posterior a ello se realiza al azar al 10% de estudiantes una prueba PCR para validar que no estén contagiados.\n",
    "- De la ultima el 2% de los estudiantes dan positivo por lo que se cierra el curso completo.Los estudiantes asisten cada semana y estos están en un horario de 6 horas ya sea diurno o nocturno.\n",
    "- Tienen un receso 30 minutos dentro del establecimiento en donde se concentran todos los estudiantes y es un foco de contagio del 2%.El proceso de simulación desarrollado deberá considerar los siguientes aspectos:\n",
    "\n",
    "    - Generar un cuaderno de Python para el desarrollo y parametrización de graficas, reportes, y animación (Simpy).Generar una animación en 2D/3D del modelo propuesto.Obtener los siguientes análisis:\n",
    "    - Cuantos contagiados tengo al final del mes.\n",
    "    - Cuantos cursos debo cerrar.\n",
    "    - Cuantos estudiantes y docentes ingresan y salen al final del mes.\n",
    "    - Opinión\n",
    "    - Conclusiones\n",
    "    - Recomendaciones."
   ]
  },
  {
   "cell_type": "markdown",
   "metadata": {},
   "source": [
    "### Datos\n",
    "   ### - Institución: Colegio Miguel Merchán\n",
    "   ### - Docentes: 77\n",
    "   ### - Estudiantes: 1333\n",
    "   ###  - Cursos: 23"
   ]
  },
  {
   "cell_type": "code",
   "execution_count": 125,
   "metadata": {},
   "outputs": [],
   "source": [
    "#importacion de librerias \n",
    "import simpy\n",
    "import random\n",
    "import matplotlib.pyplot as mpt\n",
    "import math\n",
    "import pandas as pd\n",
    "import numpy as np\n"
   ]
  },
  {
   "cell_type": "markdown",
   "metadata": {},
   "source": [
    "# Variables"
   ]
  },
  {
   "cell_type": "code",
   "execution_count": 108,
   "metadata": {},
   "outputs": [],
   "source": [
    "\n",
    "NUM_DOCENTES_VACUNADOS  = int((77*90)/100)\n",
    "\n",
    "NUM_ESTUDIANTES_VACUNADOS  = int(1333-(1333*7)/100)+1\n",
    "\n",
    "NUM_ESTUDIANTES_PCR  = int((estudiantes_vacunados*10)/100)\n",
    "\n",
    "NUM_HORAS_CLASE  = 360\n",
    "\n",
    "TIEMPO_AULAS  = 330\n",
    "\n",
    "TIEMPO_RECESO  = 30\n",
    "\n",
    "FOCO_CONTAGIO_RECESO  = int((estudiantes_vacunados*2)/100)+1\n",
    "\n",
    "TIEMPO_SIMULACION   = 40000\n",
    "\n",
    "contagiados = []\n",
    "\n",
    "id_contagiados = []\n",
    "\n",
    "contagiados_pcr = []\n",
    "\n",
    "no_contagiados_pcr = []\n",
    "\n",
    "cursos_cerrados = []\n",
    "\n",
    "estudiantes_cursos = {}\n",
    "\n",
    "estudiantes_prueba_pcr = {}\n",
    "\n",
    "num_estudiantes = {}"
   ]
  },
  {
   "cell_type": "code",
   "execution_count": 109,
   "metadata": {},
   "outputs": [],
   "source": [
    "for i in range(NUM_ESTUDIANTES_VACUNADOS):\n",
    "    estudiantes_cursos[i+1] = i+1,random.randint(1,40)\n",
    "\n",
    "for i in range(NUM_ESTUDIANTES_VACUNADOS):\n",
    "    num_estudiantes[i+1]=\"NoContagiado\",i+1 "
   ]
  },
  {
   "cell_type": "code",
   "execution_count": 112,
   "metadata": {},
   "outputs": [],
   "source": [
    "def contagio(env):\n",
    "    yield env.timeout(TIEMPO_RECESO)\n",
    "    numero_contagiados=0\n",
    "    if(len(contagiados)<=FOCO_CONTAGIO_RECESO):\n",
    "        for i in range(len(num_estudiantes.keys())):\n",
    "            if(numero_contagiados<2):\n",
    "                if(num_estudiantes[i+1][0]==\"NoContagiado\"):\n",
    "                    if((random.randint(1,1000))==5):\n",
    "                        id=num_estudiantes[i+1][1]\n",
    "                        numero_contagiados+=1\n",
    "                        contagiados.append(numero_contagiados)\n",
    "                        id_contagiados.append(id)\n",
    "                        \n",
    "    print('%s' % (numero_contagiados)) \n"
   ]
  },
  {
   "cell_type": "code",
   "execution_count": 113,
   "metadata": {},
   "outputs": [],
   "source": [
    "def estudiantespruebasPCR(env):\n",
    "    yield env.timeout(30)\n",
    "    no_contagiados={}\n",
    "    k=0\n",
    "    for i in range(len(num_estudiantes.keys())):\n",
    "        if(num_estudiantes[i+1][0]==\"NoContagiado\"):\n",
    "            k+=1\n",
    "            no_contagiados[k]=num_estudiantes[i+1]\n",
    "    k=0\n",
    "    for i in range(int(len(no_contagiados.keys()))):\n",
    "        if(int(len(estudiantes_prueba_pcr.keys()))<=int(len(no_contagiados.keys())*10)/100):\n",
    "            if((random.randint(1,10))==5):\n",
    "                k+=1\n",
    "                estudiantes_prueba_pcr[k]=no_contagiados[i+1]\n",
    "    foco_contagio_pcr=int((len(estudiantes_prueba_pcr.keys())*2)/100)\n",
    "    numero_contagiados=0\n",
    "    for i in range(len(estudiantes_prueba_pcr.keys())):\n",
    "        if(len(contagiados_pcr)<foco_contagio_pcr):\n",
    "            if((random.randint(1,10))==5):\n",
    "                id=estudiantes_prueba_pcr[i+1][1]\n",
    "                id_contagiados.append(id)\n",
    "                numero_contagiados+=1\n",
    "                contagiados_pcr.append(numero_contagiados)"
   ]
  },
  {
   "cell_type": "code",
   "execution_count": 114,
   "metadata": {},
   "outputs": [],
   "source": [
    "    \n",
    "def ingresoInstitucion(env):\n",
    "    for i in range(30):\n",
    "        print('*** DIA ',i+1,'***')\n",
    "        print('Ingreso de los estudiantes')  \n",
    "        yield env.process(entrar_aula(env))\n",
    "\n",
    "        print('Registro de contagios:')  \n",
    "        yield env.process(receso(env))\n",
    "        \n",
    "    print('Inicia fase de pruebas PCR')  \n",
    "    yield env.process(prueba_pcr(env))"
   ]
  },
  {
   "cell_type": "code",
   "execution_count": 115,
   "metadata": {},
   "outputs": [
    {
     "name": "stdout",
     "output_type": "stream",
     "text": [
      "INICIO DE SIMULACION\n",
      "*** DIA  1 ***\n",
      "Ingreso de los estudiantes\n",
      "Registro de contagios:\n",
      "2\n",
      "*** DIA  2 ***\n",
      "Ingreso de los estudiantes\n",
      "Registro de contagios:\n",
      "1\n",
      "*** DIA  3 ***\n",
      "Ingreso de los estudiantes\n",
      "Registro de contagios:\n",
      "2\n",
      "*** DIA  4 ***\n",
      "Ingreso de los estudiantes\n",
      "Registro de contagios:\n",
      "2\n",
      "*** DIA  5 ***\n",
      "Ingreso de los estudiantes\n",
      "Registro de contagios:\n",
      "2\n",
      "*** DIA  6 ***\n",
      "Ingreso de los estudiantes\n",
      "Registro de contagios:\n",
      "1\n",
      "*** DIA  7 ***\n",
      "Ingreso de los estudiantes\n",
      "Registro de contagios:\n",
      "2\n",
      "*** DIA  8 ***\n",
      "Ingreso de los estudiantes\n",
      "Registro de contagios:\n",
      "1\n",
      "*** DIA  9 ***\n",
      "Ingreso de los estudiantes\n",
      "Registro de contagios:\n",
      "1\n",
      "*** DIA  10 ***\n",
      "Ingreso de los estudiantes\n",
      "Registro de contagios:\n",
      "0\n",
      "*** DIA  11 ***\n",
      "Ingreso de los estudiantes\n",
      "Registro de contagios:\n",
      "1\n",
      "*** DIA  12 ***\n",
      "Ingreso de los estudiantes\n",
      "Registro de contagios:\n",
      "2\n",
      "*** DIA  13 ***\n",
      "Ingreso de los estudiantes\n",
      "Registro de contagios:\n",
      "2\n",
      "*** DIA  14 ***\n",
      "Ingreso de los estudiantes\n",
      "Registro de contagios:\n",
      "1\n",
      "*** DIA  15 ***\n",
      "Ingreso de los estudiantes\n",
      "Registro de contagios:\n",
      "2\n",
      "*** DIA  16 ***\n",
      "Ingreso de los estudiantes\n",
      "Registro de contagios:\n",
      "0\n",
      "*** DIA  17 ***\n",
      "Ingreso de los estudiantes\n",
      "Registro de contagios:\n",
      "1\n",
      "*** DIA  18 ***\n",
      "Ingreso de los estudiantes\n",
      "Registro de contagios:\n",
      "0\n",
      "*** DIA  19 ***\n",
      "Ingreso de los estudiantes\n",
      "Registro de contagios:\n",
      "2\n",
      "*** DIA  20 ***\n",
      "Ingreso de los estudiantes\n",
      "Registro de contagios:\n",
      "1\n",
      "*** DIA  21 ***\n",
      "Ingreso de los estudiantes\n",
      "Registro de contagios:\n",
      "0\n",
      "*** DIA  22 ***\n",
      "Ingreso de los estudiantes\n",
      "Registro de contagios:\n",
      "0\n",
      "*** DIA  23 ***\n",
      "Ingreso de los estudiantes\n",
      "Registro de contagios:\n",
      "0\n",
      "*** DIA  24 ***\n",
      "Ingreso de los estudiantes\n",
      "Registro de contagios:\n",
      "0\n",
      "*** DIA  25 ***\n",
      "Ingreso de los estudiantes\n",
      "Registro de contagios:\n",
      "0\n",
      "*** DIA  26 ***\n",
      "Ingreso de los estudiantes\n",
      "Registro de contagios:\n",
      "0\n",
      "*** DIA  27 ***\n",
      "Ingreso de los estudiantes\n",
      "Registro de contagios:\n",
      "0\n",
      "*** DIA  28 ***\n",
      "Ingreso de los estudiantes\n",
      "Registro de contagios:\n",
      "0\n",
      "*** DIA  29 ***\n",
      "Ingreso de los estudiantes\n",
      "Registro de contagios:\n",
      "0\n",
      "*** DIA  30 ***\n",
      "Ingreso de los estudiantes\n",
      "Registro de contagios:\n",
      "0\n",
      "Inicia fase de pruebas PCR\n"
     ]
    }
   ],
   "source": [
    "print('INICIO DE SIMULACION')\n",
    "env=simpy.Environment()\n",
    "env.process(entrada_clases(env))\n",
    "env.run(until = TIEMPO_SIMULACION)\n",
    "num_estudiantes_pcr=int(len(estudiantes_prueba_pcr.keys()))\n",
    "no_contagiados=int(len(num_estudiantes.keys()))-len(contagiados)\n",
    "total_no_cotagiados=NUM_ESTUDIANTES_VACUNADOS-(len(contagiados)+(len(contagiados_pcr)))\n",
    "for i in range(len(id_contagiados)):\n",
    "    for j in range(int(len(estudiantes_cursos.keys()))):\n",
    "        if(estudiantes_cursos[j+1][0]==id_contagiados[i]):\n",
    "            cursos_cerrados.append(estudiantes_cursos[j+1][1])\n",
    "cursos_cerrados = list(dict.fromkeys(cursos_cerrados))\n"
   ]
  },
  {
   "cell_type": "markdown",
   "metadata": {},
   "source": [
    "# Estadísticas generales"
   ]
  },
  {
   "cell_type": "code",
   "execution_count": 116,
   "metadata": {},
   "outputs": [
    {
     "name": "stdout",
     "output_type": "stream",
     "text": [
      "Numero de estudiantes Contagiados:  26\n",
      "Numero de estudiantes No contagiados:  1214\n",
      "Numero de estudiantes que entraron a las pruebas PCR (10% no contagiados):  125\n",
      "Numero de estudiantes positivos en las pruebas PCR:  2\n",
      "Numero de estudiantes negativos en las pruebas PCR:  123\n",
      "Totales Contagiados (DESPUES DE LAS PRUEBAS PCR):  28\n",
      "Totales No contagiados (DESPUES DE LAS PRUEBAS PCR):  1212\n",
      "ID de Cursos a cerrar:  [5, 8, 3, 7, 25, 32, 4, 11, 22, 10, 12, 29, 1, 16, 14, 39, 13, 6, 38, 9, 20, 2]\n",
      "Total cursos a cerrar:  22\n",
      "Id de los estudiantes contagiados:  [23, 873, 825, 58, 759, 541, 999, 33, 141, 646, 190, 326, 690, 609, 829, 1170, 1209, 699, 915, 698, 95, 823, 130, 181, 1143, 317, 103, 178]\n"
     ]
    }
   ],
   "source": [
    "\n",
    "print('Numero de estudiantes Contagiados: ',len(contagiados))\n",
    "\n",
    "print('Numero de estudiantes No contagiados: ',no_contagiados)\n",
    "\n",
    "print('Numero de estudiantes que entraron a las pruebas PCR (10% no contagiados): ',num_estudiantes_pcr)\n",
    "\n",
    "print('Numero de estudiantes positivos en las pruebas PCR: ',len(contagiados_pcr))\n",
    "\n",
    "print('Numero de estudiantes negativos en las pruebas PCR: ',num_estudiantes_pcr-len(contagiados_pcr))\n",
    "\n",
    "print('Totales Contagiados (DESPUES DE LAS PRUEBAS PCR): ',len(contagiados)+(len(contagiados_pcr)))\n",
    "\n",
    "print('Totales No contagiados (DESPUES DE LAS PRUEBAS PCR): ',total_no_cotagiados)\n",
    "\n",
    "print('ID de Cursos a cerrar: ',cursos_cerrados)\n",
    "\n",
    "print('Total cursos a cerrar: ',len(cursos_cerrados))\n",
    "\n",
    "print('Id de los estudiantes contagiados: ',id_contagiados)"
   ]
  },
  {
   "cell_type": "code",
   "execution_count": 124,
   "metadata": {},
   "outputs": [
    {
     "ename": "NameError",
     "evalue": "name 'mtp' is not defined",
     "output_type": "error",
     "traceback": [
      "\u001b[1;31m---------------------------------------------------------------------------\u001b[0m",
      "\u001b[1;31mNameError\u001b[0m                                 Traceback (most recent call last)",
      "\u001b[1;32m<ipython-input-124-2fb0df896f54>\u001b[0m in \u001b[0;36m<module>\u001b[1;34m\u001b[0m\n\u001b[0;32m      3\u001b[0m \u001b[0mlangs\u001b[0m \u001b[1;33m=\u001b[0m \u001b[1;33m[\u001b[0m\u001b[1;34m'Cursos Totales'\u001b[0m\u001b[1;33m,\u001b[0m \u001b[1;34m'Cursos Cerrados'\u001b[0m\u001b[1;33m]\u001b[0m\u001b[1;33m\u001b[0m\u001b[1;33m\u001b[0m\u001b[0m\n\u001b[0;32m      4\u001b[0m \u001b[0mcursos\u001b[0m \u001b[1;33m=\u001b[0m \u001b[1;33m[\u001b[0m\u001b[0mlen\u001b[0m\u001b[1;33m(\u001b[0m\u001b[0mestudiantes_cursos\u001b[0m\u001b[1;33m.\u001b[0m\u001b[0mkeys\u001b[0m\u001b[1;33m(\u001b[0m\u001b[1;33m)\u001b[0m\u001b[1;33m)\u001b[0m\u001b[1;33m,\u001b[0m\u001b[0mlen\u001b[0m\u001b[1;33m(\u001b[0m\u001b[0mcursos_cerrados\u001b[0m\u001b[1;33m)\u001b[0m\u001b[1;33m]\u001b[0m\u001b[1;33m\u001b[0m\u001b[1;33m\u001b[0m\u001b[0m\n\u001b[1;32m----> 5\u001b[1;33m \u001b[0mmtp\u001b[0m\u001b[1;33m.\u001b[0m\u001b[0mtitle\u001b[0m\u001b[1;33m(\u001b[0m\u001b[1;34m'Total de cursos vs Total cursos cerrados'\u001b[0m\u001b[1;33m)\u001b[0m\u001b[1;33m\u001b[0m\u001b[1;33m\u001b[0m\u001b[0m\n\u001b[0m\u001b[0;32m      6\u001b[0m \u001b[0max\u001b[0m\u001b[1;33m.\u001b[0m\u001b[0mbar\u001b[0m\u001b[1;33m(\u001b[0m\u001b[0mlangs\u001b[0m\u001b[1;33m,\u001b[0m\u001b[0mcursos\u001b[0m\u001b[1;33m)\u001b[0m\u001b[1;33m\u001b[0m\u001b[1;33m\u001b[0m\u001b[0m\n\u001b[0;32m      7\u001b[0m \u001b[0mmtp\u001b[0m\u001b[1;33m.\u001b[0m\u001b[0mshow\u001b[0m\u001b[1;33m(\u001b[0m\u001b[1;33m)\u001b[0m\u001b[1;33m\u001b[0m\u001b[1;33m\u001b[0m\u001b[0m\n",
      "\u001b[1;31mNameError\u001b[0m: name 'mtp' is not defined"
     ]
    },
    {
     "data": {
      "image/png": "[encoded data removed]",
      "text/plain": [
       "<Figure size 432x288 with 1 Axes>"
      ]
     },
     "metadata": {
      "needs_background": "light"
     },
     "output_type": "display_data"
    }
   ],
   "source": [
    "fig = pp.figure()\n",
    "ax = fig.add_axes([1,1,1,1])\n",
    "langs = ['Cursos Totales', 'Cursos Cerrados']\n",
    "cursos = [len(estudiantes_cursos.keys()),len(cursos_cerrados)]\n",
    "mpt.title('Total de cursos vs Total cursos cerrados')\n",
    "ax.bar(langs,cursos)\n",
    "mpt.show()"
   ]
  },
  {
   "cell_type": "code",
   "execution_count": null,
   "metadata": {},
   "outputs": [],
   "source": []
  },
  {
   "cell_type": "code",
   "execution_count": null,
   "metadata": {},
   "outputs": [],
   "source": [
    " "
   ]
  },
  {
   "cell_type": "code",
   "execution_count": null,
   "metadata": {},
   "outputs": [],
   "source": []
  },
  {
   "cell_type": "code",
   "execution_count": null,
   "metadata": {},
   "outputs": [],
   "source": []
  },
  {
   "cell_type": "code",
   "execution_count": null,
   "metadata": {},
   "outputs": [],
   "source": []
  }
 ],
 "metadata": {
  "kernelspec": {
   "display_name": "Python 3",
   "language": "python",
   "name": "python3"
  },
  "language_info": {
   "codemirror_mode": {
    "name": "ipython",
    "version": 3
   },
   "file_extension": ".py",
   "mimetype": "text/x-python",
   "name": "python",
   "nbconvert_exporter": "python",
   "pygments_lexer": "ipython3",
   "version": "3.8.5"
  }
 },
 "nbformat": 4,
 "nbformat_minor": 4
}
